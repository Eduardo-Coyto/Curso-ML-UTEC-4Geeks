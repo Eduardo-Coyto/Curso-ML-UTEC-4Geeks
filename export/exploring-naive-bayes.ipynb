{
  "cells": [
    {
      "cell_type": "markdown",
      "metadata": {
        "id": "9T7f_cive5df"
      },
      "source": [
        "# Exploring Naive Bayes"
      ]
    },
    {
      "cell_type": "markdown",
      "metadata": {
        "id": "CF6lC9pMe5dp"
      },
      "source": [
        "In this notebook we are going to introduce a simple example to classify a lot of urls in their category using Naive Bayes. Do not worry about the results we get this time. Just focus on the implementation, because we'll make a brief introduction to two preprocessing steps.\n",
        "\n",
        "Are you wondering if this is already NLP? Well yes, we are getting there, but NLP (natural language processing) will have its own lesson where we'll explain deeper each step."
      ]
    },
    {
      "cell_type": "code",
      "execution_count": 1,
      "metadata": {
        "id": "fhAWAGkbe5dr"
      },
      "outputs": [],
      "source": [
        "import pandas as pd\n",
        "import numpy as np\n",
        "import matplotlib.pyplot as plt\n",
        "%matplotlib inline \n",
        "\n",
        "from sklearn.model_selection import train_test_split\n",
        "from sklearn.feature_extraction.text import TfidfVectorizer\n",
        "from sklearn.feature_extraction.text import TfidfTransformer\n",
        "from sklearn.feature_extraction.text import CountVectorizer\n",
        "from sklearn.naive_bayes import MultinomialNB\n",
        "\n",
        "from sklearn import metrics"
      ]
    },
    {
      "cell_type": "markdown",
      "metadata": {
        "id": "-5zzy6VOe5dt"
      },
      "source": [
        "**1. Load the dataset**"
      ]
    },
    {
      "cell_type": "code",
      "execution_count": 4,
      "metadata": {
        "id": "A0UR8Vebe5du"
      },
      "outputs": [],
      "source": [
        "df=pd.read_csv('https://raw.githubusercontent.com/4GeeksAcademy/machine-learning-content/master/assets/url_dataset.csv')"
      ]
    },
    {
      "cell_type": "markdown",
      "metadata": {
        "id": "VZIDVndUe5dv"
      },
      "source": [
        "**2. Let's look at the distribution of our target variable: the category column**"
      ]
    },
    {
      "cell_type": "code",
      "execution_count": 5,
      "metadata": {
        "id": "uWDepqJQe5dw",
        "outputId": "211233fb-bb68-4697-f5fd-5a1741627932",
        "colab": {
          "base_uri": "https://localhost:8080/",
          "height": 396
        }
      },
      "outputs": [
        {
          "output_type": "execute_result",
          "data": {
            "text/plain": [
              "Text(0, 0.5, 'Total Number Of Individual Category for Training')"
            ]
          },
          "metadata": {},
          "execution_count": 5
        },
        {
          "output_type": "display_data",
          "data": {
            "text/plain": [
              "<Figure size 864x360 with 1 Axes>"
            ],
            "image/png": "[encoded data removed]"
          },
          "metadata": {
            "needs_background": "light"
          }
        }
      ],
      "source": [
        "df.Category.value_counts().plot(figsize=(12,5),kind='bar',color='green');\n",
        "plt.xlabel('Category')\n",
        "plt.ylabel('Total Number Of Individual Category for Training')"
      ]
    },
    {
      "cell_type": "markdown",
      "metadata": {
        "id": "c8mfML1He5dy"
      },
      "source": [
        "Observations: In this case, we have a uniform distribution.\n",
        "\n",
        "**3. Separate target variable (category) from predictor variable (url)**"
      ]
    },
    {
      "cell_type": "code",
      "execution_count": 7,
      "metadata": {
        "id": "PFmDX3Gxe5dz"
      },
      "outputs": [],
      "source": [
        "#Separate predictor from target\n",
        "\n",
        "X =df['URL']\n",
        "y=df['Category']"
      ]
    },
    {
      "cell_type": "markdown",
      "metadata": {
        "id": "XTetVLXQe5d1"
      },
      "source": [
        "**4. Split data in train and test sets**"
      ]
    },
    {
      "cell_type": "code",
      "execution_count": 8,
      "metadata": {
        "id": "aC9w_1d8e5d1"
      },
      "outputs": [],
      "source": [
        "#Split data in train and test\n",
        "\n",
        "X_train, X_test, y_train, y_test = train_test_split(X, y,test_size=0.3, random_state = 0)"
      ]
    },
    {
      "cell_type": "markdown",
      "metadata": {
        "id": "UIFCmI5Ie5d2"
      },
      "source": [
        "**5. Create a pipeline with 2 preprocessing steps and 1 modeling step**\n",
        "\n",
        "Here, we'll make a brief introduction to CountVectorizer and TfidfTransformer as preprocessing steps for managing texts. Don't worry, you will learn much more about them in the NLP module.\n",
        "\n",
        "- CountVectorizer:\n",
        "\n",
        "CountVectorizer is a great tool provided by the scikit-learn library in Python. It is used to transform a given text into a vector on the basis of the frequency (count) of each word that occurs in the entire text. It works by creating a matrix in which each unique word is represented by a column of the matrix.\n",
        "This implementation produces a sparse representation of the counts using scipy.sparse.\n",
        "\n",
        "- TfidfTransformer:\n",
        "\n",
        "It transforms a count matrix to a normalized tf or tf-idf representation. Tf means term-frequency while tf-idf means term-frequency times inverse document-frequency. This is a common term weighting scheme in information retrieval, that has also found good use in document classification."
      ]
    },
    {
      "cell_type": "code",
      "execution_count": 9,
      "metadata": {
        "id": "zNGk76yXe5d4",
        "outputId": "ad33be60-6fa5-4ccc-9f0c-57d2d7be088e",
        "colab": {
          "base_uri": "https://localhost:8080/"
        }
      },
      "outputs": [
        {
          "output_type": "execute_result",
          "data": {
            "text/plain": [
              "Pipeline(steps=[('vect', CountVectorizer()), ('tfidf', TfidfTransformer()),\n",
              "                ('clf', MultinomialNB())])"
            ]
          },
          "metadata": {},
          "execution_count": 9
        }
      ],
      "source": [
        "# Create a pipeline with the two preprocessing steps and the modeling step with the algorithm chosen\n",
        "\n",
        "from sklearn.pipeline import Pipeline\n",
        "text_clf = Pipeline([('vect', CountVectorizer()), ('tfidf', TfidfTransformer()), ('clf', MultinomialNB())])\n",
        "text_clf.fit(X_train, y_train)"
      ]
    },
    {
      "cell_type": "markdown",
      "metadata": {
        "id": "r1YvnT7Fe5d5"
      },
      "source": [
        "**6. Let's check some results we got**"
      ]
    },
    {
      "cell_type": "code",
      "execution_count": 10,
      "metadata": {
        "id": "wuFOVmT_e5d6",
        "outputId": "05d22e54-b1b0-419d-d305-0b575ef4a8bd",
        "colab": {
          "base_uri": "https://localhost:8080/"
        }
      },
      "outputs": [
        {
          "output_type": "execute_result",
          "data": {
            "text/plain": [
              "(0.5798207299653638, 0.39744444444444443, 0.3950741953806211, None)"
            ]
          },
          "metadata": {},
          "execution_count": 10
        }
      ],
      "source": [
        "from sklearn.metrics import precision_recall_fscore_support\n",
        "from sklearn.metrics import confusion_matrix\n",
        "\n",
        "y_pred = text_clf.predict(X_test)\n",
        "precision_recall_fscore_support(y_test, y_pred, average='weighted')"
      ]
    },
    {
      "cell_type": "code",
      "execution_count": 11,
      "metadata": {
        "id": "ssNjs52se5d6",
        "outputId": "8a88f601-0d80-4460-86c2-3d86cf991bf1",
        "colab": {
          "base_uri": "https://localhost:8080/"
        }
      },
      "outputs": [
        {
          "output_type": "stream",
          "name": "stdout",
          "text": [
            "Naive Bayes Train Accuracy =  0.9343809523809524\n",
            "Naive Bayes Test Accuracy =  0.39744444444444443\n"
          ]
        }
      ],
      "source": [
        "print('Naive Bayes Train Accuracy = ',metrics.accuracy_score(y_train,text_clf.predict(X_train)))\n",
        "print('Naive Bayes Test Accuracy = ',metrics.accuracy_score(y_test,text_clf.predict(X_test)))"
      ]
    },
    {
      "cell_type": "markdown",
      "metadata": {
        "id": "X3dtM7o-e5d7"
      },
      "source": [
        "**7. An example of a randomized search using the classifier pipeline (text_clf)**"
      ]
    },
    {
      "cell_type": "code",
      "execution_count": 12,
      "metadata": {
        "id": "YxU16U95e5d8",
        "outputId": "1114c81e-588b-4047-f931-4ce8a52a84b0",
        "colab": {
          "base_uri": "https://localhost:8080/"
        }
      },
      "outputs": [
        {
          "output_type": "execute_result",
          "data": {
            "text/plain": [
              "RandomizedSearchCV(estimator=Pipeline(steps=[('vect', CountVectorizer()),\n",
              "                                             ('tfidf', TfidfTransformer()),\n",
              "                                             ('clf', MultinomialNB())]),\n",
              "                   n_iter=5,\n",
              "                   param_distributions={'clf__alpha': (0.01, 0.001),\n",
              "                                        'tfidf__use_idf': (True, False),\n",
              "                                        'vect__ngram_range': [(1, 1), (1, 2)]})"
            ]
          },
          "metadata": {},
          "execution_count": 12
        }
      ],
      "source": [
        "# Look for the best parameters with a Randomized Search\n",
        "\n",
        "from sklearn.model_selection import RandomizedSearchCV\n",
        "n_iter_search = 5\n",
        "parameters = {'vect__ngram_range': [(1, 1), (1, 2)], 'tfidf__use_idf': (True, False), 'clf__alpha': (1e-2, 1e-3)}\n",
        "gs_clf = RandomizedSearchCV(text_clf, parameters, n_iter = n_iter_search)\n",
        "gs_clf.fit(X_train, y_train)"
      ]
    },
    {
      "cell_type": "code",
      "execution_count": 13,
      "metadata": {
        "id": "rHA9LjUTe5d8",
        "outputId": "d7e49940-4bdd-46be-c9c2-eb2af04b79a0",
        "colab": {
          "base_uri": "https://localhost:8080/"
        }
      },
      "outputs": [
        {
          "output_type": "execute_result",
          "data": {
            "text/plain": [
              "{'clf__alpha': 0.01, 'tfidf__use_idf': True, 'vect__ngram_range': (1, 1)}"
            ]
          },
          "metadata": {},
          "execution_count": 13
        }
      ],
      "source": [
        "gs_clf.best_params_"
      ]
    },
    {
      "cell_type": "code",
      "execution_count": 14,
      "metadata": {
        "id": "-lIDwTMge5d9",
        "outputId": "dd4c6bc2-24df-49b7-ce4f-bd8d66a0dfe3",
        "colab": {
          "base_uri": "https://localhost:8080/"
        }
      },
      "outputs": [
        {
          "output_type": "stream",
          "name": "stdout",
          "text": [
            "Naive Bayes Train Accuracy =  0.9955714285714286\n",
            "Naive Bayes Test Accuracy =  0.41155555555555556\n"
          ]
        }
      ],
      "source": [
        "print('Naive Bayes Train Accuracy = ',metrics.accuracy_score(y_train,gs_clf.predict(X_train)))\n",
        "print('Naive Bayes Test Accuracy = ',metrics.accuracy_score(y_test,gs_clf.predict(X_test)))"
      ]
    },
    {
      "cell_type": "markdown",
      "metadata": {
        "id": "fM3RVyrCe5d9"
      },
      "source": [
        "Again, we are not focusing on the results this time, just on the implementation for a text classifier using Naive Bayes. But, as you are already becoming a machine learning engineer, what is your opinion about the results we got? Is it a good result? Is there any reason for that result? any possible solution?"
      ]
    },
    {
      "cell_type": "markdown",
      "metadata": {
        "id": "Im9YXYWNe5d-"
      },
      "source": [
        "Now, using that score, we will try to predict a couple of urls."
      ]
    },
    {
      "cell_type": "code",
      "execution_count": 15,
      "metadata": {
        "id": "D_SGRTr0e5d-",
        "outputId": "fcaaf4d9-d04d-49e9-f9cf-fba3ce993705",
        "colab": {
          "base_uri": "https://localhost:8080/"
        }
      },
      "outputs": [
        {
          "output_type": "stream",
          "name": "stdout",
          "text": [
            "['Computers']\n",
            "['Kids']\n"
          ]
        }
      ],
      "source": [
        "#Predict a couple of url categories\n",
        "\n",
        "print(gs_clf.predict(['http://www.businesstoday.net/']))\n",
        "print(gs_clf.predict(['http://www.gamespot.net/']))"
      ]
    },
    {
      "cell_type": "markdown",
      "metadata": {
        "id": "e9kHrBB6e5d_"
      },
      "source": [
        "Source: \n",
        "\n",
        "https://scikit-learn.org/stable/modules/generated/sklearn.feature_extraction.text.TfidfTransformer.html\n",
        "\n",
        "https://scikit-learn.org/stable/modules/generated/sklearn.feature_extraction.text.CountVectorizer.html\n",
        "\n",
        "https://github.com/pb111/Naive-Bayes-Classification-Project\n",
        "\n",
        "https://www.kaggle.com/code/shawon10/url-classification-by-naive-bayes/notebook\n",
        "\n",
        "https://github.com/Hrd2D/Sentiment-analysis-on-Google-Play-store-apps-reviews/blob/master/main.ipynb\n",
        "\n"
      ]
    }
  ],
  "metadata": {
    "kernelspec": {
      "display_name": "Python 3.8.13 64-bit ('3.8.13')",
      "language": "python",
      "name": "python3"
    },
    "language_info": {
      "codemirror_mode": {
        "name": "ipython",
        "version": 3
      },
      "file_extension": ".py",
      "mimetype": "text/x-python",
      "name": "python",
      "nbconvert_exporter": "python",
      "pygments_lexer": "ipython3",
      "version": "3.8.13"
    },
    "orig_nbformat": 4,
    "vscode": {
      "interpreter": {
        "hash": "110cc1dee26208153f2972f08a2ad52b6a56238dc66d48e87fb757ef2996db56"
      }
    },
    "colab": {
      "name": "exploring-naive-bayes.ipynb",
      "provenance": []
    }
  },
  "nbformat": 4,
  "nbformat_minor": 0
}