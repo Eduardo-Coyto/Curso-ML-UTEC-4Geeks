{
  "nbformat": 4,
  "nbformat_minor": 0,
  "metadata": {
    "colab": {
      "name": "Ej de ML en clase.ipynb",
      "provenance": [],
      "collapsed_sections": [],
      "authorship_tag": "ABX9TyNOZFElhFbhzNBfeSAucSBH",
      "include_colab_link": true
    },
    "kernelspec": {
      "name": "python3",
      "display_name": "Python 3"
    },
    "language_info": {
      "name": "python"
    }
  },
  "cells": [
    {
      "cell_type": "markdown",
      "metadata": {
        "id": "view-in-github",
        "colab_type": "text"
      },
      "source": [
        "<a href=\"https://colab.research.google.com/github/Eduardo-Coyto/ML-UTEC-4Geeks/blob/Machine-Learning/Ej_de_ML_en_clase.ipynb\" target=\"_parent\"><img src=\"https://colab.research.google.com/assets/colab-badge.svg\" alt=\"Open In Colab\"/></a>"
      ]
    },
    {
      "cell_type": "code",
      "execution_count": 1,
      "metadata": {
        "id": "40uWXQpXMkD1"
      },
      "outputs": [],
      "source": [
        "import pandas as pd\n",
        "import numpy as np\n",
        "import matplotlib.pyplot as plt\n",
        "import seaborn as sns\n",
        "\n",
        "from sklearn.metrics import confusion_matrix\n",
        "from sklearn.metrics import precision_recall_fscore_support\n",
        "from sklearn.model_selection import train_test_split\n"
      ]
    },
    {
      "cell_type": "code",
      "source": [
        "df_raw = pd.read_csv(\"/content/heights.csv\", index_col=0)"
      ],
      "metadata": {
        "id": "tGwoNbyaNIk9"
      },
      "execution_count": 2,
      "outputs": []
    },
    {
      "cell_type": "code",
      "source": [
        "df_raw.info()"
      ],
      "metadata": {
        "colab": {
          "base_uri": "https://localhost:8080/"
        },
        "id": "7E-eBV3yNgTs",
        "outputId": "69f6ddc6-69f4-4697-f923-5ee260065c85"
      },
      "execution_count": 3,
      "outputs": [
        {
          "output_type": "stream",
          "name": "stdout",
          "text": [
            "<class 'pandas.core.frame.DataFrame'>\n",
            "Int64Index: 1050 entries, 1 to 1050\n",
            "Data columns (total 2 columns):\n",
            " #   Column  Non-Null Count  Dtype  \n",
            "---  ------  --------------  -----  \n",
            " 0   sex     1050 non-null   object \n",
            " 1   height  1050 non-null   float64\n",
            "dtypes: float64(1), object(1)\n",
            "memory usage: 24.6+ KB\n"
          ]
        }
      ]
    },
    {
      "cell_type": "code",
      "source": [
        "df_raw.sample(10)"
      ],
      "metadata": {
        "colab": {
          "base_uri": "https://localhost:8080/",
          "height": 363
        },
        "id": "mMpEMkx1NvRE",
        "outputId": "c38d6abc-5def-4b3c-ede0-01aa2029160c"
      },
      "execution_count": 4,
      "outputs": [
        {
          "output_type": "execute_result",
          "data": {
            "text/plain": [
              "        sex  height\n",
              "99     Male    70.0\n",
              "36     Male    69.0\n",
              "830  Female    68.0\n",
              "128  Female    63.0\n",
              "848  Female    70.0\n",
              "15     Male    69.0\n",
              "493    Male    70.8\n",
              "28     Male    72.0\n",
              "322    Male    71.0\n",
              "877  Female    67.0"
            ],
            "text/html": [
              "\n",
              "  <div id=\"df-d307b402-bfea-4f8e-95dc-ac6383805fe0\">\n",
              "    <div class=\"colab-df-container\">\n",
              "      <div>\n",
              "<style scoped>\n",
              "    .dataframe tbody tr th:only-of-type {\n",
              "        vertical-align: middle;\n",
              "    }\n",
              "\n",
              "    .dataframe tbody tr th {\n",
              "        vertical-align: top;\n",
              "    }\n",
              "\n",
              "    .dataframe thead th {\n",
              "        text-align: right;\n",
              "    }\n",
              "</style>\n",
              "<table border=\"1\" class=\"dataframe\">\n",
              "  <thead>\n",
              "    <tr style=\"text-align: right;\">\n",
              "      <th></th>\n",
              "      <th>sex</th>\n",
              "      <th>height</th>\n",
              "    </tr>\n",
              "  </thead>\n",
              "  <tbody>\n",
              "    <tr>\n",
              "      <th>99</th>\n",
              "      <td>Male</td>\n",
              "      <td>70.0</td>\n",
              "    </tr>\n",
              "    <tr>\n",
              "      <th>36</th>\n",
              "      <td>Male</td>\n",
              "      <td>69.0</td>\n",
              "    </tr>\n",
              "    <tr>\n",
              "      <th>830</th>\n",
              "      <td>Female</td>\n",
              "      <td>68.0</td>\n",
              "    </tr>\n",
              "    <tr>\n",
              "      <th>128</th>\n",
              "      <td>Female</td>\n",
              "      <td>63.0</td>\n",
              "    </tr>\n",
              "    <tr>\n",
              "      <th>848</th>\n",
              "      <td>Female</td>\n",
              "      <td>70.0</td>\n",
              "    </tr>\n",
              "    <tr>\n",
              "      <th>15</th>\n",
              "      <td>Male</td>\n",
              "      <td>69.0</td>\n",
              "    </tr>\n",
              "    <tr>\n",
              "      <th>493</th>\n",
              "      <td>Male</td>\n",
              "      <td>70.8</td>\n",
              "    </tr>\n",
              "    <tr>\n",
              "      <th>28</th>\n",
              "      <td>Male</td>\n",
              "      <td>72.0</td>\n",
              "    </tr>\n",
              "    <tr>\n",
              "      <th>322</th>\n",
              "      <td>Male</td>\n",
              "      <td>71.0</td>\n",
              "    </tr>\n",
              "    <tr>\n",
              "      <th>877</th>\n",
              "      <td>Female</td>\n",
              "      <td>67.0</td>\n",
              "    </tr>\n",
              "  </tbody>\n",
              "</table>\n",
              "</div>\n",
              "      <button class=\"colab-df-convert\" onclick=\"convertToInteractive('df-d307b402-bfea-4f8e-95dc-ac6383805fe0')\"\n",
              "              title=\"Convert this dataframe to an interactive table.\"\n",
              "              style=\"display:none;\">\n",
              "        \n",
              "  <svg xmlns=\"http://www.w3.org/2000/svg\" height=\"24px\"viewBox=\"0 0 24 24\"\n",
              "       width=\"24px\">\n",
              "    <path d=\"M0 0h24v24H0V0z\" fill=\"none\"/>\n",
              "    <path d=\"M18.56 5.44l.94 2.06.94-2.06 2.06-.94-2.06-.94-.94-2.06-.94 2.06-2.06.94zm-11 1L8.5 8.5l.94-2.06 2.06-.94-2.06-.94L8.5 2.5l-.94 2.06-2.06.94zm10 10l.94 2.06.94-2.06 2.06-.94-2.06-.94-.94-2.06-.94 2.06-2.06.94z\"/><path d=\"M17.41 7.96l-1.37-1.37c-.4-.4-.92-.59-1.43-.59-.52 0-1.04.2-1.43.59L10.3 9.45l-7.72 7.72c-.78.78-.78 2.05 0 2.83L4 21.41c.39.39.9.59 1.41.59.51 0 1.02-.2 1.41-.59l7.78-7.78 2.81-2.81c.8-.78.8-2.07 0-2.86zM5.41 20L4 18.59l7.72-7.72 1.47 1.35L5.41 20z\"/>\n",
              "  </svg>\n",
              "      </button>\n",
              "      \n",
              "  <style>\n",
              "    .colab-df-container {\n",
              "      display:flex;\n",
              "      flex-wrap:wrap;\n",
              "      gap: 12px;\n",
              "    }\n",
              "\n",
              "    .colab-df-convert {\n",
              "      background-color: #E8F0FE;\n",
              "      border: none;\n",
              "      border-radius: 50%;\n",
              "      cursor: pointer;\n",
              "      display: none;\n",
              "      fill: #1967D2;\n",
              "      height: 32px;\n",
              "      padding: 0 0 0 0;\n",
              "      width: 32px;\n",
              "    }\n",
              "\n",
              "    .colab-df-convert:hover {\n",
              "      background-color: #E2EBFA;\n",
              "      box-shadow: 0px 1px 2px rgba(60, 64, 67, 0.3), 0px 1px 3px 1px rgba(60, 64, 67, 0.15);\n",
              "      fill: #174EA6;\n",
              "    }\n",
              "\n",
              "    [theme=dark] .colab-df-convert {\n",
              "      background-color: #3B4455;\n",
              "      fill: #D2E3FC;\n",
              "    }\n",
              "\n",
              "    [theme=dark] .colab-df-convert:hover {\n",
              "      background-color: #434B5C;\n",
              "      box-shadow: 0px 1px 3px 1px rgba(0, 0, 0, 0.15);\n",
              "      filter: drop-shadow(0px 1px 2px rgba(0, 0, 0, 0.3));\n",
              "      fill: #FFFFFF;\n",
              "    }\n",
              "  </style>\n",
              "\n",
              "      <script>\n",
              "        const buttonEl =\n",
              "          document.querySelector('#df-d307b402-bfea-4f8e-95dc-ac6383805fe0 button.colab-df-convert');\n",
              "        buttonEl.style.display =\n",
              "          google.colab.kernel.accessAllowed ? 'block' : 'none';\n",
              "\n",
              "        async function convertToInteractive(key) {\n",
              "          const element = document.querySelector('#df-d307b402-bfea-4f8e-95dc-ac6383805fe0');\n",
              "          const dataTable =\n",
              "            await google.colab.kernel.invokeFunction('convertToInteractive',\n",
              "                                                     [key], {});\n",
              "          if (!dataTable) return;\n",
              "\n",
              "          const docLinkHtml = 'Like what you see? Visit the ' +\n",
              "            '<a target=\"_blank\" href=https://colab.research.google.com/notebooks/data_table.ipynb>data table notebook</a>'\n",
              "            + ' to learn more about interactive tables.';\n",
              "          element.innerHTML = '';\n",
              "          dataTable['output_type'] = 'display_data';\n",
              "          await google.colab.output.renderOutput(dataTable, element);\n",
              "          const docLink = document.createElement('div');\n",
              "          docLink.innerHTML = docLinkHtml;\n",
              "          element.appendChild(docLink);\n",
              "        }\n",
              "      </script>\n",
              "    </div>\n",
              "  </div>\n",
              "  "
            ]
          },
          "metadata": {},
          "execution_count": 4
        }
      ]
    },
    {
      "cell_type": "code",
      "source": [
        "df_raw['height'] = df_raw['height']*2.54\n",
        "df = df_raw.copy()\n"
      ],
      "metadata": {
        "id": "JdjSrWbiN6vP"
      },
      "execution_count": 5,
      "outputs": []
    },
    {
      "cell_type": "code",
      "source": [
        "df.describe()"
      ],
      "metadata": {
        "colab": {
          "base_uri": "https://localhost:8080/",
          "height": 300
        },
        "id": "aajNkvGQOSDe",
        "outputId": "cf05d9fa-f4b0-4d68-e469-228b34e8abf2"
      },
      "execution_count": 6,
      "outputs": [
        {
          "output_type": "execute_result",
          "data": {
            "text/plain": [
              "            height\n",
              "count  1050.000000\n",
              "mean    173.540454\n",
              "std      10.359687\n",
              "min     127.000000\n",
              "25%     167.640000\n",
              "50%     173.990000\n",
              "75%     180.340000\n",
              "max     210.000000"
            ],
            "text/html": [
              "\n",
              "  <div id=\"df-ce0aa938-95ae-47c5-a276-c465645e1f36\">\n",
              "    <div class=\"colab-df-container\">\n",
              "      <div>\n",
              "<style scoped>\n",
              "    .dataframe tbody tr th:only-of-type {\n",
              "        vertical-align: middle;\n",
              "    }\n",
              "\n",
              "    .dataframe tbody tr th {\n",
              "        vertical-align: top;\n",
              "    }\n",
              "\n",
              "    .dataframe thead th {\n",
              "        text-align: right;\n",
              "    }\n",
              "</style>\n",
              "<table border=\"1\" class=\"dataframe\">\n",
              "  <thead>\n",
              "    <tr style=\"text-align: right;\">\n",
              "      <th></th>\n",
              "      <th>height</th>\n",
              "    </tr>\n",
              "  </thead>\n",
              "  <tbody>\n",
              "    <tr>\n",
              "      <th>count</th>\n",
              "      <td>1050.000000</td>\n",
              "    </tr>\n",
              "    <tr>\n",
              "      <th>mean</th>\n",
              "      <td>173.540454</td>\n",
              "    </tr>\n",
              "    <tr>\n",
              "      <th>std</th>\n",
              "      <td>10.359687</td>\n",
              "    </tr>\n",
              "    <tr>\n",
              "      <th>min</th>\n",
              "      <td>127.000000</td>\n",
              "    </tr>\n",
              "    <tr>\n",
              "      <th>25%</th>\n",
              "      <td>167.640000</td>\n",
              "    </tr>\n",
              "    <tr>\n",
              "      <th>50%</th>\n",
              "      <td>173.990000</td>\n",
              "    </tr>\n",
              "    <tr>\n",
              "      <th>75%</th>\n",
              "      <td>180.340000</td>\n",
              "    </tr>\n",
              "    <tr>\n",
              "      <th>max</th>\n",
              "      <td>210.000000</td>\n",
              "    </tr>\n",
              "  </tbody>\n",
              "</table>\n",
              "</div>\n",
              "      <button class=\"colab-df-convert\" onclick=\"convertToInteractive('df-ce0aa938-95ae-47c5-a276-c465645e1f36')\"\n",
              "              title=\"Convert this dataframe to an interactive table.\"\n",
              "              style=\"display:none;\">\n",
              "        \n",
              "  <svg xmlns=\"http://www.w3.org/2000/svg\" height=\"24px\"viewBox=\"0 0 24 24\"\n",
              "       width=\"24px\">\n",
              "    <path d=\"M0 0h24v24H0V0z\" fill=\"none\"/>\n",
              "    <path d=\"M18.56 5.44l.94 2.06.94-2.06 2.06-.94-2.06-.94-.94-2.06-.94 2.06-2.06.94zm-11 1L8.5 8.5l.94-2.06 2.06-.94-2.06-.94L8.5 2.5l-.94 2.06-2.06.94zm10 10l.94 2.06.94-2.06 2.06-.94-2.06-.94-.94-2.06-.94 2.06-2.06.94z\"/><path d=\"M17.41 7.96l-1.37-1.37c-.4-.4-.92-.59-1.43-.59-.52 0-1.04.2-1.43.59L10.3 9.45l-7.72 7.72c-.78.78-.78 2.05 0 2.83L4 21.41c.39.39.9.59 1.41.59.51 0 1.02-.2 1.41-.59l7.78-7.78 2.81-2.81c.8-.78.8-2.07 0-2.86zM5.41 20L4 18.59l7.72-7.72 1.47 1.35L5.41 20z\"/>\n",
              "  </svg>\n",
              "      </button>\n",
              "      \n",
              "  <style>\n",
              "    .colab-df-container {\n",
              "      display:flex;\n",
              "      flex-wrap:wrap;\n",
              "      gap: 12px;\n",
              "    }\n",
              "\n",
              "    .colab-df-convert {\n",
              "      background-color: #E8F0FE;\n",
              "      border: none;\n",
              "      border-radius: 50%;\n",
              "      cursor: pointer;\n",
              "      display: none;\n",
              "      fill: #1967D2;\n",
              "      height: 32px;\n",
              "      padding: 0 0 0 0;\n",
              "      width: 32px;\n",
              "    }\n",
              "\n",
              "    .colab-df-convert:hover {\n",
              "      background-color: #E2EBFA;\n",
              "      box-shadow: 0px 1px 2px rgba(60, 64, 67, 0.3), 0px 1px 3px 1px rgba(60, 64, 67, 0.15);\n",
              "      fill: #174EA6;\n",
              "    }\n",
              "\n",
              "    [theme=dark] .colab-df-convert {\n",
              "      background-color: #3B4455;\n",
              "      fill: #D2E3FC;\n",
              "    }\n",
              "\n",
              "    [theme=dark] .colab-df-convert:hover {\n",
              "      background-color: #434B5C;\n",
              "      box-shadow: 0px 1px 3px 1px rgba(0, 0, 0, 0.15);\n",
              "      filter: drop-shadow(0px 1px 2px rgba(0, 0, 0, 0.3));\n",
              "      fill: #FFFFFF;\n",
              "    }\n",
              "  </style>\n",
              "\n",
              "      <script>\n",
              "        const buttonEl =\n",
              "          document.querySelector('#df-ce0aa938-95ae-47c5-a276-c465645e1f36 button.colab-df-convert');\n",
              "        buttonEl.style.display =\n",
              "          google.colab.kernel.accessAllowed ? 'block' : 'none';\n",
              "\n",
              "        async function convertToInteractive(key) {\n",
              "          const element = document.querySelector('#df-ce0aa938-95ae-47c5-a276-c465645e1f36');\n",
              "          const dataTable =\n",
              "            await google.colab.kernel.invokeFunction('convertToInteractive',\n",
              "                                                     [key], {});\n",
              "          if (!dataTable) return;\n",
              "\n",
              "          const docLinkHtml = 'Like what you see? Visit the ' +\n",
              "            '<a target=\"_blank\" href=https://colab.research.google.com/notebooks/data_table.ipynb>data table notebook</a>'\n",
              "            + ' to learn more about interactive tables.';\n",
              "          element.innerHTML = '';\n",
              "          dataTable['output_type'] = 'display_data';\n",
              "          await google.colab.output.renderOutput(dataTable, element);\n",
              "          const docLink = document.createElement('div');\n",
              "          docLink.innerHTML = docLinkHtml;\n",
              "          element.appendChild(docLink);\n",
              "        }\n",
              "      </script>\n",
              "    </div>\n",
              "  </div>\n",
              "  "
            ]
          },
          "metadata": {},
          "execution_count": 6
        }
      ]
    },
    {
      "cell_type": "code",
      "source": [
        "df.hist(bins=10)\n",
        "plt.show()"
      ],
      "metadata": {
        "colab": {
          "base_uri": "https://localhost:8080/",
          "height": 281
        },
        "id": "7Aar-RsgO26W",
        "outputId": "78ef9987-fe57-489f-a19f-aebc167c5a58"
      },
      "execution_count": 7,
      "outputs": [
        {
          "output_type": "display_data",
          "data": {
            "text/plain": [
              "<Figure size 432x288 with 1 Axes>"
            ],
            "image/png": "[encoded data removed]"
          },
          "metadata": {
            "needs_background": "light"
          }
        }
      ]
    },
    {
      "cell_type": "code",
      "source": [
        "df.hist(by='sex', sharey= True) # pongo en la misma magnitud\n",
        "plt.show()"
      ],
      "metadata": {
        "colab": {
          "base_uri": "https://localhost:8080/",
          "height": 289
        },
        "id": "3TswsZLxPb3T",
        "outputId": "628472d4-9f8f-458b-877f-ffd39403bf38"
      },
      "execution_count": 8,
      "outputs": [
        {
          "output_type": "display_data",
          "data": {
            "text/plain": [
              "<Figure size 432x288 with 2 Axes>"
            ],
            "image/png": "[encoded data removed]"
          },
          "metadata": {
            "needs_background": "light"
          }
        }
      ]
    },
    {
      "cell_type": "code",
      "source": [
        "df.boxplot(by='sex')\n",
        "plt.show()"
      ],
      "metadata": {
        "colab": {
          "base_uri": "https://localhost:8080/",
          "height": 358
        },
        "id": "1MrI1m4yPuSN",
        "outputId": "d924a6e4-7d8f-48c5-cb6d-dffc7edfb5e5"
      },
      "execution_count": 9,
      "outputs": [
        {
          "output_type": "stream",
          "name": "stderr",
          "text": [
            "/usr/local/lib/python3.7/dist-packages/matplotlib/cbook/__init__.py:1376: VisibleDeprecationWarning: Creating an ndarray from ragged nested sequences (which is a list-or-tuple of lists-or-tuples-or ndarrays with different lengths or shapes) is deprecated. If you meant to do this, you must specify 'dtype=object' when creating the ndarray.\n",
            "  X = np.atleast_1d(X.T if isinstance(X, np.ndarray) else np.asarray(X))\n"
          ]
        },
        {
          "output_type": "display_data",
          "data": {
            "text/plain": [
              "<Figure size 432x288 with 1 Axes>"
            ],
            "image/png": "[encoded data removed]"
          },
          "metadata": {
            "needs_background": "light"
          }
        }
      ]
    },
    {
      "cell_type": "markdown",
      "source": [
        "## Vamos a pronosticar el sexo de la persona en base de la altura"
      ],
      "metadata": {
        "id": "VNnAFDliOtkZ"
      }
    },
    {
      "cell_type": "code",
      "source": [
        "X_train, X_test, y_train, y_test = train_test_split(df['height'], df['sex'], test_size=0.25, random_state=53)"
      ],
      "metadata": {
        "id": "MzB-NwFuQ65K"
      },
      "execution_count": 10,
      "outputs": []
    },
    {
      "cell_type": "code",
      "source": [
        "y_hat_guess = np.random.choice(['Female', 'Male'], len(X_train))\n",
        "y_hat_guess"
      ],
      "metadata": {
        "colab": {
          "base_uri": "https://localhost:8080/"
        },
        "id": "mZVFOFvZSbTy",
        "outputId": "1151f34a-fffb-4d9d-a72b-cd453ba1acbd"
      },
      "execution_count": 11,
      "outputs": [
        {
          "output_type": "execute_result",
          "data": {
            "text/plain": [
              "array(['Male', 'Female', 'Female', 'Male', 'Male', 'Female', 'Male',\n",
              "       'Female', 'Male', 'Male', 'Female', 'Female', 'Female', 'Female',\n",
              "       'Male', 'Male', 'Female', 'Male', 'Male', 'Male', 'Female', 'Male',\n",
              "       'Male', 'Male', 'Female', 'Female', 'Male', 'Male', 'Female',\n",
              "       'Female', 'Female', 'Male', 'Female', 'Male', 'Female', 'Male',\n",
              "       'Male', 'Male', 'Male', 'Female', 'Female', 'Female', 'Female',\n",
              "       'Female', 'Female', 'Female', 'Male', 'Female', 'Male', 'Male',\n",
              "       'Female', 'Female', 'Female', 'Female', 'Male', 'Male', 'Male',\n",
              "       'Male', 'Male', 'Male', 'Female', 'Female', 'Male', 'Male', 'Male',\n",
              "       'Female', 'Female', 'Male', 'Male', 'Male', 'Male', 'Female',\n",
              "       'Male', 'Male', 'Female', 'Female', 'Male', 'Female', 'Female',\n",
              "       'Male', 'Female', 'Male', 'Female', 'Male', 'Female', 'Female',\n",
              "       'Male', 'Female', 'Male', 'Male', 'Female', 'Male', 'Female',\n",
              "       'Male', 'Female', 'Male', 'Male', 'Male', 'Male', 'Female', 'Male',\n",
              "       'Female', 'Male', 'Female', 'Male', 'Female', 'Male', 'Male',\n",
              "       'Male', 'Male', 'Male', 'Male', 'Female', 'Male', 'Female',\n",
              "       'Female', 'Female', 'Male', 'Male', 'Female', 'Male', 'Female',\n",
              "       'Female', 'Female', 'Male', 'Male', 'Female', 'Female', 'Male',\n",
              "       'Female', 'Male', 'Male', 'Female', 'Male', 'Male', 'Male', 'Male',\n",
              "       'Female', 'Female', 'Male', 'Female', 'Male', 'Male', 'Female',\n",
              "       'Female', 'Male', 'Female', 'Male', 'Female', 'Female', 'Female',\n",
              "       'Male', 'Male', 'Female', 'Female', 'Female', 'Male', 'Male',\n",
              "       'Male', 'Male', 'Female', 'Male', 'Female', 'Female', 'Male',\n",
              "       'Female', 'Male', 'Female', 'Male', 'Female', 'Male', 'Female',\n",
              "       'Female', 'Male', 'Male', 'Male', 'Female', 'Female', 'Male',\n",
              "       'Female', 'Male', 'Female', 'Male', 'Female', 'Female', 'Male',\n",
              "       'Male', 'Female', 'Male', 'Male', 'Female', 'Female', 'Female',\n",
              "       'Female', 'Male', 'Female', 'Male', 'Male', 'Male', 'Male',\n",
              "       'Female', 'Female', 'Female', 'Male', 'Female', 'Male', 'Female',\n",
              "       'Female', 'Female', 'Female', 'Male', 'Male', 'Male', 'Female',\n",
              "       'Female', 'Female', 'Female', 'Female', 'Female', 'Male', 'Female',\n",
              "       'Male', 'Male', 'Male', 'Female', 'Female', 'Female', 'Male',\n",
              "       'Female', 'Female', 'Female', 'Male', 'Male', 'Male', 'Female',\n",
              "       'Male', 'Female', 'Female', 'Female', 'Female', 'Male', 'Male',\n",
              "       'Male', 'Male', 'Female', 'Male', 'Male', 'Male', 'Female', 'Male',\n",
              "       'Male', 'Female', 'Male', 'Female', 'Female', 'Female', 'Male',\n",
              "       'Male', 'Male', 'Female', 'Male', 'Female', 'Male', 'Female',\n",
              "       'Male', 'Male', 'Female', 'Male', 'Female', 'Male', 'Male', 'Male',\n",
              "       'Male', 'Male', 'Female', 'Male', 'Female', 'Male', 'Female',\n",
              "       'Male', 'Female', 'Male', 'Male', 'Female', 'Male', 'Male',\n",
              "       'Female', 'Female', 'Female', 'Female', 'Female', 'Female', 'Male',\n",
              "       'Male', 'Female', 'Male', 'Female', 'Male', 'Male', 'Female',\n",
              "       'Female', 'Male', 'Female', 'Male', 'Male', 'Male', 'Male', 'Male',\n",
              "       'Male', 'Female', 'Male', 'Female', 'Female', 'Female', 'Female',\n",
              "       'Male', 'Male', 'Female', 'Male', 'Female', 'Male', 'Female',\n",
              "       'Female', 'Male', 'Female', 'Female', 'Male', 'Female', 'Male',\n",
              "       'Male', 'Female', 'Female', 'Female', 'Male', 'Male', 'Female',\n",
              "       'Female', 'Male', 'Female', 'Male', 'Female', 'Female', 'Female',\n",
              "       'Male', 'Male', 'Female', 'Male', 'Female', 'Male', 'Male', 'Male',\n",
              "       'Male', 'Female', 'Female', 'Male', 'Male', 'Female', 'Male',\n",
              "       'Female', 'Male', 'Female', 'Male', 'Female', 'Male', 'Male',\n",
              "       'Male', 'Male', 'Female', 'Female', 'Male', 'Female', 'Female',\n",
              "       'Male', 'Male', 'Female', 'Male', 'Female', 'Female', 'Female',\n",
              "       'Female', 'Female', 'Female', 'Female', 'Male', 'Male', 'Male',\n",
              "       'Male', 'Male', 'Male', 'Female', 'Female', 'Female', 'Male',\n",
              "       'Male', 'Male', 'Male', 'Male', 'Male', 'Female', 'Male', 'Female',\n",
              "       'Female', 'Male', 'Male', 'Female', 'Male', 'Female', 'Male',\n",
              "       'Male', 'Female', 'Male', 'Female', 'Male', 'Female', 'Male',\n",
              "       'Female', 'Male', 'Male', 'Female', 'Male', 'Female', 'Male',\n",
              "       'Female', 'Female', 'Female', 'Male', 'Female', 'Female', 'Male',\n",
              "       'Male', 'Male', 'Female', 'Male', 'Female', 'Female', 'Female',\n",
              "       'Female', 'Male', 'Male', 'Male', 'Male', 'Female', 'Female',\n",
              "       'Male', 'Female', 'Female', 'Female', 'Female', 'Male', 'Male',\n",
              "       'Female', 'Female', 'Male', 'Female', 'Female', 'Female', 'Female',\n",
              "       'Female', 'Female', 'Male', 'Male', 'Female', 'Female', 'Female',\n",
              "       'Female', 'Male', 'Male', 'Male', 'Male', 'Female', 'Male',\n",
              "       'Female', 'Male', 'Female', 'Female', 'Male', 'Female', 'Female',\n",
              "       'Female', 'Male', 'Male', 'Male', 'Female', 'Male', 'Male',\n",
              "       'Female', 'Male', 'Female', 'Male', 'Female', 'Male', 'Male',\n",
              "       'Male', 'Female', 'Female', 'Male', 'Female', 'Female', 'Male',\n",
              "       'Female', 'Female', 'Female', 'Male', 'Female', 'Female', 'Male',\n",
              "       'Male', 'Male', 'Female', 'Female', 'Male', 'Female', 'Female',\n",
              "       'Male', 'Female', 'Female', 'Female', 'Male', 'Female', 'Male',\n",
              "       'Male', 'Male', 'Male', 'Male', 'Male', 'Female', 'Female', 'Male',\n",
              "       'Male', 'Male', 'Female', 'Male', 'Male', 'Female', 'Female',\n",
              "       'Female', 'Male', 'Female', 'Male', 'Female', 'Female', 'Female',\n",
              "       'Male', 'Female', 'Female', 'Male', 'Female', 'Female', 'Male',\n",
              "       'Female', 'Female', 'Female', 'Male', 'Female', 'Male', 'Female',\n",
              "       'Female', 'Female', 'Female', 'Male', 'Female', 'Male', 'Male',\n",
              "       'Male', 'Male', 'Female', 'Female', 'Male', 'Male', 'Male', 'Male',\n",
              "       'Female', 'Female', 'Female', 'Female', 'Male', 'Female', 'Female',\n",
              "       'Female', 'Male', 'Male', 'Male', 'Female', 'Male', 'Male',\n",
              "       'Female', 'Female', 'Male', 'Female', 'Female', 'Male', 'Female',\n",
              "       'Female', 'Female', 'Male', 'Male', 'Male', 'Female', 'Male',\n",
              "       'Male', 'Male', 'Female', 'Female', 'Male', 'Female', 'Male',\n",
              "       'Female', 'Male', 'Male', 'Female', 'Male', 'Male', 'Female',\n",
              "       'Male', 'Female', 'Female', 'Male', 'Female', 'Female', 'Female',\n",
              "       'Male', 'Female', 'Female', 'Male', 'Female', 'Male', 'Male',\n",
              "       'Male', 'Female', 'Male', 'Female', 'Male', 'Female', 'Female',\n",
              "       'Male', 'Female', 'Female', 'Female', 'Female', 'Male', 'Female',\n",
              "       'Male', 'Male', 'Female', 'Male', 'Female', 'Male', 'Male', 'Male',\n",
              "       'Female', 'Male', 'Female', 'Female', 'Male', 'Male', 'Female',\n",
              "       'Male', 'Female', 'Male', 'Male', 'Female', 'Female', 'Female',\n",
              "       'Male', 'Female', 'Female', 'Male', 'Male', 'Female', 'Male',\n",
              "       'Male', 'Female', 'Female', 'Male', 'Male', 'Female', 'Female',\n",
              "       'Male', 'Female', 'Male', 'Male', 'Female', 'Female', 'Male',\n",
              "       'Male', 'Female', 'Male', 'Female', 'Female', 'Female', 'Male',\n",
              "       'Female', 'Female', 'Male', 'Male', 'Male', 'Female', 'Female',\n",
              "       'Male', 'Male', 'Male', 'Female', 'Female', 'Female', 'Male',\n",
              "       'Male', 'Female', 'Male', 'Female', 'Male', 'Male', 'Female',\n",
              "       'Male', 'Female', 'Female', 'Female', 'Female', 'Male', 'Male',\n",
              "       'Male', 'Female', 'Female', 'Female', 'Male', 'Female', 'Male',\n",
              "       'Male', 'Male', 'Male', 'Female', 'Female', 'Male', 'Male',\n",
              "       'Female', 'Female', 'Female', 'Female', 'Female', 'Male', 'Female',\n",
              "       'Female', 'Female', 'Male', 'Male', 'Female', 'Male', 'Female',\n",
              "       'Male', 'Male', 'Male', 'Male', 'Female', 'Male', 'Female', 'Male',\n",
              "       'Male', 'Male', 'Male', 'Female', 'Male', 'Male', 'Female',\n",
              "       'Female', 'Male', 'Male', 'Female', 'Male', 'Male', 'Female',\n",
              "       'Male', 'Male', 'Female', 'Female', 'Male', 'Male', 'Female',\n",
              "       'Male', 'Male', 'Male', 'Female', 'Male', 'Female', 'Male',\n",
              "       'Female', 'Female', 'Male', 'Female'], dtype='<U6')"
            ]
          },
          "metadata": {},
          "execution_count": 11
        }
      ]
    },
    {
      "cell_type": "markdown",
      "source": [
        "## Quiero saber el Accuracy"
      ],
      "metadata": {
        "id": "Vg7IfvbfTcuL"
      }
    },
    {
      "cell_type": "code",
      "source": [
        "np.mean(y_train == y_hat_guess) #np.mean comparación lógica de True = 1 False = 0"
      ],
      "metadata": {
        "colab": {
          "base_uri": "https://localhost:8080/"
        },
        "id": "nSXtz5v4TbYf",
        "outputId": "30596b01-c653-413a-f9e6-9e5093bad7d6"
      },
      "execution_count": 12,
      "outputs": [
        {
          "output_type": "execute_result",
          "data": {
            "text/plain": [
              "0.5019059720457433"
            ]
          },
          "metadata": {},
          "execution_count": 12
        }
      ]
    },
    {
      "cell_type": "markdown",
      "source": [
        "cualquier modelo que haga debe estar por encima del %52,3 "
      ],
      "metadata": {
        "id": "yWo8a_44UHJG"
      }
    },
    {
      "cell_type": "code",
      "source": [
        "df_train = pd.DataFrame({'height': X_train, 'sex': y_train})\n",
        "df_train.groupby('sex')['height'].agg(['mean', 'std'])"
      ],
      "metadata": {
        "colab": {
          "base_uri": "https://localhost:8080/",
          "height": 143
        },
        "id": "g90BPpgFUM9-",
        "outputId": "22cb1472-ecdd-47c8-c2da-f36a2849e266"
      },
      "execution_count": 13,
      "outputs": [
        {
          "output_type": "execute_result",
          "data": {
            "text/plain": [
              "              mean       std\n",
              "sex                         \n",
              "Female  164.466047  9.193325\n",
              "Male    176.118109  9.540305"
            ],
            "text/html": [
              "\n",
              "  <div id=\"df-6985081e-d6b3-4b92-86f2-3f5230603928\">\n",
              "    <div class=\"colab-df-container\">\n",
              "      <div>\n",
              "<style scoped>\n",
              "    .dataframe tbody tr th:only-of-type {\n",
              "        vertical-align: middle;\n",
              "    }\n",
              "\n",
              "    .dataframe tbody tr th {\n",
              "        vertical-align: top;\n",
              "    }\n",
              "\n",
              "    .dataframe thead th {\n",
              "        text-align: right;\n",
              "    }\n",
              "</style>\n",
              "<table border=\"1\" class=\"dataframe\">\n",
              "  <thead>\n",
              "    <tr style=\"text-align: right;\">\n",
              "      <th></th>\n",
              "      <th>mean</th>\n",
              "      <th>std</th>\n",
              "    </tr>\n",
              "    <tr>\n",
              "      <th>sex</th>\n",
              "      <th></th>\n",
              "      <th></th>\n",
              "    </tr>\n",
              "  </thead>\n",
              "  <tbody>\n",
              "    <tr>\n",
              "      <th>Female</th>\n",
              "      <td>164.466047</td>\n",
              "      <td>9.193325</td>\n",
              "    </tr>\n",
              "    <tr>\n",
              "      <th>Male</th>\n",
              "      <td>176.118109</td>\n",
              "      <td>9.540305</td>\n",
              "    </tr>\n",
              "  </tbody>\n",
              "</table>\n",
              "</div>\n",
              "      <button class=\"colab-df-convert\" onclick=\"convertToInteractive('df-6985081e-d6b3-4b92-86f2-3f5230603928')\"\n",
              "              title=\"Convert this dataframe to an interactive table.\"\n",
              "              style=\"display:none;\">\n",
              "        \n",
              "  <svg xmlns=\"http://www.w3.org/2000/svg\" height=\"24px\"viewBox=\"0 0 24 24\"\n",
              "       width=\"24px\">\n",
              "    <path d=\"M0 0h24v24H0V0z\" fill=\"none\"/>\n",
              "    <path d=\"M18.56 5.44l.94 2.06.94-2.06 2.06-.94-2.06-.94-.94-2.06-.94 2.06-2.06.94zm-11 1L8.5 8.5l.94-2.06 2.06-.94-2.06-.94L8.5 2.5l-.94 2.06-2.06.94zm10 10l.94 2.06.94-2.06 2.06-.94-2.06-.94-.94-2.06-.94 2.06-2.06.94z\"/><path d=\"M17.41 7.96l-1.37-1.37c-.4-.4-.92-.59-1.43-.59-.52 0-1.04.2-1.43.59L10.3 9.45l-7.72 7.72c-.78.78-.78 2.05 0 2.83L4 21.41c.39.39.9.59 1.41.59.51 0 1.02-.2 1.41-.59l7.78-7.78 2.81-2.81c.8-.78.8-2.07 0-2.86zM5.41 20L4 18.59l7.72-7.72 1.47 1.35L5.41 20z\"/>\n",
              "  </svg>\n",
              "      </button>\n",
              "      \n",
              "  <style>\n",
              "    .colab-df-container {\n",
              "      display:flex;\n",
              "      flex-wrap:wrap;\n",
              "      gap: 12px;\n",
              "    }\n",
              "\n",
              "    .colab-df-convert {\n",
              "      background-color: #E8F0FE;\n",
              "      border: none;\n",
              "      border-radius: 50%;\n",
              "      cursor: pointer;\n",
              "      display: none;\n",
              "      fill: #1967D2;\n",
              "      height: 32px;\n",
              "      padding: 0 0 0 0;\n",
              "      width: 32px;\n",
              "    }\n",
              "\n",
              "    .colab-df-convert:hover {\n",
              "      background-color: #E2EBFA;\n",
              "      box-shadow: 0px 1px 2px rgba(60, 64, 67, 0.3), 0px 1px 3px 1px rgba(60, 64, 67, 0.15);\n",
              "      fill: #174EA6;\n",
              "    }\n",
              "\n",
              "    [theme=dark] .colab-df-convert {\n",
              "      background-color: #3B4455;\n",
              "      fill: #D2E3FC;\n",
              "    }\n",
              "\n",
              "    [theme=dark] .colab-df-convert:hover {\n",
              "      background-color: #434B5C;\n",
              "      box-shadow: 0px 1px 3px 1px rgba(0, 0, 0, 0.15);\n",
              "      filter: drop-shadow(0px 1px 2px rgba(0, 0, 0, 0.3));\n",
              "      fill: #FFFFFF;\n",
              "    }\n",
              "  </style>\n",
              "\n",
              "      <script>\n",
              "        const buttonEl =\n",
              "          document.querySelector('#df-6985081e-d6b3-4b92-86f2-3f5230603928 button.colab-df-convert');\n",
              "        buttonEl.style.display =\n",
              "          google.colab.kernel.accessAllowed ? 'block' : 'none';\n",
              "\n",
              "        async function convertToInteractive(key) {\n",
              "          const element = document.querySelector('#df-6985081e-d6b3-4b92-86f2-3f5230603928');\n",
              "          const dataTable =\n",
              "            await google.colab.kernel.invokeFunction('convertToInteractive',\n",
              "                                                     [key], {});\n",
              "          if (!dataTable) return;\n",
              "\n",
              "          const docLinkHtml = 'Like what you see? Visit the ' +\n",
              "            '<a target=\"_blank\" href=https://colab.research.google.com/notebooks/data_table.ipynb>data table notebook</a>'\n",
              "            + ' to learn more about interactive tables.';\n",
              "          element.innerHTML = '';\n",
              "          dataTable['output_type'] = 'display_data';\n",
              "          await google.colab.output.renderOutput(dataTable, element);\n",
              "          const docLink = document.createElement('div');\n",
              "          docLink.innerHTML = docLinkHtml;\n",
              "          element.appendChild(docLink);\n",
              "        }\n",
              "      </script>\n",
              "    </div>\n",
              "  </div>\n",
              "  "
            ]
          },
          "metadata": {},
          "execution_count": 13
        }
      ]
    },
    {
      "cell_type": "code",
      "source": [
        "# 176.12 - (2*9.54)  tomamos a todos los Male +- 9.54 = 157.04 ---- 96% valores regla de decisión\n",
        "\n",
        "y_hat_sd = df_train['height'].apply(lambda x : 'Male' if x > 157 else 'Famale' )"
      ],
      "metadata": {
        "id": "PwGwo7QHVK4t"
      },
      "execution_count": 14,
      "outputs": []
    },
    {
      "cell_type": "code",
      "source": [
        "np.mean(y_train == y_hat_sd)"
      ],
      "metadata": {
        "colab": {
          "base_uri": "https://localhost:8080/"
        },
        "id": "2DZ26FNKV7H5",
        "outputId": "6fcd1b99-74a9-4887-9234-59557330fd28"
      },
      "execution_count": 15,
      "outputs": [
        {
          "output_type": "execute_result",
          "data": {
            "text/plain": [
              "0.7458703939008895"
            ]
          },
          "metadata": {},
          "execution_count": 15
        }
      ]
    },
    {
      "cell_type": "markdown",
      "source": [
        "la precisión subio al %74.58"
      ],
      "metadata": {
        "id": "sxFArRk8WKM8"
      }
    },
    {
      "cell_type": "code",
      "source": [
        "my_list = []\n",
        "\n",
        "for i in range (155, 179):\n",
        "  y_hat_cut = df_train['height'].apply(lambda x : 'Male' if x > i else 'Famale' )\n",
        "  my_list.append(np.mean(y_train == y_hat_cut))\n",
        "  \n",
        "print(my_list)"
      ],
      "metadata": {
        "colab": {
          "base_uri": "https://localhost:8080/"
        },
        "id": "TZbzCtqqWOzT",
        "outputId": "6fd6fe02-d404-4336-a9a9-42a1b3e0c117"
      },
      "execution_count": 16,
      "outputs": [
        {
          "output_type": "stream",
          "name": "stdout",
          "text": [
            "[0.7496823379923762, 0.7484116899618806, 0.7458703939008895, 0.7433290978398983, 0.7433290978398983, 0.7420584498094028, 0.7331639135959339, 0.7306226175349428, 0.7217280813214739, 0.7217280813214739, 0.7204574332909784, 0.6886912325285895, 0.6886912325285895, 0.6429479034307497, 0.6315120711562897, 0.6162642947903431, 0.5590851334180432, 0.5501905972045743, 0.47903430749682335, 0.46378653113087676, 0.45743329097839897, 0.38246505717916135, 0.3761118170266836, 0.29733163913595934]\n"
          ]
        }
      ]
    },
    {
      "cell_type": "code",
      "source": [
        "max(my_list)"
      ],
      "metadata": {
        "colab": {
          "base_uri": "https://localhost:8080/"
        },
        "id": "PCR0KwmNXCcv",
        "outputId": "4a4155ed-74fb-4fdd-fc5c-b2949ffc6f53"
      },
      "execution_count": 17,
      "outputs": [
        {
          "output_type": "execute_result",
          "data": {
            "text/plain": [
              "0.7496823379923762"
            ]
          },
          "metadata": {},
          "execution_count": 17
        }
      ]
    },
    {
      "cell_type": "code",
      "source": [
        "my_x = range(155,179)\n",
        "plt.plot(my_x, my_list)\n",
        "plt.show()"
      ],
      "metadata": {
        "colab": {
          "base_uri": "https://localhost:8080/",
          "height": 265
        },
        "id": "xTSEDGjzXbix",
        "outputId": "f23243b6-4d78-444e-d98f-91541b3bb3c5"
      },
      "execution_count": 18,
      "outputs": [
        {
          "output_type": "display_data",
          "data": {
            "text/plain": [
              "<Figure size 432x288 with 1 Axes>"
            ],
            "image/png": "[encoded data removed]"
          },
          "metadata": {
            "needs_background": "light"
          }
        }
      ]
    },
    {
      "cell_type": "code",
      "source": [
        "my_x[my_list.index(max(my_list))]"
      ],
      "metadata": {
        "colab": {
          "base_uri": "https://localhost:8080/"
        },
        "id": "WAelX6_rXyLp",
        "outputId": "572c1c34-9f66-493e-b328-405184247e5f"
      },
      "execution_count": 19,
      "outputs": [
        {
          "output_type": "execute_result",
          "data": {
            "text/plain": [
              "155"
            ]
          },
          "metadata": {},
          "execution_count": 19
        }
      ]
    },
    {
      "cell_type": "code",
      "source": [
        "y_hat_best_cut = df_train['height'].apply(lambda x : 'Male' if x > 155 else 'Famale' )"
      ],
      "metadata": {
        "id": "cXEr275rYhKE"
      },
      "execution_count": 20,
      "outputs": []
    },
    {
      "cell_type": "code",
      "source": [
        "confusion_matrix(y_train, y_hat_best_cut)"
      ],
      "metadata": {
        "colab": {
          "base_uri": "https://localhost:8080/"
        },
        "id": "djx3ciXVYr4u",
        "outputId": "bd0a1230-80d1-40aa-f5b9-3b608674e554"
      },
      "execution_count": 21,
      "outputs": [
        {
          "output_type": "execute_result",
          "data": {
            "text/plain": [
              "array([[  0,   0,   0],\n",
              "       [ 22,   0, 157],\n",
              "       [ 18,   0, 590]])"
            ]
          },
          "metadata": {},
          "execution_count": 21
        }
      ]
    }
  ]
}