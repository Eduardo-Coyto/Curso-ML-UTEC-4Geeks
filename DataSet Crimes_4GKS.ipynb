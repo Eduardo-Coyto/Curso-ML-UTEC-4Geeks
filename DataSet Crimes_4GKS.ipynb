{
  "cells": [
    {
      "cell_type": "markdown",
      "metadata": {
        "colab_type": "text",
        "id": "view-in-github"
      },
      "source": [
        "<a href=\"https://colab.research.google.com/github/Eduardo-Coyto/Curso-ML-UTEC-4Geeks/blob/Descriptive-Statistics/DataSet%20Crimes_4GKS.ipynb\" target=\"_parent\"><img src=\"https://colab.research.google.com/assets/colab-badge.svg\" alt=\"Open In Colab\"/></a>"
      ]
    },
    {
      "cell_type": "code",
      "execution_count": 33,
      "metadata": {
        "id": "935v9-Wmg2qM"
      },
      "outputs": [],
      "source": [
        "import pandas as pd\n",
        "import numpy as np\n",
        "import matplotlib.pyplot as plt"
      ]
    },
    {
      "cell_type": "code",
      "execution_count": 34,
      "metadata": {
        "id": "Mch3joLkg2qO"
      },
      "outputs": [],
      "source": [
        "# 1. Read the dataset\n",
        "url = 'https://datos.cdmx.gob.mx/dataset/12d22477-bcf1-49ee-92aa-16a0d0a5817c/' + \\\n",
        "      'resource/3f308147-b1fc-49a9-92b7-e74f3f79aa9c/download/' + \\\n",
        "      'carpetas-de-investigacion-pgj-cdmx.csv'\n",
        "df = pd.read_csv(url)"
      ]
    },
    {
      "cell_type": "code",
      "execution_count": 35,
      "metadata": {
        "colab": {
          "base_uri": "https://localhost:8080/"
        },
        "id": "CdYNUIUxg2qP",
        "outputId": "5075dba2-b407-4bb0-a95a-6ed8d0641bc2"
      },
      "outputs": [
        {
          "name": "stdout",
          "output_type": "stream",
          "text": [
            "<class 'pandas.core.frame.DataFrame'>\n",
            "RangeIndex: 808871 entries, 0 to 808870\n",
            "Data columns (total 19 columns):\n",
            " #   Column                Non-Null Count   Dtype  \n",
            "---  ------                --------------   -----  \n",
            " 0   id                    808871 non-null  int64  \n",
            " 1   ao_hechos             808673 non-null  float64\n",
            " 2   mes_hechos            808673 non-null  object \n",
            " 3   fecha_hechos          808673 non-null  object \n",
            " 4   delito                808871 non-null  object \n",
            " 5   categoria_delito      808871 non-null  object \n",
            " 6   fiscalia              808871 non-null  object \n",
            " 7   agencia               808871 non-null  object \n",
            " 8   unidad_investigacion  808646 non-null  object \n",
            " 9   colonia_hechos        776781 non-null  object \n",
            " 10  alcaldia_hechos       807860 non-null  object \n",
            " 11  fecha_inicio          808871 non-null  object \n",
            " 12  mes_inicio            808871 non-null  object \n",
            " 13  ao_inicio             808871 non-null  int64  \n",
            " 14  calle_hechos          806467 non-null  object \n",
            " 15  calle_hechos2         328009 non-null  object \n",
            " 16  longitud              777536 non-null  float64\n",
            " 17  latitud               777536 non-null  float64\n",
            " 18  geopoint              777536 non-null  object \n",
            "dtypes: float64(3), int64(2), object(14)\n",
            "memory usage: 117.3+ MB\n"
          ]
        }
      ],
      "source": [
        "# 2. View the basic data structure and dimensions \n",
        "df.info()"
      ]
    },
    {
      "cell_type": "code",
      "execution_count": 36,
      "metadata": {
        "colab": {
          "base_uri": "https://localhost:8080/",
          "height": 280
        },
        "id": "UpRJ7Uq1g2qQ",
        "outputId": "af99eab9-31aa-4dc1-aa58-e7bf9c0f43f3"
      },
      "outputs": [
        {
          "data": {
            "text/html": [
              "<div>\n",
              "<style scoped>\n",
              "    .dataframe tbody tr th:only-of-type {\n",
              "        vertical-align: middle;\n",
              "    }\n",
              "\n",
              "    .dataframe tbody tr th {\n",
              "        vertical-align: top;\n",
              "    }\n",
              "\n",
              "    .dataframe thead th {\n",
              "        text-align: right;\n",
              "    }\n",
              "</style>\n",
              "<table border=\"1\" class=\"dataframe\">\n",
              "  <thead>\n",
              "    <tr style=\"text-align: right;\">\n",
              "      <th></th>\n",
              "      <th>id</th>\n",
              "      <th>ao_hechos</th>\n",
              "      <th>mes_hechos</th>\n",
              "      <th>fecha_hechos</th>\n",
              "      <th>delito</th>\n",
              "      <th>categoria_delito</th>\n",
              "      <th>fiscalia</th>\n",
              "      <th>agencia</th>\n",
              "      <th>unidad_investigacion</th>\n",
              "      <th>colonia_hechos</th>\n",
              "      <th>alcaldia_hechos</th>\n",
              "      <th>fecha_inicio</th>\n",
              "      <th>mes_inicio</th>\n",
              "      <th>ao_inicio</th>\n",
              "      <th>calle_hechos</th>\n",
              "      <th>calle_hechos2</th>\n",
              "      <th>longitud</th>\n",
              "      <th>latitud</th>\n",
              "      <th>geopoint</th>\n",
              "    </tr>\n",
              "  </thead>\n",
              "  <tbody>\n",
              "    <tr>\n",
              "      <th>778026</th>\n",
              "      <td>778026</td>\n",
              "      <td>2017.0</td>\n",
              "      <td>Marzo</td>\n",
              "      <td>2017-03-21 12:00:00</td>\n",
              "      <td>DENUNCIA DE HECHOS</td>\n",
              "      <td>HECHO NO DELICTIVO</td>\n",
              "      <td>INVESTIGACIÓN EN IZTAPALAPA</td>\n",
              "      <td>IZP-8</td>\n",
              "      <td>UI-1CD</td>\n",
              "      <td>LOMAS DE SAN LORENZO</td>\n",
              "      <td>IZTAPALAPA</td>\n",
              "      <td>2017-05-12 07:42:07</td>\n",
              "      <td>Mayo</td>\n",
              "      <td>2017</td>\n",
              "      <td>REFORMA 50 JUZGADO 16 PENAL</td>\n",
              "      <td>NaN</td>\n",
              "      <td>-99.068110</td>\n",
              "      <td>19.320512</td>\n",
              "      <td>19.3205122516,-99.0681096621</td>\n",
              "    </tr>\n",
              "    <tr>\n",
              "      <th>592976</th>\n",
              "      <td>592976</td>\n",
              "      <td>2013.0</td>\n",
              "      <td>Septiembre</td>\n",
              "      <td>2013-09-01 11:00:00</td>\n",
              "      <td>FRAUDE</td>\n",
              "      <td>DELITO DE BAJO IMPACTO</td>\n",
              "      <td>INVESTIGACIÓN EN CUAJIMALPA</td>\n",
              "      <td>CJ-1</td>\n",
              "      <td>UI-1SD</td>\n",
              "      <td>TEPETONGO</td>\n",
              "      <td>CUAJIMALPA DE MORELOS</td>\n",
              "      <td>2018-09-25 21:29:25</td>\n",
              "      <td>Septiembre</td>\n",
              "      <td>2018</td>\n",
              "      <td>TERCERA CERRADA DE PROLONGACION OCOTE</td>\n",
              "      <td>NaN</td>\n",
              "      <td>-99.290437</td>\n",
              "      <td>19.372203</td>\n",
              "      <td>19.3722031568,-99.2904365565</td>\n",
              "    </tr>\n",
              "  </tbody>\n",
              "</table>\n",
              "</div>"
            ],
            "text/plain": [
              "            id  ao_hechos  mes_hechos         fecha_hechos  \\\n",
              "778026  778026     2017.0       Marzo  2017-03-21 12:00:00   \n",
              "592976  592976     2013.0  Septiembre  2013-09-01 11:00:00   \n",
              "\n",
              "                    delito        categoria_delito  \\\n",
              "778026  DENUNCIA DE HECHOS      HECHO NO DELICTIVO   \n",
              "592976              FRAUDE  DELITO DE BAJO IMPACTO   \n",
              "\n",
              "                           fiscalia agencia unidad_investigacion  \\\n",
              "778026  INVESTIGACIÓN EN IZTAPALAPA   IZP-8               UI-1CD   \n",
              "592976  INVESTIGACIÓN EN CUAJIMALPA    CJ-1               UI-1SD   \n",
              "\n",
              "              colonia_hechos        alcaldia_hechos         fecha_inicio  \\\n",
              "778026  LOMAS DE SAN LORENZO             IZTAPALAPA  2017-05-12 07:42:07   \n",
              "592976             TEPETONGO  CUAJIMALPA DE MORELOS  2018-09-25 21:29:25   \n",
              "\n",
              "        mes_inicio  ao_inicio                           calle_hechos  \\\n",
              "778026        Mayo       2017            REFORMA 50 JUZGADO 16 PENAL   \n",
              "592976  Septiembre       2018  TERCERA CERRADA DE PROLONGACION OCOTE   \n",
              "\n",
              "       calle_hechos2   longitud    latitud                      geopoint  \n",
              "778026           NaN -99.068110  19.320512  19.3205122516,-99.0681096621  \n",
              "592976           NaN -99.290437  19.372203  19.3722031568,-99.2904365565  "
            ]
          },
          "execution_count": 36,
          "metadata": {},
          "output_type": "execute_result"
        }
      ],
      "source": [
        "# 3. Display some observations\n",
        "df.sample(2)"
      ]
    },
    {
      "cell_type": "code",
      "execution_count": 37,
      "metadata": {
        "colab": {
          "base_uri": "https://localhost:8080/"
        },
        "id": "LIyK-2mwg2qQ",
        "outputId": "835f7517-f184-4c41-867a-180cf49cfad1"
      },
      "outputs": [
        {
          "data": {
            "text/plain": [
              "485"
            ]
          },
          "execution_count": 37,
          "metadata": {},
          "output_type": "execute_result"
        }
      ],
      "source": [
        "# We want only the mayors from Ciudad de Mexico\n",
        "df['alcaldia_hechos'].nunique() #nunique() me da la cantidad de valores que tienen esa lista"
      ]
    },
    {
      "cell_type": "code",
      "execution_count": 38,
      "metadata": {
        "colab": {
          "base_uri": "https://localhost:8080/"
        },
        "id": "t0RcS_zlg2qR",
        "outputId": "7bf5a9fd-9511-4c0a-f949-a9066748aa73"
      },
      "outputs": [
        {
          "data": {
            "text/plain": [
              "485"
            ]
          },
          "execution_count": 38,
          "metadata": {},
          "output_type": "execute_result"
        }
      ],
      "source": [
        "len(df['alcaldia_hechos'].value_counts())"
      ]
    },
    {
      "cell_type": "code",
      "execution_count": 39,
      "metadata": {
        "colab": {
          "base_uri": "https://localhost:8080/",
          "height": 530
        },
        "id": "Yf06ILwfn9Nr",
        "outputId": "6bdaa3e5-a301-4217-a7bd-2d35fa9e5441"
      },
      "outputs": [
        {
          "data": {
            "text/html": [
              "<div>\n",
              "<style scoped>\n",
              "    .dataframe tbody tr th:only-of-type {\n",
              "        vertical-align: middle;\n",
              "    }\n",
              "\n",
              "    .dataframe tbody tr th {\n",
              "        vertical-align: top;\n",
              "    }\n",
              "\n",
              "    .dataframe thead th {\n",
              "        text-align: right;\n",
              "    }\n",
              "</style>\n",
              "<table border=\"1\" class=\"dataframe\">\n",
              "  <thead>\n",
              "    <tr style=\"text-align: right;\">\n",
              "      <th></th>\n",
              "      <th>id</th>\n",
              "      <th>ao_hechos</th>\n",
              "      <th>mes_hechos</th>\n",
              "      <th>fecha_hechos</th>\n",
              "      <th>delito</th>\n",
              "      <th>categoria_delito</th>\n",
              "      <th>fiscalia</th>\n",
              "      <th>agencia</th>\n",
              "      <th>unidad_investigacion</th>\n",
              "      <th>colonia_hechos</th>\n",
              "      <th>alcaldia_hechos</th>\n",
              "      <th>fecha_inicio</th>\n",
              "      <th>mes_inicio</th>\n",
              "      <th>ao_inicio</th>\n",
              "      <th>calle_hechos</th>\n",
              "      <th>calle_hechos2</th>\n",
              "      <th>longitud</th>\n",
              "      <th>latitud</th>\n",
              "      <th>geopoint</th>\n",
              "    </tr>\n",
              "  </thead>\n",
              "  <tbody>\n",
              "    <tr>\n",
              "      <th>0</th>\n",
              "      <td>0</td>\n",
              "      <td>2016.0</td>\n",
              "      <td>Enero</td>\n",
              "      <td>2016-01-05 17:00:00</td>\n",
              "      <td>LESIONES CULPOSAS</td>\n",
              "      <td>DELITO DE BAJO IMPACTO</td>\n",
              "      <td>INVESTIGACIÓN EN GUSTAVO A. MADERO</td>\n",
              "      <td>GAM-6</td>\n",
              "      <td>UI-1CD</td>\n",
              "      <td>GRANJAS MODERNAS</td>\n",
              "      <td>GUSTAVO A MADERO</td>\n",
              "      <td>2016-01-05 18:35:37</td>\n",
              "      <td>Enero</td>\n",
              "      <td>2016</td>\n",
              "      <td>SAN JUAN DE ARAGON</td>\n",
              "      <td>CALLE ANZAR</td>\n",
              "      <td>-99.103527</td>\n",
              "      <td>19.481076</td>\n",
              "      <td>19.4810759998,-99.103527</td>\n",
              "    </tr>\n",
              "    <tr>\n",
              "      <th>2</th>\n",
              "      <td>2</td>\n",
              "      <td>2017.0</td>\n",
              "      <td>Noviembre</td>\n",
              "      <td>2017-11-01 16:40:00</td>\n",
              "      <td>ROBO A TRANSEUNTE EN VIA PUBLICA CON VIOLENCIA</td>\n",
              "      <td>ROBO A TRANSEUNTE EN VÍA PÚBLICA CON Y SIN VIO...</td>\n",
              "      <td>INVESTIGACIÓN EN IZTACALCO</td>\n",
              "      <td>IZC-2</td>\n",
              "      <td>UI-1SD</td>\n",
              "      <td>GABRIEL RAMOS MILLÁN SECCIÓN TLACOTAL</td>\n",
              "      <td>IZTACALCO</td>\n",
              "      <td>2017-11-01 16:56:04</td>\n",
              "      <td>Noviembre</td>\n",
              "      <td>2017</td>\n",
              "      <td>SUR 117</td>\n",
              "      <td>ORIENTE 100A</td>\n",
              "      <td>-99.106072</td>\n",
              "      <td>19.395398</td>\n",
              "      <td>19.3953976727,-99.1060723829</td>\n",
              "    </tr>\n",
              "    <tr>\n",
              "      <th>3</th>\n",
              "      <td>3</td>\n",
              "      <td>2015.0</td>\n",
              "      <td>Diciembre</td>\n",
              "      <td>2015-12-30 20:00:00</td>\n",
              "      <td>FRAUDE</td>\n",
              "      <td>DELITO DE BAJO IMPACTO</td>\n",
              "      <td>INVESTIGACIÓN EN IZTAPALAPA</td>\n",
              "      <td>IZP-8</td>\n",
              "      <td>UI-1CD</td>\n",
              "      <td>CONSEJO AGRARISTA MEXICANO</td>\n",
              "      <td>IZTAPALAPA</td>\n",
              "      <td>2016-01-05 21:12:42</td>\n",
              "      <td>Enero</td>\n",
              "      <td>2016</td>\n",
              "      <td>CUARTA CERRADA DE FRESNO</td>\n",
              "      <td>ENCINO (SIN REGISTRO DEL SAP)</td>\n",
              "      <td>-99.055887</td>\n",
              "      <td>19.322458</td>\n",
              "      <td>19.3224579998,-99.055887</td>\n",
              "    </tr>\n",
              "    <tr>\n",
              "      <th>4</th>\n",
              "      <td>4</td>\n",
              "      <td>2018.0</td>\n",
              "      <td>Mayo</td>\n",
              "      <td>2018-05-16 16:00:00</td>\n",
              "      <td>ROBO A REPARTIDOR CON VIOLENCIA</td>\n",
              "      <td>ROBO A REPARTIDOR CON Y SIN VIOLENCIA</td>\n",
              "      <td>INVESTIGACIÓN EN IZTAPALAPA</td>\n",
              "      <td>IZP-9</td>\n",
              "      <td>UI-2SD</td>\n",
              "      <td>DESARROLLO URBANO QUETZALCOATL</td>\n",
              "      <td>IZTAPALAPA</td>\n",
              "      <td>2018-05-22 10:44:45</td>\n",
              "      <td>Mayo</td>\n",
              "      <td>2018</td>\n",
              "      <td>TARASCO</td>\n",
              "      <td>ZAPOTECO</td>\n",
              "      <td>-99.042786</td>\n",
              "      <td>19.319141</td>\n",
              "      <td>19.3191405147,-99.0427862526</td>\n",
              "    </tr>\n",
              "    <tr>\n",
              "      <th>5</th>\n",
              "      <td>5</td>\n",
              "      <td>2018.0</td>\n",
              "      <td>Mayo</td>\n",
              "      <td>2018-05-21 20:40:00</td>\n",
              "      <td>ROBO A TRANSEUNTE DE CELULAR CON VIOLENCIA</td>\n",
              "      <td>DELITO DE BAJO IMPACTO</td>\n",
              "      <td>INVESTIGACIÓN EN CUAUHTEMOC</td>\n",
              "      <td>CUH-2</td>\n",
              "      <td>UI-2SD</td>\n",
              "      <td>INFONAVIT IZTACALCO</td>\n",
              "      <td>IZTACALCO</td>\n",
              "      <td>2018-05-22 10:52:18</td>\n",
              "      <td>Mayo</td>\n",
              "      <td>2018</td>\n",
              "      <td>FRANCISCO DEL PASO Y TRONCOSO</td>\n",
              "      <td>ISLA</td>\n",
              "      <td>-99.111563</td>\n",
              "      <td>19.386594</td>\n",
              "      <td>19.3865939284,-99.1115626682</td>\n",
              "    </tr>\n",
              "  </tbody>\n",
              "</table>\n",
              "</div>"
            ],
            "text/plain": [
              "   id  ao_hechos mes_hechos         fecha_hechos  \\\n",
              "0   0     2016.0      Enero  2016-01-05 17:00:00   \n",
              "2   2     2017.0  Noviembre  2017-11-01 16:40:00   \n",
              "3   3     2015.0  Diciembre  2015-12-30 20:00:00   \n",
              "4   4     2018.0       Mayo  2018-05-16 16:00:00   \n",
              "5   5     2018.0       Mayo  2018-05-21 20:40:00   \n",
              "\n",
              "                                           delito  \\\n",
              "0                               LESIONES CULPOSAS   \n",
              "2  ROBO A TRANSEUNTE EN VIA PUBLICA CON VIOLENCIA   \n",
              "3                                          FRAUDE   \n",
              "4                 ROBO A REPARTIDOR CON VIOLENCIA   \n",
              "5      ROBO A TRANSEUNTE DE CELULAR CON VIOLENCIA   \n",
              "\n",
              "                                    categoria_delito  \\\n",
              "0                             DELITO DE BAJO IMPACTO   \n",
              "2  ROBO A TRANSEUNTE EN VÍA PÚBLICA CON Y SIN VIO...   \n",
              "3                             DELITO DE BAJO IMPACTO   \n",
              "4              ROBO A REPARTIDOR CON Y SIN VIOLENCIA   \n",
              "5                             DELITO DE BAJO IMPACTO   \n",
              "\n",
              "                             fiscalia agencia unidad_investigacion  \\\n",
              "0  INVESTIGACIÓN EN GUSTAVO A. MADERO   GAM-6               UI-1CD   \n",
              "2          INVESTIGACIÓN EN IZTACALCO   IZC-2               UI-1SD   \n",
              "3         INVESTIGACIÓN EN IZTAPALAPA   IZP-8               UI-1CD   \n",
              "4         INVESTIGACIÓN EN IZTAPALAPA   IZP-9               UI-2SD   \n",
              "5         INVESTIGACIÓN EN CUAUHTEMOC   CUH-2               UI-2SD   \n",
              "\n",
              "                          colonia_hechos   alcaldia_hechos  \\\n",
              "0                       GRANJAS MODERNAS  GUSTAVO A MADERO   \n",
              "2  GABRIEL RAMOS MILLÁN SECCIÓN TLACOTAL         IZTACALCO   \n",
              "3             CONSEJO AGRARISTA MEXICANO        IZTAPALAPA   \n",
              "4         DESARROLLO URBANO QUETZALCOATL        IZTAPALAPA   \n",
              "5                    INFONAVIT IZTACALCO         IZTACALCO   \n",
              "\n",
              "          fecha_inicio mes_inicio  ao_inicio                   calle_hechos  \\\n",
              "0  2016-01-05 18:35:37      Enero       2016             SAN JUAN DE ARAGON   \n",
              "2  2017-11-01 16:56:04  Noviembre       2017                        SUR 117   \n",
              "3  2016-01-05 21:12:42      Enero       2016       CUARTA CERRADA DE FRESNO   \n",
              "4  2018-05-22 10:44:45       Mayo       2018                        TARASCO   \n",
              "5  2018-05-22 10:52:18       Mayo       2018  FRANCISCO DEL PASO Y TRONCOSO   \n",
              "\n",
              "                   calle_hechos2   longitud    latitud  \\\n",
              "0                    CALLE ANZAR -99.103527  19.481076   \n",
              "2                   ORIENTE 100A -99.106072  19.395398   \n",
              "3  ENCINO (SIN REGISTRO DEL SAP) -99.055887  19.322458   \n",
              "4                       ZAPOTECO -99.042786  19.319141   \n",
              "5                           ISLA -99.111563  19.386594   \n",
              "\n",
              "                       geopoint  \n",
              "0      19.4810759998,-99.103527  \n",
              "2  19.3953976727,-99.1060723829  \n",
              "3      19.3224579998,-99.055887  \n",
              "4  19.3191405147,-99.0427862526  \n",
              "5  19.3865939284,-99.1115626682  "
            ]
          },
          "execution_count": 39,
          "metadata": {},
          "output_type": "execute_result"
        }
      ],
      "source": [
        "df = df[df['alcaldia_hechos'].isin (['ALVARO OBREGON','AZCAPOTZALCO','BENITO JUAREZ','COYOACAN','CUAJIMALPA DE MORELOS','CUAUHTEMOC','GUSTAVO A MADERO','IZTACALCO','IZTAPALAPA','LA MAGDALENA CONTRERAS','MIGUEL HIDALGO','MILPA ALTA','TLAHUAC','TLALPAN','VENUSTIANO CARRANZA','XOCHIMILCO'])]\n",
        "df.head()"
      ]
    },
    {
      "cell_type": "code",
      "execution_count": 40,
      "metadata": {
        "colab": {
          "base_uri": "https://localhost:8080/"
        },
        "id": "rjcvr1hnpMTI",
        "outputId": "89e72a92-b215-4fd3-96ed-86b368a2e295"
      },
      "outputs": [
        {
          "data": {
            "text/plain": [
              "16"
            ]
          },
          "execution_count": 40,
          "metadata": {},
          "output_type": "execute_result"
        }
      ],
      "source": [
        "df.alcaldia_hechos.nunique()"
      ]
    },
    {
      "cell_type": "code",
      "execution_count": 41,
      "metadata": {
        "id": "ZvJCJwjlppkT"
      },
      "outputs": [
        {
          "name": "stdout",
          "output_type": "stream",
          "text": [
            "<class 'pandas.core.frame.DataFrame'>\n",
            "Int64Index: 800207 entries, 0 to 808870\n",
            "Data columns (total 19 columns):\n",
            " #   Column                Non-Null Count   Dtype  \n",
            "---  ------                --------------   -----  \n",
            " 0   id                    800207 non-null  int64  \n",
            " 1   ao_hechos             800021 non-null  float64\n",
            " 2   mes_hechos            800021 non-null  object \n",
            " 3   fecha_hechos          800021 non-null  object \n",
            " 4   delito                800207 non-null  object \n",
            " 5   categoria_delito      800207 non-null  object \n",
            " 6   fiscalia              800207 non-null  object \n",
            " 7   agencia               800207 non-null  object \n",
            " 8   unidad_investigacion  799985 non-null  object \n",
            " 9   colonia_hechos        776763 non-null  object \n",
            " 10  alcaldia_hechos       800207 non-null  object \n",
            " 11  fecha_inicio          800207 non-null  object \n",
            " 12  mes_inicio            800207 non-null  object \n",
            " 13  ao_inicio             800207 non-null  int64  \n",
            " 14  calle_hechos          798142 non-null  object \n",
            " 15  calle_hechos2         324051 non-null  object \n",
            " 16  longitud              777531 non-null  float64\n",
            " 17  latitud               777531 non-null  float64\n",
            " 18  geopoint              777531 non-null  object \n",
            "dtypes: float64(3), int64(2), object(14)\n",
            "memory usage: 122.1+ MB\n"
          ]
        }
      ],
      "source": [
        "df.info()"
      ]
    },
    {
      "cell_type": "code",
      "execution_count": 42,
      "metadata": {
        "id": "cLRhJ2QunNPq"
      },
      "outputs": [],
      "source": [
        "# Convert the values to the right type\n",
        "df['fecha_hechos'] = df['fecha_hechos'].astype('datetime64')\n",
        "df['fecha_inicio'] = df['fecha_inicio'].astype('datetime64')\n",
        "df['mes_hechos'] = pd.Categorical(df['mes_hechos'])\n",
        "df['delito'] = pd.Categorical(df['delito'])\n",
        "df['categoria_delito'] = pd.Categorical(df['categoria_delito']) \n",
        "df['unidad_investigacion'] = pd.Categorical(df['unidad_investigacion']) "
      ]
    },
    {
      "cell_type": "code",
      "execution_count": 43,
      "metadata": {
        "colab": {
          "base_uri": "https://localhost:8080/"
        },
        "id": "saRdeWBXg2qR",
        "outputId": "cd50ef49-bf2a-409a-aa9f-36558e7ba25e"
      },
      "outputs": [
        {
          "name": "stdout",
          "output_type": "stream",
          "text": [
            "<class 'pandas.core.frame.DataFrame'>\n",
            "Int64Index: 800207 entries, 0 to 808870\n",
            "Data columns (total 19 columns):\n",
            " #   Column                Non-Null Count   Dtype         \n",
            "---  ------                --------------   -----         \n",
            " 0   id                    800207 non-null  int64         \n",
            " 1   ao_hechos             800021 non-null  float64       \n",
            " 2   mes_hechos            800021 non-null  category      \n",
            " 3   fecha_hechos          800021 non-null  datetime64[ns]\n",
            " 4   delito                800207 non-null  category      \n",
            " 5   categoria_delito      800207 non-null  category      \n",
            " 6   fiscalia              800207 non-null  object        \n",
            " 7   agencia               800207 non-null  object        \n",
            " 8   unidad_investigacion  799985 non-null  category      \n",
            " 9   colonia_hechos        776763 non-null  object        \n",
            " 10  alcaldia_hechos       800207 non-null  object        \n",
            " 11  fecha_inicio          800207 non-null  datetime64[ns]\n",
            " 12  mes_inicio            800207 non-null  object        \n",
            " 13  ao_inicio             800207 non-null  int64         \n",
            " 14  calle_hechos          798142 non-null  object        \n",
            " 15  calle_hechos2         324051 non-null  object        \n",
            " 16  longitud              777531 non-null  float64       \n",
            " 17  latitud               777531 non-null  float64       \n",
            " 18  geopoint              777531 non-null  object        \n",
            "dtypes: category(4), datetime64[ns](2), float64(3), int64(2), object(8)\n",
            "memory usage: 101.5+ MB\n"
          ]
        }
      ],
      "source": [
        "# Summarise the data, including dates\n",
        "df.info()"
      ]
    },
    {
      "cell_type": "code",
      "execution_count": 44,
      "metadata": {
        "colab": {
          "base_uri": "https://localhost:8080/",
          "height": 300
        },
        "id": "u4OrgVF2svUI",
        "outputId": "b552d1dc-3b21-42e2-bf75-e4c588c3a4d9"
      },
      "outputs": [
        {
          "data": {
            "text/html": [
              "<div>\n",
              "<style scoped>\n",
              "    .dataframe tbody tr th:only-of-type {\n",
              "        vertical-align: middle;\n",
              "    }\n",
              "\n",
              "    .dataframe tbody tr th {\n",
              "        vertical-align: top;\n",
              "    }\n",
              "\n",
              "    .dataframe thead th {\n",
              "        text-align: right;\n",
              "    }\n",
              "</style>\n",
              "<table border=\"1\" class=\"dataframe\">\n",
              "  <thead>\n",
              "    <tr style=\"text-align: right;\">\n",
              "      <th></th>\n",
              "      <th>id</th>\n",
              "      <th>ao_hechos</th>\n",
              "      <th>fecha_hechos</th>\n",
              "      <th>fecha_inicio</th>\n",
              "      <th>ao_inicio</th>\n",
              "      <th>longitud</th>\n",
              "      <th>latitud</th>\n",
              "    </tr>\n",
              "  </thead>\n",
              "  <tbody>\n",
              "    <tr>\n",
              "      <th>count</th>\n",
              "      <td>800207.000000</td>\n",
              "      <td>800021.000000</td>\n",
              "      <td>800021</td>\n",
              "      <td>800207</td>\n",
              "      <td>800207.000000</td>\n",
              "      <td>777531.000000</td>\n",
              "      <td>777531.000000</td>\n",
              "    </tr>\n",
              "    <tr>\n",
              "      <th>mean</th>\n",
              "      <td>404440.724969</td>\n",
              "      <td>2017.233964</td>\n",
              "      <td>2017-09-15 06:18:33.451072768</td>\n",
              "      <td>2017-11-08 17:23:31.065400576</td>\n",
              "      <td>2017.385711</td>\n",
              "      <td>-99.137482</td>\n",
              "      <td>19.388497</td>\n",
              "    </tr>\n",
              "    <tr>\n",
              "      <th>min</th>\n",
              "      <td>0.000000</td>\n",
              "      <td>1906.000000</td>\n",
              "      <td>1906-06-02 19:00:00</td>\n",
              "      <td>2016-01-01 01:35:06</td>\n",
              "      <td>2016.000000</td>\n",
              "      <td>-99.342765</td>\n",
              "      <td>9.486549</td>\n",
              "    </tr>\n",
              "    <tr>\n",
              "      <th>25%</th>\n",
              "      <td>202177.500000</td>\n",
              "      <td>2016.000000</td>\n",
              "      <td>2016-11-28 10:30:00</td>\n",
              "      <td>2017-01-09 17:54:14</td>\n",
              "      <td>2017.000000</td>\n",
              "      <td>-99.174906</td>\n",
              "      <td>19.342264</td>\n",
              "    </tr>\n",
              "    <tr>\n",
              "      <th>50%</th>\n",
              "      <td>404476.000000</td>\n",
              "      <td>2017.000000</td>\n",
              "      <td>2017-10-27 11:30:00</td>\n",
              "      <td>2017-11-27 12:11:57</td>\n",
              "      <td>2017.000000</td>\n",
              "      <td>-99.142680</td>\n",
              "      <td>19.391685</td>\n",
              "    </tr>\n",
              "    <tr>\n",
              "      <th>75%</th>\n",
              "      <td>606686.500000</td>\n",
              "      <td>2018.000000</td>\n",
              "      <td>2018-08-25 13:00:00</td>\n",
              "      <td>2018-09-19 16:27:08.500000</td>\n",
              "      <td>2018.000000</td>\n",
              "      <td>-99.101421</td>\n",
              "      <td>19.437588</td>\n",
              "    </tr>\n",
              "    <tr>\n",
              "      <th>max</th>\n",
              "      <td>808870.000000</td>\n",
              "      <td>2019.000000</td>\n",
              "      <td>2019-06-30 23:00:00</td>\n",
              "      <td>2019-06-30 23:56:29</td>\n",
              "      <td>2019.000000</td>\n",
              "      <td>-98.946873</td>\n",
              "      <td>19.582490</td>\n",
              "    </tr>\n",
              "    <tr>\n",
              "      <th>std</th>\n",
              "      <td>233527.398708</td>\n",
              "      <td>1.412214</td>\n",
              "      <td>NaN</td>\n",
              "      <td>NaN</td>\n",
              "      <td>1.020460</td>\n",
              "      <td>0.058753</td>\n",
              "      <td>0.069692</td>\n",
              "    </tr>\n",
              "  </tbody>\n",
              "</table>\n",
              "</div>"
            ],
            "text/plain": [
              "                  id      ao_hechos                   fecha_hechos  \\\n",
              "count  800207.000000  800021.000000                         800021   \n",
              "mean   404440.724969    2017.233964  2017-09-15 06:18:33.451072768   \n",
              "min         0.000000    1906.000000            1906-06-02 19:00:00   \n",
              "25%    202177.500000    2016.000000            2016-11-28 10:30:00   \n",
              "50%    404476.000000    2017.000000            2017-10-27 11:30:00   \n",
              "75%    606686.500000    2018.000000            2018-08-25 13:00:00   \n",
              "max    808870.000000    2019.000000            2019-06-30 23:00:00   \n",
              "std    233527.398708       1.412214                            NaN   \n",
              "\n",
              "                        fecha_inicio      ao_inicio       longitud  \\\n",
              "count                         800207  800207.000000  777531.000000   \n",
              "mean   2017-11-08 17:23:31.065400576    2017.385711     -99.137482   \n",
              "min              2016-01-01 01:35:06    2016.000000     -99.342765   \n",
              "25%              2017-01-09 17:54:14    2017.000000     -99.174906   \n",
              "50%              2017-11-27 12:11:57    2017.000000     -99.142680   \n",
              "75%       2018-09-19 16:27:08.500000    2018.000000     -99.101421   \n",
              "max              2019-06-30 23:56:29    2019.000000     -98.946873   \n",
              "std                              NaN       1.020460       0.058753   \n",
              "\n",
              "             latitud  \n",
              "count  777531.000000  \n",
              "mean       19.388497  \n",
              "min         9.486549  \n",
              "25%        19.342264  \n",
              "50%        19.391685  \n",
              "75%        19.437588  \n",
              "max        19.582490  \n",
              "std         0.069692  "
            ]
          },
          "execution_count": 44,
          "metadata": {},
          "output_type": "execute_result"
        }
      ],
      "source": [
        "df.describe(datetime_is_numeric= True)"
      ]
    },
    {
      "cell_type": "code",
      "execution_count": 45,
      "metadata": {
        "colab": {
          "base_uri": "https://localhost:8080/"
        },
        "id": "9IjIu3lUg2qS",
        "outputId": "228ae18f-5557-470e-89e9-84a5a978b2af"
      },
      "outputs": [
        {
          "name": "stdout",
          "output_type": "stream",
          "text": [
            "There are 800207 crimes, from 2016-01-01 to 2019-06-30\n"
          ]
        }
      ],
      "source": [
        "# How many crimes are recorded in this dataset? In which period?\n",
        "print(f\"There are {len(df)} crimes, from {df['fecha_inicio'].dt.date.min()} to {df['fecha_inicio'].dt.date.max()}\")"
      ]
    },
    {
      "cell_type": "code",
      "execution_count": 46,
      "metadata": {
        "colab": {
          "base_uri": "https://localhost:8080/"
        },
        "id": "Nh2y4vBng2qS",
        "outputId": "46ebe4da-2f05-4581-a7b4-18c3f10af3f8"
      },
      "outputs": [
        {
          "data": {
            "text/plain": [
              "273"
            ]
          },
          "execution_count": 46,
          "metadata": {},
          "output_type": "execute_result"
        }
      ],
      "source": [
        "# How many crimes were recorded by year?\n",
        "len(df['delito'].value_counts())"
      ]
    },
    {
      "cell_type": "code",
      "execution_count": 47,
      "metadata": {
        "colab": {
          "base_uri": "https://localhost:8080/",
          "height": 299
        },
        "id": "EQiVFaHxvz9X",
        "outputId": "348726fa-186c-4b1f-8ed5-f5a867b3d56c"
      },
      "outputs": [
        {
          "data": {
            "image/png": "[encoded data removed]",
            "text/plain": [
              "<Figure size 432x288 with 1 Axes>"
            ]
          },
          "metadata": {
            "needs_background": "light"
          },
          "output_type": "display_data"
        }
      ],
      "source": [
        "df['ao_inicio'].value_counts().plot(kind='bar')\n",
        "plt.show()"
      ]
    },
    {
      "cell_type": "code",
      "execution_count": 48,
      "metadata": {},
      "outputs": [
        {
          "ename": "KeyError",
          "evalue": "'fecha_de_hechos'",
          "output_type": "error",
          "traceback": [
            "\u001b[0;31m---------------------------------------------------------------------------\u001b[0m",
            "\u001b[0;31mKeyError\u001b[0m                                  Traceback (most recent call last)",
            "File \u001b[0;32m~/.pyenv/versions/3.8.13/lib/python3.8/site-packages/pandas/core/indexes/base.py:3621\u001b[0m, in \u001b[0;36mIndex.get_loc\u001b[0;34m(self, key, method, tolerance)\u001b[0m\n\u001b[1;32m   3620\u001b[0m \u001b[39mtry\u001b[39;00m:\n\u001b[0;32m-> 3621\u001b[0m     \u001b[39mreturn\u001b[39;00m \u001b[39mself\u001b[39;49m\u001b[39m.\u001b[39;49m_engine\u001b[39m.\u001b[39;49mget_loc(casted_key)\n\u001b[1;32m   3622\u001b[0m \u001b[39mexcept\u001b[39;00m \u001b[39mKeyError\u001b[39;00m \u001b[39mas\u001b[39;00m err:\n",
            "File \u001b[0;32m~/.pyenv/versions/3.8.13/lib/python3.8/site-packages/pandas/_libs/index.pyx:136\u001b[0m, in \u001b[0;36mpandas._libs.index.IndexEngine.get_loc\u001b[0;34m()\u001b[0m\n",
            "File \u001b[0;32m~/.pyenv/versions/3.8.13/lib/python3.8/site-packages/pandas/_libs/index.pyx:163\u001b[0m, in \u001b[0;36mpandas._libs.index.IndexEngine.get_loc\u001b[0;34m()\u001b[0m\n",
            "File \u001b[0;32mpandas/_libs/hashtable_class_helper.pxi:5198\u001b[0m, in \u001b[0;36mpandas._libs.hashtable.PyObjectHashTable.get_item\u001b[0;34m()\u001b[0m\n",
            "File \u001b[0;32mpandas/_libs/hashtable_class_helper.pxi:5206\u001b[0m, in \u001b[0;36mpandas._libs.hashtable.PyObjectHashTable.get_item\u001b[0;34m()\u001b[0m\n",
            "\u001b[0;31mKeyError\u001b[0m: 'fecha_de_hechos'",
            "\nThe above exception was the direct cause of the following exception:\n",
            "\u001b[0;31mKeyError\u001b[0m                                  Traceback (most recent call last)",
            "\u001b[1;32m/workspace/ML-UTEC-4Geeks/DataSet Crimes_4GKS.ipynb Cell 17'\u001b[0m in \u001b[0;36m<cell line: 1>\u001b[0;34m()\u001b[0m\n\u001b[0;32m----> <a href='vscode-notebook-cell://eduardocoyt-mlutec4geek-hstch4qnogg.ws-us47.gitpod.io/workspace/ML-UTEC-4Geeks/DataSet%20Crimes_4GKS.ipynb#ch0000028vscode-remote?line=0'>1</a>\u001b[0m df[\u001b[39m'\u001b[39m\u001b[39mfecha_de_hechos\u001b[39m\u001b[39m'\u001b[39m]\u001b[39m=\u001b[39m df[\u001b[39m'\u001b[39;49m\u001b[39mfecha_de_hechos\u001b[39;49m\u001b[39m'\u001b[39;49m]\u001b[39m.\u001b[39mmask((df[\u001b[39m'\u001b[39m\u001b[39mfecha_de_hechos\u001b[39m\u001b[39m'\u001b[39m]\u001b[39m.\u001b[39mdt\u001b[39m.\u001b[39myear\u001b[39m<\u001b[39m\u001b[39m2016\u001b[39m) \u001b[39m|\u001b[39m (df[\u001b[39m'\u001b[39m\u001b[39mfecha_de_hechos\u001b[39m\u001b[39m'\u001b[39m]\u001b[39m.\u001b[39misna()), df[\u001b[39m'\u001b[39m\u001b[39mfecha_inicio\u001b[39m\u001b[39m'\u001b[39m])\n\u001b[1;32m      <a href='vscode-notebook-cell://eduardocoyt-mlutec4geek-hstch4qnogg.ws-us47.gitpod.io/workspace/ML-UTEC-4Geeks/DataSet%20Crimes_4GKS.ipynb#ch0000028vscode-remote?line=1'>2</a>\u001b[0m df[\u001b[39m'\u001b[39m\u001b[39mao_hechos\u001b[39m\u001b[39m'\u001b[39m]\u001b[39m=\u001b[39m df[\u001b[39m'\u001b[39m\u001b[39mao_hechos\u001b[39m\u001b[39m'\u001b[39m]\u001b[39m.\u001b[39mmask((df[\u001b[39m'\u001b[39m\u001b[39mao_hechos\u001b[39m\u001b[39m'\u001b[39m]\u001b[39m.\u001b[39mdt\u001b[39m.\u001b[39myear\u001b[39m<\u001b[39m\u001b[39m2016\u001b[39m) \u001b[39m|\u001b[39m (df[\u001b[39m'\u001b[39m\u001b[39mao_hechos\u001b[39m\u001b[39m'\u001b[39m]\u001b[39m.\u001b[39misna()), df[\u001b[39m'\u001b[39m\u001b[39mao_inicio\u001b[39m\u001b[39m'\u001b[39m])\n\u001b[1;32m      <a href='vscode-notebook-cell://eduardocoyt-mlutec4geek-hstch4qnogg.ws-us47.gitpod.io/workspace/ML-UTEC-4Geeks/DataSet%20Crimes_4GKS.ipynb#ch0000028vscode-remote?line=2'>3</a>\u001b[0m df[\u001b[39m'\u001b[39m\u001b[39mmes_hechos\u001b[39m\u001b[39m'\u001b[39m]\u001b[39m=\u001b[39m df[\u001b[39m'\u001b[39m\u001b[39mmes_hechos\u001b[39m\u001b[39m'\u001b[39m]\u001b[39m.\u001b[39mmask((df[\u001b[39m'\u001b[39m\u001b[39mmes_hechos\u001b[39m\u001b[39m'\u001b[39m]\u001b[39m.\u001b[39mdt\u001b[39m.\u001b[39myear\u001b[39m<\u001b[39m\u001b[39m2016\u001b[39m) \u001b[39m|\u001b[39m (df[\u001b[39m'\u001b[39m\u001b[39mmes_hechos\u001b[39m\u001b[39m'\u001b[39m]\u001b[39m.\u001b[39misna()), df[\u001b[39m'\u001b[39m\u001b[39mmes_inicio\u001b[39m\u001b[39m'\u001b[39m])\n",
            "File \u001b[0;32m~/.pyenv/versions/3.8.13/lib/python3.8/site-packages/pandas/core/frame.py:3505\u001b[0m, in \u001b[0;36mDataFrame.__getitem__\u001b[0;34m(self, key)\u001b[0m\n\u001b[1;32m   3503\u001b[0m \u001b[39mif\u001b[39;00m \u001b[39mself\u001b[39m\u001b[39m.\u001b[39mcolumns\u001b[39m.\u001b[39mnlevels \u001b[39m>\u001b[39m \u001b[39m1\u001b[39m:\n\u001b[1;32m   3504\u001b[0m     \u001b[39mreturn\u001b[39;00m \u001b[39mself\u001b[39m\u001b[39m.\u001b[39m_getitem_multilevel(key)\n\u001b[0;32m-> 3505\u001b[0m indexer \u001b[39m=\u001b[39m \u001b[39mself\u001b[39;49m\u001b[39m.\u001b[39;49mcolumns\u001b[39m.\u001b[39;49mget_loc(key)\n\u001b[1;32m   3506\u001b[0m \u001b[39mif\u001b[39;00m is_integer(indexer):\n\u001b[1;32m   3507\u001b[0m     indexer \u001b[39m=\u001b[39m [indexer]\n",
            "File \u001b[0;32m~/.pyenv/versions/3.8.13/lib/python3.8/site-packages/pandas/core/indexes/base.py:3623\u001b[0m, in \u001b[0;36mIndex.get_loc\u001b[0;34m(self, key, method, tolerance)\u001b[0m\n\u001b[1;32m   3621\u001b[0m     \u001b[39mreturn\u001b[39;00m \u001b[39mself\u001b[39m\u001b[39m.\u001b[39m_engine\u001b[39m.\u001b[39mget_loc(casted_key)\n\u001b[1;32m   3622\u001b[0m \u001b[39mexcept\u001b[39;00m \u001b[39mKeyError\u001b[39;00m \u001b[39mas\u001b[39;00m err:\n\u001b[0;32m-> 3623\u001b[0m     \u001b[39mraise\u001b[39;00m \u001b[39mKeyError\u001b[39;00m(key) \u001b[39mfrom\u001b[39;00m \u001b[39merr\u001b[39;00m\n\u001b[1;32m   3624\u001b[0m \u001b[39mexcept\u001b[39;00m \u001b[39mTypeError\u001b[39;00m:\n\u001b[1;32m   3625\u001b[0m     \u001b[39m# If we have a listlike key, _check_indexing_error will raise\u001b[39;00m\n\u001b[1;32m   3626\u001b[0m     \u001b[39m#  InvalidIndexError. Otherwise we fall through and re-raise\u001b[39;00m\n\u001b[1;32m   3627\u001b[0m     \u001b[39m#  the TypeError.\u001b[39;00m\n\u001b[1;32m   3628\u001b[0m     \u001b[39mself\u001b[39m\u001b[39m.\u001b[39m_check_indexing_error(key)\n",
            "\u001b[0;31mKeyError\u001b[0m: 'fecha_de_hechos'"
          ]
        }
      ],
      "source": [
        "df['fecha_de_hechos']= df['fecha_de_hechos'].mask((df['fecha_de_hechos'].dt.year<2016) | (df['fecha_de_hechos'].isna()), df['fecha_inicio'])\n",
        "df['ao_hechos']= df['ao_hechos'].mask((df['ao_hechos'].dt.year<2016) | (df['ao_hechos'].isna()), df['ao_inicio'])\n",
        "df['mes_hechos']= df['mes_hechos'].mask((df['mes_hechos'].dt.year<2016) | (df['mes_hechos'].isna()), df['mes_inicio'])"
      ]
    },
    {
      "cell_type": "code",
      "execution_count": null,
      "metadata": {
        "id": "SKqrUFsgxVnG"
      },
      "outputs": [],
      "source": [
        "df.set_index('fecha_inicio', inplace= True)"
      ]
    },
    {
      "cell_type": "code",
      "execution_count": null,
      "metadata": {
        "id": "w6gMDDpBzHkZ"
      },
      "outputs": [],
      "source": [
        "df_count = df.groupby(df.index.year).size().reset_index(name='obs')"
      ]
    },
    {
      "cell_type": "code",
      "execution_count": null,
      "metadata": {
        "colab": {
          "base_uri": "https://localhost:8080/",
          "height": 330
        },
        "id": "VSAIMLKoztew",
        "outputId": "bbe1d663-071f-45cf-aa16-b7406745085d"
      },
      "outputs": [
        {
          "data": {
            "text/plain": [
              "<AxesSubplot:title={'center':'Crimes per years'}, xlabel='fecha_inicio'>"
            ]
          },
          "execution_count": 19,
          "metadata": {},
          "output_type": "execute_result"
        },
        {
          "data": {
            "image/png": "[encoded data removed]",
            "text/plain": [
              "<Figure size 432x288 with 1 Axes>"
            ]
          },
          "metadata": {
            "needs_background": "light"
          },
          "output_type": "display_data"
        }
      ],
      "source": [
        "df_count.plot.bar(title='Crimes per years', x= 'fecha_inicio', y='obs')"
      ]
    },
    {
      "cell_type": "markdown",
      "metadata": {},
      "source": [
        "### Se realiza estos cambios para:\n",
        "* remplazamos las fechas de hechos por la de inicio cuando es mejor a 2016 o es NAN"
      ]
    },
    {
      "cell_type": "code",
      "execution_count": null,
      "metadata": {},
      "outputs": [],
      "source": [
        "df= df.set_index(df['fecha_hechos'])"
      ]
    },
    {
      "cell_type": "code",
      "execution_count": null,
      "metadata": {},
      "outputs": [
        {
          "data": {
            "text/plain": [
              "<AxesSubplot:xlabel='fecha_hechos'>"
            ]
          },
          "execution_count": 23,
          "metadata": {},
          "output_type": "execute_result"
        },
        {
          "data": {
            "image/png": "[encoded data removed]",
            "text/plain": [
              "<Figure size 432x288 with 1 Axes>"
            ]
          },
          "metadata": {
            "needs_background": "light"
          },
          "output_type": "display_data"
        }
      ],
      "source": [
        "#how many crimes were recored by year?\n",
        "df.groupby(df.index.year).size().reset_index(name= 'Crimes').plot.bar(x='fecha_hechos', y='Crimes')"
      ]
    },
    {
      "cell_type": "code",
      "execution_count": null,
      "metadata": {},
      "outputs": [
        {
          "data": {
            "text/html": [
              "<div>\n",
              "<style scoped>\n",
              "    .dataframe tbody tr th:only-of-type {\n",
              "        vertical-align: middle;\n",
              "    }\n",
              "\n",
              "    .dataframe tbody tr th {\n",
              "        vertical-align: top;\n",
              "    }\n",
              "\n",
              "    .dataframe thead th {\n",
              "        text-align: right;\n",
              "    }\n",
              "</style>\n",
              "<table border=\"1\" class=\"dataframe\">\n",
              "  <thead>\n",
              "    <tr style=\"text-align: right;\">\n",
              "      <th></th>\n",
              "      <th>delito</th>\n",
              "      <th>Crimes</th>\n",
              "      <th>rate</th>\n",
              "    </tr>\n",
              "  </thead>\n",
              "  <tbody>\n",
              "    <tr>\n",
              "      <th>272</th>\n",
              "      <td>VIOLENCIA FAMILIAR</td>\n",
              "      <td>69007</td>\n",
              "      <td>0.086236</td>\n",
              "    </tr>\n",
              "    <tr>\n",
              "      <th>222</th>\n",
              "      <td>ROBO DE OBJETOS</td>\n",
              "      <td>51870</td>\n",
              "      <td>0.064821</td>\n",
              "    </tr>\n",
              "    <tr>\n",
              "      <th>158</th>\n",
              "      <td>ROBO A NEGOCIO SIN VIOLENCIA</td>\n",
              "      <td>51396</td>\n",
              "      <td>0.064228</td>\n",
              "    </tr>\n",
              "    <tr>\n",
              "      <th>75</th>\n",
              "      <td>FRAUDE</td>\n",
              "      <td>44826</td>\n",
              "      <td>0.056018</td>\n",
              "    </tr>\n",
              "    <tr>\n",
              "      <th>51</th>\n",
              "      <td>DENUNCIA DE HECHOS</td>\n",
              "      <td>43613</td>\n",
              "      <td>0.054502</td>\n",
              "    </tr>\n",
              "  </tbody>\n",
              "</table>\n",
              "</div>"
            ],
            "text/plain": [
              "                           delito  Crimes      rate\n",
              "272            VIOLENCIA FAMILIAR   69007  0.086236\n",
              "222               ROBO DE OBJETOS   51870  0.064821\n",
              "158  ROBO A NEGOCIO SIN VIOLENCIA   51396  0.064228\n",
              "75                         FRAUDE   44826  0.056018\n",
              "51             DENUNCIA DE HECHOS   43613  0.054502"
            ]
          },
          "execution_count": 28,
          "metadata": {},
          "output_type": "execute_result"
        }
      ],
      "source": [
        "df.groupby('delito').size().reset_index(name='Crimes').sort_values(by='Crimes', ascending= False).assign(rate=lambda x: x['Crimes']/sum(x['Crimes'])).head(5)"
      ]
    },
    {
      "cell_type": "code",
      "execution_count": null,
      "metadata": {},
      "outputs": [
        {
          "data": {
            "text/html": [
              "<div>\n",
              "<style scoped>\n",
              "    .dataframe tbody tr th:only-of-type {\n",
              "        vertical-align: middle;\n",
              "    }\n",
              "\n",
              "    .dataframe tbody tr th {\n",
              "        vertical-align: top;\n",
              "    }\n",
              "\n",
              "    .dataframe thead th {\n",
              "        text-align: right;\n",
              "    }\n",
              "</style>\n",
              "<table border=\"1\" class=\"dataframe\">\n",
              "  <thead>\n",
              "    <tr style=\"text-align: right;\">\n",
              "      <th></th>\n",
              "      <th>delito</th>\n",
              "      <th>Crimes</th>\n",
              "      <th>rate</th>\n",
              "    </tr>\n",
              "  </thead>\n",
              "  <tbody>\n",
              "    <tr>\n",
              "      <th>272</th>\n",
              "      <td>VIOLENCIA FAMILIAR</td>\n",
              "      <td>69007</td>\n",
              "      <td>8.623644</td>\n",
              "    </tr>\n",
              "    <tr>\n",
              "      <th>222</th>\n",
              "      <td>ROBO DE OBJETOS</td>\n",
              "      <td>51870</td>\n",
              "      <td>6.482073</td>\n",
              "    </tr>\n",
              "    <tr>\n",
              "      <th>158</th>\n",
              "      <td>ROBO A NEGOCIO SIN VIOLENCIA</td>\n",
              "      <td>51396</td>\n",
              "      <td>6.422838</td>\n",
              "    </tr>\n",
              "    <tr>\n",
              "      <th>75</th>\n",
              "      <td>FRAUDE</td>\n",
              "      <td>44826</td>\n",
              "      <td>5.601801</td>\n",
              "    </tr>\n",
              "    <tr>\n",
              "      <th>51</th>\n",
              "      <td>DENUNCIA DE HECHOS</td>\n",
              "      <td>43613</td>\n",
              "      <td>5.450215</td>\n",
              "    </tr>\n",
              "  </tbody>\n",
              "</table>\n",
              "</div>"
            ],
            "text/plain": [
              "                           delito  Crimes      rate\n",
              "272            VIOLENCIA FAMILIAR   69007  8.623644\n",
              "222               ROBO DE OBJETOS   51870  6.482073\n",
              "158  ROBO A NEGOCIO SIN VIOLENCIA   51396  6.422838\n",
              "75                         FRAUDE   44826  5.601801\n",
              "51             DENUNCIA DE HECHOS   43613  5.450215"
            ]
          },
          "execution_count": 31,
          "metadata": {},
          "output_type": "execute_result"
        }
      ],
      "source": [
        "df.groupby('delito').size().reset_index(name='Crimes').sort_values(by='Crimes', ascending= False).assign(rate=lambda x: x['Crimes']/len(df)*100).head(5) #assign creo una nueva columna"
      ]
    },
    {
      "cell_type": "code",
      "execution_count": null,
      "metadata": {},
      "outputs": [
        {
          "data": {
            "text/html": [
              "<div>\n",
              "<style scoped>\n",
              "    .dataframe tbody tr th:only-of-type {\n",
              "        vertical-align: middle;\n",
              "    }\n",
              "\n",
              "    .dataframe tbody tr th {\n",
              "        vertical-align: top;\n",
              "    }\n",
              "\n",
              "    .dataframe thead th {\n",
              "        text-align: right;\n",
              "    }\n",
              "</style>\n",
              "<table border=\"1\" class=\"dataframe\">\n",
              "  <thead>\n",
              "    <tr style=\"text-align: right;\">\n",
              "      <th></th>\n",
              "      <th>delito</th>\n",
              "      <th>Crimes</th>\n",
              "      <th>rate</th>\n",
              "      <th>accum</th>\n",
              "    </tr>\n",
              "  </thead>\n",
              "  <tbody>\n",
              "    <tr>\n",
              "      <th>272</th>\n",
              "      <td>VIOLENCIA FAMILIAR</td>\n",
              "      <td>69007</td>\n",
              "      <td>8.623644</td>\n",
              "      <td>8.623644</td>\n",
              "    </tr>\n",
              "    <tr>\n",
              "      <th>222</th>\n",
              "      <td>ROBO DE OBJETOS</td>\n",
              "      <td>51870</td>\n",
              "      <td>6.482073</td>\n",
              "      <td>15.105716</td>\n",
              "    </tr>\n",
              "    <tr>\n",
              "      <th>158</th>\n",
              "      <td>ROBO A NEGOCIO SIN VIOLENCIA</td>\n",
              "      <td>51396</td>\n",
              "      <td>6.422838</td>\n",
              "      <td>21.528554</td>\n",
              "    </tr>\n",
              "    <tr>\n",
              "      <th>75</th>\n",
              "      <td>FRAUDE</td>\n",
              "      <td>44826</td>\n",
              "      <td>5.601801</td>\n",
              "      <td>27.130355</td>\n",
              "    </tr>\n",
              "    <tr>\n",
              "      <th>51</th>\n",
              "      <td>DENUNCIA DE HECHOS</td>\n",
              "      <td>43613</td>\n",
              "      <td>5.450215</td>\n",
              "      <td>32.580570</td>\n",
              "    </tr>\n",
              "  </tbody>\n",
              "</table>\n",
              "</div>"
            ],
            "text/plain": [
              "                           delito  Crimes      rate      accum\n",
              "272            VIOLENCIA FAMILIAR   69007  8.623644   8.623644\n",
              "222               ROBO DE OBJETOS   51870  6.482073  15.105716\n",
              "158  ROBO A NEGOCIO SIN VIOLENCIA   51396  6.422838  21.528554\n",
              "75                         FRAUDE   44826  5.601801  27.130355\n",
              "51             DENUNCIA DE HECHOS   43613  5.450215  32.580570"
            ]
          },
          "execution_count": 32,
          "metadata": {},
          "output_type": "execute_result"
        }
      ],
      "source": [
        "# Calculate the accumulated rate of the top 5 crimes\n",
        "df.groupby('delito').size().reset_index(name='Crimes').sort_values(by='Crimes', ascending= False).assign(rate=lambda x: x['Crimes']/len(df)*100, accum= lambda x: x['rate'].cumsum()).head()"
      ]
    },
    {
      "cell_type": "code",
      "execution_count": null,
      "metadata": {
        "id": "1MXVoWlug2qT"
      },
      "outputs": [],
      "source": [
        "# Show the top 5 crimes\n"
      ]
    },
    {
      "cell_type": "code",
      "execution_count": null,
      "metadata": {
        "id": "ZhL9LwDdg2qU"
      },
      "outputs": [],
      "source": []
    },
    {
      "cell_type": "code",
      "execution_count": 58,
      "metadata": {
        "id": "-4bAF86tg2qU"
      },
      "outputs": [],
      "source": [
        "# Which city has the most and the less crimes in the dataset?\n",
        "df_citys = df.groupby('alcaldia_hechos').size().reset_index(name='Crimes').sort_values(by='Crimes', ascending=False)"
      ]
    },
    {
      "cell_type": "code",
      "execution_count": 57,
      "metadata": {},
      "outputs": [
        {
          "data": {
            "image/png": "[encoded data removed]",
            "text/plain": [
              "<Figure size 432x288 with 1 Axes>"
            ]
          },
          "metadata": {
            "needs_background": "light"
          },
          "output_type": "display_data"
        }
      ],
      "source": [
        "df.groupby('alcaldia_hechos').size().reset_index(name='Crimes').sort_values(by='Crimes', ascending=False).plot.bar(x='alcaldia_hechos', y='Crimes')\n",
        "plt.show()"
      ]
    },
    {
      "cell_type": "code",
      "execution_count": 70,
      "metadata": {},
      "outputs": [
        {
          "ename": "ValueError",
          "evalue": "Unknown format code 'd' for object of type 'str'",
          "output_type": "error",
          "traceback": [
            "\u001b[0;31m---------------------------------------------------------------------------\u001b[0m",
            "\u001b[0;31mValueError\u001b[0m                                Traceback (most recent call last)",
            "\u001b[1;32m/workspace/ML-UTEC-4Geeks/DataSet Crimes_4GKS.ipynb Cell 31'\u001b[0m in \u001b[0;36m<cell line: 1>\u001b[0;34m()\u001b[0m\n\u001b[0;32m----> <a href='vscode-notebook-cell://eduardocoyt-mlutec4geek-hstch4qnogg.ws-us47.gitpod.io/workspace/ML-UTEC-4Geeks/DataSet%20Crimes_4GKS.ipynb#ch0000035vscode-remote?line=0'>1</a>\u001b[0m df_citys[\u001b[39m'\u001b[39m\u001b[39mCrimes\u001b[39m\u001b[39m'\u001b[39m]\u001b[39m=\u001b[39mdf_citys[\u001b[39m'\u001b[39;49m\u001b[39mCrimes\u001b[39;49m\u001b[39m'\u001b[39;49m]\u001b[39m.\u001b[39;49mmap(\u001b[39m'\u001b[39;49m\u001b[39m{:,d}\u001b[39;49;00m\u001b[39m'\u001b[39;49m\u001b[39m.\u001b[39;49mformat)\n\u001b[1;32m      <a href='vscode-notebook-cell://eduardocoyt-mlutec4geek-hstch4qnogg.ws-us47.gitpod.io/workspace/ML-UTEC-4Geeks/DataSet%20Crimes_4GKS.ipynb#ch0000035vscode-remote?line=1'>2</a>\u001b[0m df_citys\n",
            "File \u001b[0;32m~/.pyenv/versions/3.8.13/lib/python3.8/site-packages/pandas/core/series.py:4237\u001b[0m, in \u001b[0;36mSeries.map\u001b[0;34m(self, arg, na_action)\u001b[0m\n\u001b[1;32m   4162\u001b[0m \u001b[39mdef\u001b[39;00m \u001b[39mmap\u001b[39m(\u001b[39mself\u001b[39m, arg, na_action\u001b[39m=\u001b[39m\u001b[39mNone\u001b[39;00m) \u001b[39m-\u001b[39m\u001b[39m>\u001b[39m Series:\n\u001b[1;32m   4163\u001b[0m     \u001b[39m\"\"\"\u001b[39;00m\n\u001b[1;32m   4164\u001b[0m \u001b[39m    Map values of Series according to an input mapping or function.\u001b[39;00m\n\u001b[1;32m   4165\u001b[0m \n\u001b[0;32m   (...)\u001b[0m\n\u001b[1;32m   4235\u001b[0m \u001b[39m    dtype: object\u001b[39;00m\n\u001b[1;32m   4236\u001b[0m \u001b[39m    \"\"\"\u001b[39;00m\n\u001b[0;32m-> 4237\u001b[0m     new_values \u001b[39m=\u001b[39m \u001b[39mself\u001b[39;49m\u001b[39m.\u001b[39;49m_map_values(arg, na_action\u001b[39m=\u001b[39;49mna_action)\n\u001b[1;32m   4238\u001b[0m     \u001b[39mreturn\u001b[39;00m \u001b[39mself\u001b[39m\u001b[39m.\u001b[39m_constructor(new_values, index\u001b[39m=\u001b[39m\u001b[39mself\u001b[39m\u001b[39m.\u001b[39mindex)\u001b[39m.\u001b[39m__finalize__(\n\u001b[1;32m   4239\u001b[0m         \u001b[39mself\u001b[39m, method\u001b[39m=\u001b[39m\u001b[39m\"\u001b[39m\u001b[39mmap\u001b[39m\u001b[39m\"\u001b[39m\n\u001b[1;32m   4240\u001b[0m     )\n",
            "File \u001b[0;32m~/.pyenv/versions/3.8.13/lib/python3.8/site-packages/pandas/core/base.py:880\u001b[0m, in \u001b[0;36mIndexOpsMixin._map_values\u001b[0;34m(self, mapper, na_action)\u001b[0m\n\u001b[1;32m    877\u001b[0m         \u001b[39mraise\u001b[39;00m \u001b[39mValueError\u001b[39;00m(msg)\n\u001b[1;32m    879\u001b[0m \u001b[39m# mapper is a function\u001b[39;00m\n\u001b[0;32m--> 880\u001b[0m new_values \u001b[39m=\u001b[39m map_f(values, mapper)\n\u001b[1;32m    882\u001b[0m \u001b[39mreturn\u001b[39;00m new_values\n",
            "File \u001b[0;32m~/.pyenv/versions/3.8.13/lib/python3.8/site-packages/pandas/_libs/lib.pyx:2870\u001b[0m, in \u001b[0;36mpandas._libs.lib.map_infer\u001b[0;34m()\u001b[0m\n",
            "\u001b[0;31mValueError\u001b[0m: Unknown format code 'd' for object of type 'str'"
          ]
        }
      ],
      "source": [
        "df_citys['Crimes']=df_citys['Crimes'].map('{:,d}'.format)\n",
        "df_citys"
      ]
    },
    {
      "cell_type": "code",
      "execution_count": 69,
      "metadata": {
        "id": "f9jsIacNg2qU"
      },
      "outputs": [
        {
          "data": {
            "text/html": [
              "<div>\n",
              "<style scoped>\n",
              "    .dataframe tbody tr th:only-of-type {\n",
              "        vertical-align: middle;\n",
              "    }\n",
              "\n",
              "    .dataframe tbody tr th {\n",
              "        vertical-align: top;\n",
              "    }\n",
              "\n",
              "    .dataframe thead th {\n",
              "        text-align: right;\n",
              "    }\n",
              "</style>\n",
              "<table border=\"1\" class=\"dataframe\">\n",
              "  <thead>\n",
              "    <tr style=\"text-align: right;\">\n",
              "      <th></th>\n",
              "      <th></th>\n",
              "      <th>Crimes</th>\n",
              "    </tr>\n",
              "    <tr>\n",
              "      <th>alcaldia_hechos</th>\n",
              "      <th>colonia_hechos</th>\n",
              "      <th></th>\n",
              "    </tr>\n",
              "  </thead>\n",
              "  <tbody>\n",
              "    <tr>\n",
              "      <th rowspan=\"3\" valign=\"top\">ALVARO OBREGON</th>\n",
              "      <th>JARDINES DEL PEDREGAL</th>\n",
              "      <td>2335</td>\n",
              "    </tr>\n",
              "    <tr>\n",
              "      <th>SAN ANGEL</th>\n",
              "      <td>2019</td>\n",
              "    </tr>\n",
              "    <tr>\n",
              "      <th>ZEDEC SANTA FE</th>\n",
              "      <td>1843</td>\n",
              "    </tr>\n",
              "    <tr>\n",
              "      <th rowspan=\"3\" valign=\"top\">AZCAPOTZALCO</th>\n",
              "      <th>EL ROSARIO</th>\n",
              "      <td>2820</td>\n",
              "    </tr>\n",
              "    <tr>\n",
              "      <th>INDUSTRIAL VALLEJO</th>\n",
              "      <td>1930</td>\n",
              "    </tr>\n",
              "    <tr>\n",
              "      <th>CENTRO DE AZCAPOTZALCO</th>\n",
              "      <td>1796</td>\n",
              "    </tr>\n",
              "    <tr>\n",
              "      <th rowspan=\"3\" valign=\"top\">BENITO JUAREZ</th>\n",
              "      <th>DEL VALLE CENTRO</th>\n",
              "      <td>12644</td>\n",
              "    </tr>\n",
              "    <tr>\n",
              "      <th>NARVARTE</th>\n",
              "      <td>9317</td>\n",
              "    </tr>\n",
              "    <tr>\n",
              "      <th>PORTALES SUR</th>\n",
              "      <td>4587</td>\n",
              "    </tr>\n",
              "    <tr>\n",
              "      <th rowspan=\"3\" valign=\"top\">COYOACAN</th>\n",
              "      <th>PEDREGAL DE SANTO DOMINGO</th>\n",
              "      <td>4434</td>\n",
              "    </tr>\n",
              "    <tr>\n",
              "      <th>AJUSCO</th>\n",
              "      <td>2377</td>\n",
              "    </tr>\n",
              "    <tr>\n",
              "      <th>DEL CARMEN</th>\n",
              "      <td>2348</td>\n",
              "    </tr>\n",
              "    <tr>\n",
              "      <th rowspan=\"3\" valign=\"top\">CUAJIMALPA DE MORELOS</th>\n",
              "      <th>CUAJIMALPA</th>\n",
              "      <td>1693</td>\n",
              "    </tr>\n",
              "    <tr>\n",
              "      <th>LOMAS DE SANTA FE</th>\n",
              "      <td>1655</td>\n",
              "    </tr>\n",
              "    <tr>\n",
              "      <th>SAN JOSÉ DE LOS CEDROS</th>\n",
              "      <td>1008</td>\n",
              "    </tr>\n",
              "    <tr>\n",
              "      <th rowspan=\"3\" valign=\"top\">CUAUHTEMOC</th>\n",
              "      <th>CENTRO</th>\n",
              "      <td>28751</td>\n",
              "    </tr>\n",
              "    <tr>\n",
              "      <th>DOCTORES</th>\n",
              "      <td>16657</td>\n",
              "    </tr>\n",
              "    <tr>\n",
              "      <th>ROMA NORTE</th>\n",
              "      <td>10403</td>\n",
              "    </tr>\n",
              "    <tr>\n",
              "      <th rowspan=\"3\" valign=\"top\">GUSTAVO A MADERO</th>\n",
              "      <th>LINDAVISTA</th>\n",
              "      <td>3737</td>\n",
              "    </tr>\n",
              "    <tr>\n",
              "      <th>GUADALUPE TEPEYAC</th>\n",
              "      <td>3208</td>\n",
              "    </tr>\n",
              "    <tr>\n",
              "      <th>SAN FELIPE DE JESÚS</th>\n",
              "      <td>2284</td>\n",
              "    </tr>\n",
              "    <tr>\n",
              "      <th rowspan=\"3\" valign=\"top\">IZTACALCO</th>\n",
              "      <th>AGRÍCOLA ORIENTAL</th>\n",
              "      <td>6663</td>\n",
              "    </tr>\n",
              "    <tr>\n",
              "      <th>AGRÍCOLA PANTITLAN</th>\n",
              "      <td>5476</td>\n",
              "    </tr>\n",
              "    <tr>\n",
              "      <th>GRANJAS MÉXICO</th>\n",
              "      <td>3604</td>\n",
              "    </tr>\n",
              "    <tr>\n",
              "      <th rowspan=\"3\" valign=\"top\">IZTAPALAPA</th>\n",
              "      <th>CENTRAL DE ABASTO</th>\n",
              "      <td>5264</td>\n",
              "    </tr>\n",
              "    <tr>\n",
              "      <th>LOMAS DE SAN LORENZO</th>\n",
              "      <td>3060</td>\n",
              "    </tr>\n",
              "    <tr>\n",
              "      <th>DESARROLLO URBANO QUETZALCOATL</th>\n",
              "      <td>2990</td>\n",
              "    </tr>\n",
              "    <tr>\n",
              "      <th rowspan=\"3\" valign=\"top\">LA MAGDALENA CONTRERAS</th>\n",
              "      <th>SAN JERÓNIMO LÍDICE</th>\n",
              "      <td>1452</td>\n",
              "    </tr>\n",
              "    <tr>\n",
              "      <th>SAN NICOLÁS TOTOLAPAN</th>\n",
              "      <td>1008</td>\n",
              "    </tr>\n",
              "    <tr>\n",
              "      <th>SAN BERNABÉ OCOTEPEC</th>\n",
              "      <td>672</td>\n",
              "    </tr>\n",
              "    <tr>\n",
              "      <th rowspan=\"3\" valign=\"top\">MIGUEL HIDALGO</th>\n",
              "      <th>POLANCO</th>\n",
              "      <td>7131</td>\n",
              "    </tr>\n",
              "    <tr>\n",
              "      <th>ANAHUAC</th>\n",
              "      <td>3796</td>\n",
              "    </tr>\n",
              "    <tr>\n",
              "      <th>LOMAS DE CHAPULTEPEC I SECCIÓN</th>\n",
              "      <td>3196</td>\n",
              "    </tr>\n",
              "    <tr>\n",
              "      <th rowspan=\"3\" valign=\"top\">MILPA ALTA</th>\n",
              "      <th>CRUZTITLA (SAN ANTONIO TECOMITL)</th>\n",
              "      <td>390</td>\n",
              "    </tr>\n",
              "    <tr>\n",
              "      <th>SANTA MARTHA (VILLA MILPA ALTA)</th>\n",
              "      <td>342</td>\n",
              "    </tr>\n",
              "    <tr>\n",
              "      <th>SAN MIGUEL (SAN PABLO OZTOTEPEC)</th>\n",
              "      <td>340</td>\n",
              "    </tr>\n",
              "    <tr>\n",
              "      <th rowspan=\"3\" valign=\"top\">TLAHUAC</th>\n",
              "      <th>DEL MAR</th>\n",
              "      <td>1121</td>\n",
              "    </tr>\n",
              "    <tr>\n",
              "      <th>MIGUEL HIDALGO</th>\n",
              "      <td>1058</td>\n",
              "    </tr>\n",
              "    <tr>\n",
              "      <th>SAN FRANCISCO TLALTENCO</th>\n",
              "      <td>881</td>\n",
              "    </tr>\n",
              "    <tr>\n",
              "      <th rowspan=\"3\" valign=\"top\">TLALPAN</th>\n",
              "      <th>SAN ANDRÉS TOTOLTEPEC</th>\n",
              "      <td>3000</td>\n",
              "    </tr>\n",
              "    <tr>\n",
              "      <th>TLALPAN CENTRO I</th>\n",
              "      <td>1832</td>\n",
              "    </tr>\n",
              "    <tr>\n",
              "      <th>HÉROES DE PADIERNA</th>\n",
              "      <td>1798</td>\n",
              "    </tr>\n",
              "    <tr>\n",
              "      <th rowspan=\"3\" valign=\"top\">VENUSTIANO CARRANZA</th>\n",
              "      <th>JARDÍN BALBUENA</th>\n",
              "      <td>4464</td>\n",
              "    </tr>\n",
              "    <tr>\n",
              "      <th>MOCTEZUMA 2A SECCIÓN</th>\n",
              "      <td>3549</td>\n",
              "    </tr>\n",
              "    <tr>\n",
              "      <th>ZONA CENTRO</th>\n",
              "      <td>3060</td>\n",
              "    </tr>\n",
              "    <tr>\n",
              "      <th rowspan=\"3\" valign=\"top\">XOCHIMILCO</th>\n",
              "      <th>SAN GREGORIO ATLAPULCO</th>\n",
              "      <td>1607</td>\n",
              "    </tr>\n",
              "    <tr>\n",
              "      <th>SANTIAGO TEPALCATLALPAN</th>\n",
              "      <td>1301</td>\n",
              "    </tr>\n",
              "    <tr>\n",
              "      <th>SANTA CRUZ ACALPIXCA - PUEBLO</th>\n",
              "      <td>1223</td>\n",
              "    </tr>\n",
              "  </tbody>\n",
              "</table>\n",
              "</div>"
            ],
            "text/plain": [
              "                                                         Crimes\n",
              "alcaldia_hechos        colonia_hechos                          \n",
              "ALVARO OBREGON         JARDINES DEL PEDREGAL               2335\n",
              "                       SAN ANGEL                           2019\n",
              "                       ZEDEC SANTA FE                      1843\n",
              "AZCAPOTZALCO           EL ROSARIO                          2820\n",
              "                       INDUSTRIAL VALLEJO                  1930\n",
              "                       CENTRO DE AZCAPOTZALCO              1796\n",
              "BENITO JUAREZ          DEL VALLE CENTRO                   12644\n",
              "                       NARVARTE                            9317\n",
              "                       PORTALES SUR                        4587\n",
              "COYOACAN               PEDREGAL DE SANTO DOMINGO           4434\n",
              "                       AJUSCO                              2377\n",
              "                       DEL CARMEN                          2348\n",
              "CUAJIMALPA DE MORELOS  CUAJIMALPA                          1693\n",
              "                       LOMAS DE SANTA FE                   1655\n",
              "                       SAN JOSÉ DE LOS CEDROS              1008\n",
              "CUAUHTEMOC             CENTRO                             28751\n",
              "                       DOCTORES                           16657\n",
              "                       ROMA NORTE                         10403\n",
              "GUSTAVO A MADERO       LINDAVISTA                          3737\n",
              "                       GUADALUPE TEPEYAC                   3208\n",
              "                       SAN FELIPE DE JESÚS                 2284\n",
              "IZTACALCO              AGRÍCOLA ORIENTAL                   6663\n",
              "                       AGRÍCOLA PANTITLAN                  5476\n",
              "                       GRANJAS MÉXICO                      3604\n",
              "IZTAPALAPA             CENTRAL DE ABASTO                   5264\n",
              "                       LOMAS DE SAN LORENZO                3060\n",
              "                       DESARROLLO URBANO QUETZALCOATL      2990\n",
              "LA MAGDALENA CONTRERAS SAN JERÓNIMO LÍDICE                 1452\n",
              "                       SAN NICOLÁS TOTOLAPAN               1008\n",
              "                       SAN BERNABÉ OCOTEPEC                 672\n",
              "MIGUEL HIDALGO         POLANCO                             7131\n",
              "                       ANAHUAC                             3796\n",
              "                       LOMAS DE CHAPULTEPEC I SECCIÓN      3196\n",
              "MILPA ALTA             CRUZTITLA (SAN ANTONIO TECOMITL)     390\n",
              "                       SANTA MARTHA (VILLA MILPA ALTA)      342\n",
              "                       SAN MIGUEL (SAN PABLO OZTOTEPEC)     340\n",
              "TLAHUAC                DEL MAR                             1121\n",
              "                       MIGUEL HIDALGO                      1058\n",
              "                       SAN FRANCISCO TLALTENCO              881\n",
              "TLALPAN                SAN ANDRÉS TOTOLTEPEC               3000\n",
              "                       TLALPAN CENTRO I                    1832\n",
              "                       HÉROES DE PADIERNA                  1798\n",
              "VENUSTIANO CARRANZA    JARDÍN BALBUENA                     4464\n",
              "                       MOCTEZUMA 2A SECCIÓN                3549\n",
              "                       ZONA CENTRO                         3060\n",
              "XOCHIMILCO             SAN GREGORIO ATLAPULCO              1607\n",
              "                       SANTIAGO TEPALCATLALPAN             1301\n",
              "                       SANTA CRUZ ACALPIXCA - PUEBLO       1223"
            ]
          },
          "execution_count": 69,
          "metadata": {},
          "output_type": "execute_result"
        }
      ],
      "source": [
        "# In each city, what are the top 3 subcities (\"Colonias\") with most crimes?\n",
        "df.groupby(['alcaldia_hechos', 'colonia_hechos']).size().to_frame(name='Crimes').sort_values(by=['alcaldia_hechos', 'Crimes'], ascending=[True,False]).groupby(level=0).head(3)"
      ]
    },
    {
      "cell_type": "code",
      "execution_count": 77,
      "metadata": {
        "id": "MKcPSlgAg2qU"
      },
      "outputs": [
        {
          "data": {
            "text/plain": [
              "<AxesSubplot:xlabel='Month'>"
            ]
          },
          "execution_count": 77,
          "metadata": {},
          "output_type": "execute_result"
        },
        {
          "data": {
            "image/png": "[encoded data removed]",
            "text/plain": [
              "<Figure size 432x288 with 1 Axes>"
            ]
          },
          "metadata": {
            "needs_background": "light"
          },
          "output_type": "display_data"
        }
      ],
      "source": [
        "# Do you see a trend per month or day?.\n",
        "df.groupby([df['fecha_hechos'].dt.year.rename('Year'), df['fecha_hechos'].dt.month.rename('Month')]).size().unstack('Year').plot()"
      ]
    }
  ],
  "metadata": {
    "colab": {
      "include_colab_link": true,
      "name": "Crimes_4GKS.ipynb",
      "provenance": []
    },
    "kernelspec": {
      "display_name": "Python 3.8.13 64-bit ('3.8.13')",
      "language": "python",
      "name": "python3"
    },
    "language_info": {
      "codemirror_mode": {
        "name": "ipython",
        "version": 3
      },
      "file_extension": ".py",
      "mimetype": "text/x-python",
      "name": "python",
      "nbconvert_exporter": "python",
      "pygments_lexer": "ipython3",
      "version": "3.8.13"
    },
    "orig_nbformat": 4,
    "vscode": {
      "interpreter": {
        "hash": "110cc1dee26208153f2972f08a2ad52b6a56238dc66d48e87fb757ef2996db56"
      }
    }
  },
  "nbformat": 4,
  "nbformat_minor": 0
}
