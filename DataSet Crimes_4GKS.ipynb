{
  "cells": [
    {
      "cell_type": "markdown",
      "metadata": {
        "id": "view-in-github",
        "colab_type": "text"
      },
      "source": [
        "<a href=\"https://colab.research.google.com/github/Eduardo-Coyto/Curso-ML-UTEC-4Geeks/blob/Descriptive-Statistics/DataSet%20Crimes_4GKS.ipynb\" target=\"_parent\"><img src=\"https://colab.research.google.com/assets/colab-badge.svg\" alt=\"Open In Colab\"/></a>"
      ]
    },
    {
      "cell_type": "code",
      "execution_count": 1,
      "metadata": {
        "id": "935v9-Wmg2qM"
      },
      "outputs": [],
      "source": [
        "import pandas as pd\n",
        "import numpy as np\n",
        "import matplotlib.pyplot as plt"
      ]
    },
    {
      "cell_type": "code",
      "execution_count": 2,
      "metadata": {
        "id": "Mch3joLkg2qO"
      },
      "outputs": [],
      "source": [
        "# 1. Read the dataset\n",
        "url = 'https://datos.cdmx.gob.mx/dataset/12d22477-bcf1-49ee-92aa-16a0d0a5817c/' + \\\n",
        "      'resource/3f308147-b1fc-49a9-92b7-e74f3f79aa9c/download/' + \\\n",
        "      'carpetas-de-investigacion-pgj-cdmx.csv'\n",
        "df = pd.read_csv(url)"
      ]
    },
    {
      "cell_type": "code",
      "execution_count": 3,
      "metadata": {
        "colab": {
          "base_uri": "https://localhost:8080/"
        },
        "id": "CdYNUIUxg2qP",
        "outputId": "5075dba2-b407-4bb0-a95a-6ed8d0641bc2"
      },
      "outputs": [
        {
          "output_type": "stream",
          "name": "stdout",
          "text": [
            "<class 'pandas.core.frame.DataFrame'>\n",
            "RangeIndex: 808871 entries, 0 to 808870\n",
            "Data columns (total 19 columns):\n",
            " #   Column                Non-Null Count   Dtype  \n",
            "---  ------                --------------   -----  \n",
            " 0   id                    808871 non-null  int64  \n",
            " 1   ao_hechos             808673 non-null  float64\n",
            " 2   mes_hechos            808673 non-null  object \n",
            " 3   fecha_hechos          808673 non-null  object \n",
            " 4   delito                808871 non-null  object \n",
            " 5   categoria_delito      808871 non-null  object \n",
            " 6   fiscalia              808871 non-null  object \n",
            " 7   agencia               808871 non-null  object \n",
            " 8   unidad_investigacion  808646 non-null  object \n",
            " 9   colonia_hechos        776781 non-null  object \n",
            " 10  alcaldia_hechos       807860 non-null  object \n",
            " 11  fecha_inicio          808871 non-null  object \n",
            " 12  mes_inicio            808871 non-null  object \n",
            " 13  ao_inicio             808871 non-null  int64  \n",
            " 14  calle_hechos          806467 non-null  object \n",
            " 15  calle_hechos2         328009 non-null  object \n",
            " 16  longitud              777536 non-null  float64\n",
            " 17  latitud               777536 non-null  float64\n",
            " 18  geopoint              777536 non-null  object \n",
            "dtypes: float64(3), int64(2), object(14)\n",
            "memory usage: 117.3+ MB\n"
          ]
        }
      ],
      "source": [
        "# 2. View the basic data structure and dimensions \n",
        "df.info()"
      ]
    },
    {
      "cell_type": "code",
      "execution_count": 5,
      "metadata": {
        "colab": {
          "base_uri": "https://localhost:8080/",
          "height": 280
        },
        "id": "UpRJ7Uq1g2qQ",
        "outputId": "af99eab9-31aa-4dc1-aa58-e7bf9c0f43f3"
      },
      "outputs": [
        {
          "output_type": "execute_result",
          "data": {
            "text/plain": [
              "            id  ao_hechos mes_hechos         fecha_hechos  \\\n",
              "679756  679756     2015.0  Diciembre  2015-12-23 12:00:00   \n",
              "248637  248637     2016.0      Julio  2016-07-21 19:00:00   \n",
              "\n",
              "                        delito        categoria_delito  \\\n",
              "679756  TENTATIVA DE EXTORSION  DELITO DE BAJO IMPACTO   \n",
              "248637      DENUNCIA DE HECHOS      HECHO NO DELICTIVO   \n",
              "\n",
              "                                                 fiscalia agencia  \\\n",
              "679756                      INVESTIGACIÓN EN AZCAPOTZALCO    AZ-1   \n",
              "248637  INVESTIGACIÓN PARA LA ATENCIÓN DE DELITOS SEXU...   FDS-3   \n",
              "\n",
              "       unidad_investigacion colonia_hechos      alcaldia_hechos  \\\n",
              "679756               UI-1SD     EL ROSARIO         AZCAPOTZALCO   \n",
              "248637             FDS-3-01            NaN  VENUSTIANO CARRANZA   \n",
              "\n",
              "               fecha_inicio mes_inicio  ao_inicio  calle_hechos calle_hechos2  \\\n",
              "679756  2016-02-26 01:49:27    Febrero       2016    EL ROSARIO           NaN   \n",
              "248637  2016-08-11 11:50:46     Agosto       2016  SIN PRECISAR           NaN   \n",
              "\n",
              "         longitud    latitud                  geopoint  \n",
              "679756 -99.199179  19.500456  19.5004559998,-99.199179  \n",
              "248637        NaN        NaN                       NaN  "
            ],
            "text/html": [
              "\n",
              "  <div id=\"df-b94180df-6a4a-49cf-96c7-20eb4acb09b1\">\n",
              "    <div class=\"colab-df-container\">\n",
              "      <div>\n",
              "<style scoped>\n",
              "    .dataframe tbody tr th:only-of-type {\n",
              "        vertical-align: middle;\n",
              "    }\n",
              "\n",
              "    .dataframe tbody tr th {\n",
              "        vertical-align: top;\n",
              "    }\n",
              "\n",
              "    .dataframe thead th {\n",
              "        text-align: right;\n",
              "    }\n",
              "</style>\n",
              "<table border=\"1\" class=\"dataframe\">\n",
              "  <thead>\n",
              "    <tr style=\"text-align: right;\">\n",
              "      <th></th>\n",
              "      <th>id</th>\n",
              "      <th>ao_hechos</th>\n",
              "      <th>mes_hechos</th>\n",
              "      <th>fecha_hechos</th>\n",
              "      <th>delito</th>\n",
              "      <th>categoria_delito</th>\n",
              "      <th>fiscalia</th>\n",
              "      <th>agencia</th>\n",
              "      <th>unidad_investigacion</th>\n",
              "      <th>colonia_hechos</th>\n",
              "      <th>alcaldia_hechos</th>\n",
              "      <th>fecha_inicio</th>\n",
              "      <th>mes_inicio</th>\n",
              "      <th>ao_inicio</th>\n",
              "      <th>calle_hechos</th>\n",
              "      <th>calle_hechos2</th>\n",
              "      <th>longitud</th>\n",
              "      <th>latitud</th>\n",
              "      <th>geopoint</th>\n",
              "    </tr>\n",
              "  </thead>\n",
              "  <tbody>\n",
              "    <tr>\n",
              "      <th>679756</th>\n",
              "      <td>679756</td>\n",
              "      <td>2015.0</td>\n",
              "      <td>Diciembre</td>\n",
              "      <td>2015-12-23 12:00:00</td>\n",
              "      <td>TENTATIVA DE EXTORSION</td>\n",
              "      <td>DELITO DE BAJO IMPACTO</td>\n",
              "      <td>INVESTIGACIÓN EN AZCAPOTZALCO</td>\n",
              "      <td>AZ-1</td>\n",
              "      <td>UI-1SD</td>\n",
              "      <td>EL ROSARIO</td>\n",
              "      <td>AZCAPOTZALCO</td>\n",
              "      <td>2016-02-26 01:49:27</td>\n",
              "      <td>Febrero</td>\n",
              "      <td>2016</td>\n",
              "      <td>EL ROSARIO</td>\n",
              "      <td>NaN</td>\n",
              "      <td>-99.199179</td>\n",
              "      <td>19.500456</td>\n",
              "      <td>19.5004559998,-99.199179</td>\n",
              "    </tr>\n",
              "    <tr>\n",
              "      <th>248637</th>\n",
              "      <td>248637</td>\n",
              "      <td>2016.0</td>\n",
              "      <td>Julio</td>\n",
              "      <td>2016-07-21 19:00:00</td>\n",
              "      <td>DENUNCIA DE HECHOS</td>\n",
              "      <td>HECHO NO DELICTIVO</td>\n",
              "      <td>INVESTIGACIÓN PARA LA ATENCIÓN DE DELITOS SEXU...</td>\n",
              "      <td>FDS-3</td>\n",
              "      <td>FDS-3-01</td>\n",
              "      <td>NaN</td>\n",
              "      <td>VENUSTIANO CARRANZA</td>\n",
              "      <td>2016-08-11 11:50:46</td>\n",
              "      <td>Agosto</td>\n",
              "      <td>2016</td>\n",
              "      <td>SIN PRECISAR</td>\n",
              "      <td>NaN</td>\n",
              "      <td>NaN</td>\n",
              "      <td>NaN</td>\n",
              "      <td>NaN</td>\n",
              "    </tr>\n",
              "  </tbody>\n",
              "</table>\n",
              "</div>\n",
              "      <button class=\"colab-df-convert\" onclick=\"convertToInteractive('df-b94180df-6a4a-49cf-96c7-20eb4acb09b1')\"\n",
              "              title=\"Convert this dataframe to an interactive table.\"\n",
              "              style=\"display:none;\">\n",
              "        \n",
              "  <svg xmlns=\"http://www.w3.org/2000/svg\" height=\"24px\"viewBox=\"0 0 24 24\"\n",
              "       width=\"24px\">\n",
              "    <path d=\"M0 0h24v24H0V0z\" fill=\"none\"/>\n",
              "    <path d=\"M18.56 5.44l.94 2.06.94-2.06 2.06-.94-2.06-.94-.94-2.06-.94 2.06-2.06.94zm-11 1L8.5 8.5l.94-2.06 2.06-.94-2.06-.94L8.5 2.5l-.94 2.06-2.06.94zm10 10l.94 2.06.94-2.06 2.06-.94-2.06-.94-.94-2.06-.94 2.06-2.06.94z\"/><path d=\"M17.41 7.96l-1.37-1.37c-.4-.4-.92-.59-1.43-.59-.52 0-1.04.2-1.43.59L10.3 9.45l-7.72 7.72c-.78.78-.78 2.05 0 2.83L4 21.41c.39.39.9.59 1.41.59.51 0 1.02-.2 1.41-.59l7.78-7.78 2.81-2.81c.8-.78.8-2.07 0-2.86zM5.41 20L4 18.59l7.72-7.72 1.47 1.35L5.41 20z\"/>\n",
              "  </svg>\n",
              "      </button>\n",
              "      \n",
              "  <style>\n",
              "    .colab-df-container {\n",
              "      display:flex;\n",
              "      flex-wrap:wrap;\n",
              "      gap: 12px;\n",
              "    }\n",
              "\n",
              "    .colab-df-convert {\n",
              "      background-color: #E8F0FE;\n",
              "      border: none;\n",
              "      border-radius: 50%;\n",
              "      cursor: pointer;\n",
              "      display: none;\n",
              "      fill: #1967D2;\n",
              "      height: 32px;\n",
              "      padding: 0 0 0 0;\n",
              "      width: 32px;\n",
              "    }\n",
              "\n",
              "    .colab-df-convert:hover {\n",
              "      background-color: #E2EBFA;\n",
              "      box-shadow: 0px 1px 2px rgba(60, 64, 67, 0.3), 0px 1px 3px 1px rgba(60, 64, 67, 0.15);\n",
              "      fill: #174EA6;\n",
              "    }\n",
              "\n",
              "    [theme=dark] .colab-df-convert {\n",
              "      background-color: #3B4455;\n",
              "      fill: #D2E3FC;\n",
              "    }\n",
              "\n",
              "    [theme=dark] .colab-df-convert:hover {\n",
              "      background-color: #434B5C;\n",
              "      box-shadow: 0px 1px 3px 1px rgba(0, 0, 0, 0.15);\n",
              "      filter: drop-shadow(0px 1px 2px rgba(0, 0, 0, 0.3));\n",
              "      fill: #FFFFFF;\n",
              "    }\n",
              "  </style>\n",
              "\n",
              "      <script>\n",
              "        const buttonEl =\n",
              "          document.querySelector('#df-b94180df-6a4a-49cf-96c7-20eb4acb09b1 button.colab-df-convert');\n",
              "        buttonEl.style.display =\n",
              "          google.colab.kernel.accessAllowed ? 'block' : 'none';\n",
              "\n",
              "        async function convertToInteractive(key) {\n",
              "          const element = document.querySelector('#df-b94180df-6a4a-49cf-96c7-20eb4acb09b1');\n",
              "          const dataTable =\n",
              "            await google.colab.kernel.invokeFunction('convertToInteractive',\n",
              "                                                     [key], {});\n",
              "          if (!dataTable) return;\n",
              "\n",
              "          const docLinkHtml = 'Like what you see? Visit the ' +\n",
              "            '<a target=\"_blank\" href=https://colab.research.google.com/notebooks/data_table.ipynb>data table notebook</a>'\n",
              "            + ' to learn more about interactive tables.';\n",
              "          element.innerHTML = '';\n",
              "          dataTable['output_type'] = 'display_data';\n",
              "          await google.colab.output.renderOutput(dataTable, element);\n",
              "          const docLink = document.createElement('div');\n",
              "          docLink.innerHTML = docLinkHtml;\n",
              "          element.appendChild(docLink);\n",
              "        }\n",
              "      </script>\n",
              "    </div>\n",
              "  </div>\n",
              "  "
            ]
          },
          "metadata": {},
          "execution_count": 5
        }
      ],
      "source": [
        "# 3. Display some observations\n",
        "df.sample(2)"
      ]
    },
    {
      "cell_type": "code",
      "execution_count": 11,
      "metadata": {
        "colab": {
          "base_uri": "https://localhost:8080/"
        },
        "id": "LIyK-2mwg2qQ",
        "outputId": "835f7517-f184-4c41-867a-180cf49cfad1"
      },
      "outputs": [
        {
          "output_type": "execute_result",
          "data": {
            "text/plain": [
              "485"
            ]
          },
          "metadata": {},
          "execution_count": 11
        }
      ],
      "source": [
        "# We want only the mayors from Ciudad de Mexico\n",
        "df['alcaldia_hechos'].nunique() #nunique() me da la cantidad de valores que tienen esa lista"
      ]
    },
    {
      "cell_type": "code",
      "execution_count": 18,
      "metadata": {
        "colab": {
          "base_uri": "https://localhost:8080/"
        },
        "id": "t0RcS_zlg2qR",
        "outputId": "7bf5a9fd-9511-4c0a-f949-a9066748aa73"
      },
      "outputs": [
        {
          "output_type": "execute_result",
          "data": {
            "text/plain": [
              "485"
            ]
          },
          "metadata": {},
          "execution_count": 18
        }
      ],
      "source": [
        "len(df['alcaldia_hechos'].value_counts())"
      ]
    },
    {
      "cell_type": "code",
      "source": [
        "df = df[df['alcaldia_hechos'].isin (['ALVARO OBREGON','AZCAPOTZALCO','BENITO JUAREZ','COYOACAN','CUAJIMALPA DE MORELOS','CUAUHTEMOC','GUSTAVO A MADERO','IZTACALCO','IZTAPALAPA','LA MAGDALENA CONTRERAS','MIGUEL HIDALGO','MILPA ALTA','TLAHUAC','TLALPAN','VENUSTIANO CARRANZA','XOCHIMILCO'])]\n",
        "df.head()"
      ],
      "metadata": {
        "colab": {
          "base_uri": "https://localhost:8080/",
          "height": 530
        },
        "id": "Yf06ILwfn9Nr",
        "outputId": "6bdaa3e5-a301-4217-a7bd-2d35fa9e5441"
      },
      "execution_count": 3,
      "outputs": [
        {
          "output_type": "execute_result",
          "data": {
            "text/plain": [
              "   id  ao_hechos mes_hechos         fecha_hechos  \\\n",
              "0   0     2016.0      Enero  2016-01-05 17:00:00   \n",
              "2   2     2017.0  Noviembre  2017-11-01 16:40:00   \n",
              "3   3     2015.0  Diciembre  2015-12-30 20:00:00   \n",
              "4   4     2018.0       Mayo  2018-05-16 16:00:00   \n",
              "5   5     2018.0       Mayo  2018-05-21 20:40:00   \n",
              "\n",
              "                                           delito  \\\n",
              "0                               LESIONES CULPOSAS   \n",
              "2  ROBO A TRANSEUNTE EN VIA PUBLICA CON VIOLENCIA   \n",
              "3                                          FRAUDE   \n",
              "4                 ROBO A REPARTIDOR CON VIOLENCIA   \n",
              "5      ROBO A TRANSEUNTE DE CELULAR CON VIOLENCIA   \n",
              "\n",
              "                                    categoria_delito  \\\n",
              "0                             DELITO DE BAJO IMPACTO   \n",
              "2  ROBO A TRANSEUNTE EN VÍA PÚBLICA CON Y SIN VIO...   \n",
              "3                             DELITO DE BAJO IMPACTO   \n",
              "4              ROBO A REPARTIDOR CON Y SIN VIOLENCIA   \n",
              "5                             DELITO DE BAJO IMPACTO   \n",
              "\n",
              "                             fiscalia agencia unidad_investigacion  \\\n",
              "0  INVESTIGACIÓN EN GUSTAVO A. MADERO   GAM-6               UI-1CD   \n",
              "2          INVESTIGACIÓN EN IZTACALCO   IZC-2               UI-1SD   \n",
              "3         INVESTIGACIÓN EN IZTAPALAPA   IZP-8               UI-1CD   \n",
              "4         INVESTIGACIÓN EN IZTAPALAPA   IZP-9               UI-2SD   \n",
              "5         INVESTIGACIÓN EN CUAUHTEMOC   CUH-2               UI-2SD   \n",
              "\n",
              "                          colonia_hechos   alcaldia_hechos  \\\n",
              "0                       GRANJAS MODERNAS  GUSTAVO A MADERO   \n",
              "2  GABRIEL RAMOS MILLÁN SECCIÓN TLACOTAL         IZTACALCO   \n",
              "3             CONSEJO AGRARISTA MEXICANO        IZTAPALAPA   \n",
              "4         DESARROLLO URBANO QUETZALCOATL        IZTAPALAPA   \n",
              "5                    INFONAVIT IZTACALCO         IZTACALCO   \n",
              "\n",
              "          fecha_inicio mes_inicio  ao_inicio                   calle_hechos  \\\n",
              "0  2016-01-05 18:35:37      Enero       2016             SAN JUAN DE ARAGON   \n",
              "2  2017-11-01 16:56:04  Noviembre       2017                        SUR 117   \n",
              "3  2016-01-05 21:12:42      Enero       2016       CUARTA CERRADA DE FRESNO   \n",
              "4  2018-05-22 10:44:45       Mayo       2018                        TARASCO   \n",
              "5  2018-05-22 10:52:18       Mayo       2018  FRANCISCO DEL PASO Y TRONCOSO   \n",
              "\n",
              "                   calle_hechos2   longitud    latitud  \\\n",
              "0                    CALLE ANZAR -99.103527  19.481076   \n",
              "2                   ORIENTE 100A -99.106072  19.395398   \n",
              "3  ENCINO (SIN REGISTRO DEL SAP) -99.055887  19.322458   \n",
              "4                       ZAPOTECO -99.042786  19.319141   \n",
              "5                           ISLA -99.111563  19.386594   \n",
              "\n",
              "                       geopoint  \n",
              "0      19.4810759998,-99.103527  \n",
              "2  19.3953976727,-99.1060723829  \n",
              "3      19.3224579998,-99.055887  \n",
              "4  19.3191405147,-99.0427862526  \n",
              "5  19.3865939284,-99.1115626682  "
            ],
            "text/html": [
              "\n",
              "  <div id=\"df-2c9e921b-fe50-4977-a584-9a791d89d092\">\n",
              "    <div class=\"colab-df-container\">\n",
              "      <div>\n",
              "<style scoped>\n",
              "    .dataframe tbody tr th:only-of-type {\n",
              "        vertical-align: middle;\n",
              "    }\n",
              "\n",
              "    .dataframe tbody tr th {\n",
              "        vertical-align: top;\n",
              "    }\n",
              "\n",
              "    .dataframe thead th {\n",
              "        text-align: right;\n",
              "    }\n",
              "</style>\n",
              "<table border=\"1\" class=\"dataframe\">\n",
              "  <thead>\n",
              "    <tr style=\"text-align: right;\">\n",
              "      <th></th>\n",
              "      <th>id</th>\n",
              "      <th>ao_hechos</th>\n",
              "      <th>mes_hechos</th>\n",
              "      <th>fecha_hechos</th>\n",
              "      <th>delito</th>\n",
              "      <th>categoria_delito</th>\n",
              "      <th>fiscalia</th>\n",
              "      <th>agencia</th>\n",
              "      <th>unidad_investigacion</th>\n",
              "      <th>colonia_hechos</th>\n",
              "      <th>alcaldia_hechos</th>\n",
              "      <th>fecha_inicio</th>\n",
              "      <th>mes_inicio</th>\n",
              "      <th>ao_inicio</th>\n",
              "      <th>calle_hechos</th>\n",
              "      <th>calle_hechos2</th>\n",
              "      <th>longitud</th>\n",
              "      <th>latitud</th>\n",
              "      <th>geopoint</th>\n",
              "    </tr>\n",
              "  </thead>\n",
              "  <tbody>\n",
              "    <tr>\n",
              "      <th>0</th>\n",
              "      <td>0</td>\n",
              "      <td>2016.0</td>\n",
              "      <td>Enero</td>\n",
              "      <td>2016-01-05 17:00:00</td>\n",
              "      <td>LESIONES CULPOSAS</td>\n",
              "      <td>DELITO DE BAJO IMPACTO</td>\n",
              "      <td>INVESTIGACIÓN EN GUSTAVO A. MADERO</td>\n",
              "      <td>GAM-6</td>\n",
              "      <td>UI-1CD</td>\n",
              "      <td>GRANJAS MODERNAS</td>\n",
              "      <td>GUSTAVO A MADERO</td>\n",
              "      <td>2016-01-05 18:35:37</td>\n",
              "      <td>Enero</td>\n",
              "      <td>2016</td>\n",
              "      <td>SAN JUAN DE ARAGON</td>\n",
              "      <td>CALLE ANZAR</td>\n",
              "      <td>-99.103527</td>\n",
              "      <td>19.481076</td>\n",
              "      <td>19.4810759998,-99.103527</td>\n",
              "    </tr>\n",
              "    <tr>\n",
              "      <th>2</th>\n",
              "      <td>2</td>\n",
              "      <td>2017.0</td>\n",
              "      <td>Noviembre</td>\n",
              "      <td>2017-11-01 16:40:00</td>\n",
              "      <td>ROBO A TRANSEUNTE EN VIA PUBLICA CON VIOLENCIA</td>\n",
              "      <td>ROBO A TRANSEUNTE EN VÍA PÚBLICA CON Y SIN VIO...</td>\n",
              "      <td>INVESTIGACIÓN EN IZTACALCO</td>\n",
              "      <td>IZC-2</td>\n",
              "      <td>UI-1SD</td>\n",
              "      <td>GABRIEL RAMOS MILLÁN SECCIÓN TLACOTAL</td>\n",
              "      <td>IZTACALCO</td>\n",
              "      <td>2017-11-01 16:56:04</td>\n",
              "      <td>Noviembre</td>\n",
              "      <td>2017</td>\n",
              "      <td>SUR 117</td>\n",
              "      <td>ORIENTE 100A</td>\n",
              "      <td>-99.106072</td>\n",
              "      <td>19.395398</td>\n",
              "      <td>19.3953976727,-99.1060723829</td>\n",
              "    </tr>\n",
              "    <tr>\n",
              "      <th>3</th>\n",
              "      <td>3</td>\n",
              "      <td>2015.0</td>\n",
              "      <td>Diciembre</td>\n",
              "      <td>2015-12-30 20:00:00</td>\n",
              "      <td>FRAUDE</td>\n",
              "      <td>DELITO DE BAJO IMPACTO</td>\n",
              "      <td>INVESTIGACIÓN EN IZTAPALAPA</td>\n",
              "      <td>IZP-8</td>\n",
              "      <td>UI-1CD</td>\n",
              "      <td>CONSEJO AGRARISTA MEXICANO</td>\n",
              "      <td>IZTAPALAPA</td>\n",
              "      <td>2016-01-05 21:12:42</td>\n",
              "      <td>Enero</td>\n",
              "      <td>2016</td>\n",
              "      <td>CUARTA CERRADA DE FRESNO</td>\n",
              "      <td>ENCINO (SIN REGISTRO DEL SAP)</td>\n",
              "      <td>-99.055887</td>\n",
              "      <td>19.322458</td>\n",
              "      <td>19.3224579998,-99.055887</td>\n",
              "    </tr>\n",
              "    <tr>\n",
              "      <th>4</th>\n",
              "      <td>4</td>\n",
              "      <td>2018.0</td>\n",
              "      <td>Mayo</td>\n",
              "      <td>2018-05-16 16:00:00</td>\n",
              "      <td>ROBO A REPARTIDOR CON VIOLENCIA</td>\n",
              "      <td>ROBO A REPARTIDOR CON Y SIN VIOLENCIA</td>\n",
              "      <td>INVESTIGACIÓN EN IZTAPALAPA</td>\n",
              "      <td>IZP-9</td>\n",
              "      <td>UI-2SD</td>\n",
              "      <td>DESARROLLO URBANO QUETZALCOATL</td>\n",
              "      <td>IZTAPALAPA</td>\n",
              "      <td>2018-05-22 10:44:45</td>\n",
              "      <td>Mayo</td>\n",
              "      <td>2018</td>\n",
              "      <td>TARASCO</td>\n",
              "      <td>ZAPOTECO</td>\n",
              "      <td>-99.042786</td>\n",
              "      <td>19.319141</td>\n",
              "      <td>19.3191405147,-99.0427862526</td>\n",
              "    </tr>\n",
              "    <tr>\n",
              "      <th>5</th>\n",
              "      <td>5</td>\n",
              "      <td>2018.0</td>\n",
              "      <td>Mayo</td>\n",
              "      <td>2018-05-21 20:40:00</td>\n",
              "      <td>ROBO A TRANSEUNTE DE CELULAR CON VIOLENCIA</td>\n",
              "      <td>DELITO DE BAJO IMPACTO</td>\n",
              "      <td>INVESTIGACIÓN EN CUAUHTEMOC</td>\n",
              "      <td>CUH-2</td>\n",
              "      <td>UI-2SD</td>\n",
              "      <td>INFONAVIT IZTACALCO</td>\n",
              "      <td>IZTACALCO</td>\n",
              "      <td>2018-05-22 10:52:18</td>\n",
              "      <td>Mayo</td>\n",
              "      <td>2018</td>\n",
              "      <td>FRANCISCO DEL PASO Y TRONCOSO</td>\n",
              "      <td>ISLA</td>\n",
              "      <td>-99.111563</td>\n",
              "      <td>19.386594</td>\n",
              "      <td>19.3865939284,-99.1115626682</td>\n",
              "    </tr>\n",
              "  </tbody>\n",
              "</table>\n",
              "</div>\n",
              "      <button class=\"colab-df-convert\" onclick=\"convertToInteractive('df-2c9e921b-fe50-4977-a584-9a791d89d092')\"\n",
              "              title=\"Convert this dataframe to an interactive table.\"\n",
              "              style=\"display:none;\">\n",
              "        \n",
              "  <svg xmlns=\"http://www.w3.org/2000/svg\" height=\"24px\"viewBox=\"0 0 24 24\"\n",
              "       width=\"24px\">\n",
              "    <path d=\"M0 0h24v24H0V0z\" fill=\"none\"/>\n",
              "    <path d=\"M18.56 5.44l.94 2.06.94-2.06 2.06-.94-2.06-.94-.94-2.06-.94 2.06-2.06.94zm-11 1L8.5 8.5l.94-2.06 2.06-.94-2.06-.94L8.5 2.5l-.94 2.06-2.06.94zm10 10l.94 2.06.94-2.06 2.06-.94-2.06-.94-.94-2.06-.94 2.06-2.06.94z\"/><path d=\"M17.41 7.96l-1.37-1.37c-.4-.4-.92-.59-1.43-.59-.52 0-1.04.2-1.43.59L10.3 9.45l-7.72 7.72c-.78.78-.78 2.05 0 2.83L4 21.41c.39.39.9.59 1.41.59.51 0 1.02-.2 1.41-.59l7.78-7.78 2.81-2.81c.8-.78.8-2.07 0-2.86zM5.41 20L4 18.59l7.72-7.72 1.47 1.35L5.41 20z\"/>\n",
              "  </svg>\n",
              "      </button>\n",
              "      \n",
              "  <style>\n",
              "    .colab-df-container {\n",
              "      display:flex;\n",
              "      flex-wrap:wrap;\n",
              "      gap: 12px;\n",
              "    }\n",
              "\n",
              "    .colab-df-convert {\n",
              "      background-color: #E8F0FE;\n",
              "      border: none;\n",
              "      border-radius: 50%;\n",
              "      cursor: pointer;\n",
              "      display: none;\n",
              "      fill: #1967D2;\n",
              "      height: 32px;\n",
              "      padding: 0 0 0 0;\n",
              "      width: 32px;\n",
              "    }\n",
              "\n",
              "    .colab-df-convert:hover {\n",
              "      background-color: #E2EBFA;\n",
              "      box-shadow: 0px 1px 2px rgba(60, 64, 67, 0.3), 0px 1px 3px 1px rgba(60, 64, 67, 0.15);\n",
              "      fill: #174EA6;\n",
              "    }\n",
              "\n",
              "    [theme=dark] .colab-df-convert {\n",
              "      background-color: #3B4455;\n",
              "      fill: #D2E3FC;\n",
              "    }\n",
              "\n",
              "    [theme=dark] .colab-df-convert:hover {\n",
              "      background-color: #434B5C;\n",
              "      box-shadow: 0px 1px 3px 1px rgba(0, 0, 0, 0.15);\n",
              "      filter: drop-shadow(0px 1px 2px rgba(0, 0, 0, 0.3));\n",
              "      fill: #FFFFFF;\n",
              "    }\n",
              "  </style>\n",
              "\n",
              "      <script>\n",
              "        const buttonEl =\n",
              "          document.querySelector('#df-2c9e921b-fe50-4977-a584-9a791d89d092 button.colab-df-convert');\n",
              "        buttonEl.style.display =\n",
              "          google.colab.kernel.accessAllowed ? 'block' : 'none';\n",
              "\n",
              "        async function convertToInteractive(key) {\n",
              "          const element = document.querySelector('#df-2c9e921b-fe50-4977-a584-9a791d89d092');\n",
              "          const dataTable =\n",
              "            await google.colab.kernel.invokeFunction('convertToInteractive',\n",
              "                                                     [key], {});\n",
              "          if (!dataTable) return;\n",
              "\n",
              "          const docLinkHtml = 'Like what you see? Visit the ' +\n",
              "            '<a target=\"_blank\" href=https://colab.research.google.com/notebooks/data_table.ipynb>data table notebook</a>'\n",
              "            + ' to learn more about interactive tables.';\n",
              "          element.innerHTML = '';\n",
              "          dataTable['output_type'] = 'display_data';\n",
              "          await google.colab.output.renderOutput(dataTable, element);\n",
              "          const docLink = document.createElement('div');\n",
              "          docLink.innerHTML = docLinkHtml;\n",
              "          element.appendChild(docLink);\n",
              "        }\n",
              "      </script>\n",
              "    </div>\n",
              "  </div>\n",
              "  "
            ]
          },
          "metadata": {},
          "execution_count": 3
        }
      ]
    },
    {
      "cell_type": "code",
      "source": [
        "df.alcaldia_hechos.nunique()"
      ],
      "metadata": {
        "colab": {
          "base_uri": "https://localhost:8080/"
        },
        "id": "rjcvr1hnpMTI",
        "outputId": "89e72a92-b215-4fd3-96ed-86b368a2e295"
      },
      "execution_count": 4,
      "outputs": [
        {
          "output_type": "execute_result",
          "data": {
            "text/plain": [
              "16"
            ]
          },
          "metadata": {},
          "execution_count": 4
        }
      ]
    },
    {
      "cell_type": "code",
      "source": [
        "df.info()"
      ],
      "metadata": {
        "id": "ZvJCJwjlppkT"
      },
      "execution_count": null,
      "outputs": []
    },
    {
      "cell_type": "code",
      "source": [
        "# Convert the values to the right type\n",
        "df['fecha_hechos'] = df['fecha_hechos'].astype('datetime64')\n",
        "df['fecha_inicio'] = df['fecha_inicio'].astype('datetime64')\n",
        "df['mes_hechos'] = pd.Categorical(df['mes_hechos'])\n",
        "df['delito'] = pd.Categorical(df['delito'])\n",
        "df['categoria_delito'] = pd.Categorical(df['categoria_delito']) \n",
        "df['unidad_investigacion'] = pd.Categorical(df['unidad_investigacion']) "
      ],
      "metadata": {
        "id": "cLRhJ2QunNPq"
      },
      "execution_count": 5,
      "outputs": []
    },
    {
      "cell_type": "code",
      "execution_count": 33,
      "metadata": {
        "colab": {
          "base_uri": "https://localhost:8080/"
        },
        "id": "saRdeWBXg2qR",
        "outputId": "cd50ef49-bf2a-409a-aa9f-36558e7ba25e"
      },
      "outputs": [
        {
          "output_type": "stream",
          "name": "stdout",
          "text": [
            "<class 'pandas.core.frame.DataFrame'>\n",
            "Int64Index: 800207 entries, 0 to 808870\n",
            "Data columns (total 19 columns):\n",
            " #   Column                Non-Null Count   Dtype         \n",
            "---  ------                --------------   -----         \n",
            " 0   id                    800207 non-null  int64         \n",
            " 1   ao_hechos             800021 non-null  float64       \n",
            " 2   mes_hechos            800021 non-null  category      \n",
            " 3   fecha_hechos          800021 non-null  datetime64[ns]\n",
            " 4   delito                800207 non-null  category      \n",
            " 5   categoria_delito      800207 non-null  category      \n",
            " 6   fiscalia              800207 non-null  object        \n",
            " 7   agencia               800207 non-null  object        \n",
            " 8   unidad_investigacion  799985 non-null  category      \n",
            " 9   colonia_hechos        776763 non-null  object        \n",
            " 10  alcaldia_hechos       800207 non-null  object        \n",
            " 11  fecha_inicio          800207 non-null  datetime64[ns]\n",
            " 12  mes_inicio            800207 non-null  object        \n",
            " 13  ao_inicio             800207 non-null  int64         \n",
            " 14  calle_hechos          798142 non-null  object        \n",
            " 15  calle_hechos2         324051 non-null  object        \n",
            " 16  longitud              777531 non-null  float64       \n",
            " 17  latitud               777531 non-null  float64       \n",
            " 18  geopoint              777531 non-null  object        \n",
            "dtypes: category(4), datetime64[ns](2), float64(3), int64(2), object(8)\n",
            "memory usage: 101.5+ MB\n"
          ]
        }
      ],
      "source": [
        "# Summarise the data, including dates\n",
        "df.info()"
      ]
    },
    {
      "cell_type": "code",
      "source": [
        "df.describe(datetime_is_numeric= True)"
      ],
      "metadata": {
        "colab": {
          "base_uri": "https://localhost:8080/",
          "height": 300
        },
        "id": "u4OrgVF2svUI",
        "outputId": "b552d1dc-3b21-42e2-bf75-e4c588c3a4d9"
      },
      "execution_count": 6,
      "outputs": [
        {
          "output_type": "execute_result",
          "data": {
            "text/plain": [
              "                  id      ao_hechos                   fecha_hechos  \\\n",
              "count  800207.000000  800021.000000                         800021   \n",
              "mean   404440.724969    2017.233964  2017-09-15 06:18:33.451072768   \n",
              "min         0.000000    1906.000000            1906-06-02 19:00:00   \n",
              "25%    202177.500000    2016.000000            2016-11-28 10:30:00   \n",
              "50%    404476.000000    2017.000000            2017-10-27 11:30:00   \n",
              "75%    606686.500000    2018.000000            2018-08-25 13:00:00   \n",
              "max    808870.000000    2019.000000            2019-06-30 23:00:00   \n",
              "std    233527.398708       1.412214                            NaN   \n",
              "\n",
              "                        fecha_inicio      ao_inicio       longitud  \\\n",
              "count                         800207  800207.000000  777531.000000   \n",
              "mean   2017-11-08 17:23:31.065400576    2017.385711     -99.137482   \n",
              "min              2016-01-01 01:35:06    2016.000000     -99.342765   \n",
              "25%              2017-01-09 17:54:14    2017.000000     -99.174906   \n",
              "50%              2017-11-27 12:11:57    2017.000000     -99.142680   \n",
              "75%       2018-09-19 16:27:08.500000    2018.000000     -99.101421   \n",
              "max              2019-06-30 23:56:29    2019.000000     -98.946873   \n",
              "std                              NaN       1.020460       0.058753   \n",
              "\n",
              "             latitud  \n",
              "count  777531.000000  \n",
              "mean       19.388497  \n",
              "min         9.486549  \n",
              "25%        19.342264  \n",
              "50%        19.391685  \n",
              "75%        19.437588  \n",
              "max        19.582490  \n",
              "std         0.069692  "
            ],
            "text/html": [
              "\n",
              "  <div id=\"df-c0946ec8-9149-464d-85d3-39ffd2974d6f\">\n",
              "    <div class=\"colab-df-container\">\n",
              "      <div>\n",
              "<style scoped>\n",
              "    .dataframe tbody tr th:only-of-type {\n",
              "        vertical-align: middle;\n",
              "    }\n",
              "\n",
              "    .dataframe tbody tr th {\n",
              "        vertical-align: top;\n",
              "    }\n",
              "\n",
              "    .dataframe thead th {\n",
              "        text-align: right;\n",
              "    }\n",
              "</style>\n",
              "<table border=\"1\" class=\"dataframe\">\n",
              "  <thead>\n",
              "    <tr style=\"text-align: right;\">\n",
              "      <th></th>\n",
              "      <th>id</th>\n",
              "      <th>ao_hechos</th>\n",
              "      <th>fecha_hechos</th>\n",
              "      <th>fecha_inicio</th>\n",
              "      <th>ao_inicio</th>\n",
              "      <th>longitud</th>\n",
              "      <th>latitud</th>\n",
              "    </tr>\n",
              "  </thead>\n",
              "  <tbody>\n",
              "    <tr>\n",
              "      <th>count</th>\n",
              "      <td>800207.000000</td>\n",
              "      <td>800021.000000</td>\n",
              "      <td>800021</td>\n",
              "      <td>800207</td>\n",
              "      <td>800207.000000</td>\n",
              "      <td>777531.000000</td>\n",
              "      <td>777531.000000</td>\n",
              "    </tr>\n",
              "    <tr>\n",
              "      <th>mean</th>\n",
              "      <td>404440.724969</td>\n",
              "      <td>2017.233964</td>\n",
              "      <td>2017-09-15 06:18:33.451072768</td>\n",
              "      <td>2017-11-08 17:23:31.065400576</td>\n",
              "      <td>2017.385711</td>\n",
              "      <td>-99.137482</td>\n",
              "      <td>19.388497</td>\n",
              "    </tr>\n",
              "    <tr>\n",
              "      <th>min</th>\n",
              "      <td>0.000000</td>\n",
              "      <td>1906.000000</td>\n",
              "      <td>1906-06-02 19:00:00</td>\n",
              "      <td>2016-01-01 01:35:06</td>\n",
              "      <td>2016.000000</td>\n",
              "      <td>-99.342765</td>\n",
              "      <td>9.486549</td>\n",
              "    </tr>\n",
              "    <tr>\n",
              "      <th>25%</th>\n",
              "      <td>202177.500000</td>\n",
              "      <td>2016.000000</td>\n",
              "      <td>2016-11-28 10:30:00</td>\n",
              "      <td>2017-01-09 17:54:14</td>\n",
              "      <td>2017.000000</td>\n",
              "      <td>-99.174906</td>\n",
              "      <td>19.342264</td>\n",
              "    </tr>\n",
              "    <tr>\n",
              "      <th>50%</th>\n",
              "      <td>404476.000000</td>\n",
              "      <td>2017.000000</td>\n",
              "      <td>2017-10-27 11:30:00</td>\n",
              "      <td>2017-11-27 12:11:57</td>\n",
              "      <td>2017.000000</td>\n",
              "      <td>-99.142680</td>\n",
              "      <td>19.391685</td>\n",
              "    </tr>\n",
              "    <tr>\n",
              "      <th>75%</th>\n",
              "      <td>606686.500000</td>\n",
              "      <td>2018.000000</td>\n",
              "      <td>2018-08-25 13:00:00</td>\n",
              "      <td>2018-09-19 16:27:08.500000</td>\n",
              "      <td>2018.000000</td>\n",
              "      <td>-99.101421</td>\n",
              "      <td>19.437588</td>\n",
              "    </tr>\n",
              "    <tr>\n",
              "      <th>max</th>\n",
              "      <td>808870.000000</td>\n",
              "      <td>2019.000000</td>\n",
              "      <td>2019-06-30 23:00:00</td>\n",
              "      <td>2019-06-30 23:56:29</td>\n",
              "      <td>2019.000000</td>\n",
              "      <td>-98.946873</td>\n",
              "      <td>19.582490</td>\n",
              "    </tr>\n",
              "    <tr>\n",
              "      <th>std</th>\n",
              "      <td>233527.398708</td>\n",
              "      <td>1.412214</td>\n",
              "      <td>NaN</td>\n",
              "      <td>NaN</td>\n",
              "      <td>1.020460</td>\n",
              "      <td>0.058753</td>\n",
              "      <td>0.069692</td>\n",
              "    </tr>\n",
              "  </tbody>\n",
              "</table>\n",
              "</div>\n",
              "      <button class=\"colab-df-convert\" onclick=\"convertToInteractive('df-c0946ec8-9149-464d-85d3-39ffd2974d6f')\"\n",
              "              title=\"Convert this dataframe to an interactive table.\"\n",
              "              style=\"display:none;\">\n",
              "        \n",
              "  <svg xmlns=\"http://www.w3.org/2000/svg\" height=\"24px\"viewBox=\"0 0 24 24\"\n",
              "       width=\"24px\">\n",
              "    <path d=\"M0 0h24v24H0V0z\" fill=\"none\"/>\n",
              "    <path d=\"M18.56 5.44l.94 2.06.94-2.06 2.06-.94-2.06-.94-.94-2.06-.94 2.06-2.06.94zm-11 1L8.5 8.5l.94-2.06 2.06-.94-2.06-.94L8.5 2.5l-.94 2.06-2.06.94zm10 10l.94 2.06.94-2.06 2.06-.94-2.06-.94-.94-2.06-.94 2.06-2.06.94z\"/><path d=\"M17.41 7.96l-1.37-1.37c-.4-.4-.92-.59-1.43-.59-.52 0-1.04.2-1.43.59L10.3 9.45l-7.72 7.72c-.78.78-.78 2.05 0 2.83L4 21.41c.39.39.9.59 1.41.59.51 0 1.02-.2 1.41-.59l7.78-7.78 2.81-2.81c.8-.78.8-2.07 0-2.86zM5.41 20L4 18.59l7.72-7.72 1.47 1.35L5.41 20z\"/>\n",
              "  </svg>\n",
              "      </button>\n",
              "      \n",
              "  <style>\n",
              "    .colab-df-container {\n",
              "      display:flex;\n",
              "      flex-wrap:wrap;\n",
              "      gap: 12px;\n",
              "    }\n",
              "\n",
              "    .colab-df-convert {\n",
              "      background-color: #E8F0FE;\n",
              "      border: none;\n",
              "      border-radius: 50%;\n",
              "      cursor: pointer;\n",
              "      display: none;\n",
              "      fill: #1967D2;\n",
              "      height: 32px;\n",
              "      padding: 0 0 0 0;\n",
              "      width: 32px;\n",
              "    }\n",
              "\n",
              "    .colab-df-convert:hover {\n",
              "      background-color: #E2EBFA;\n",
              "      box-shadow: 0px 1px 2px rgba(60, 64, 67, 0.3), 0px 1px 3px 1px rgba(60, 64, 67, 0.15);\n",
              "      fill: #174EA6;\n",
              "    }\n",
              "\n",
              "    [theme=dark] .colab-df-convert {\n",
              "      background-color: #3B4455;\n",
              "      fill: #D2E3FC;\n",
              "    }\n",
              "\n",
              "    [theme=dark] .colab-df-convert:hover {\n",
              "      background-color: #434B5C;\n",
              "      box-shadow: 0px 1px 3px 1px rgba(0, 0, 0, 0.15);\n",
              "      filter: drop-shadow(0px 1px 2px rgba(0, 0, 0, 0.3));\n",
              "      fill: #FFFFFF;\n",
              "    }\n",
              "  </style>\n",
              "\n",
              "      <script>\n",
              "        const buttonEl =\n",
              "          document.querySelector('#df-c0946ec8-9149-464d-85d3-39ffd2974d6f button.colab-df-convert');\n",
              "        buttonEl.style.display =\n",
              "          google.colab.kernel.accessAllowed ? 'block' : 'none';\n",
              "\n",
              "        async function convertToInteractive(key) {\n",
              "          const element = document.querySelector('#df-c0946ec8-9149-464d-85d3-39ffd2974d6f');\n",
              "          const dataTable =\n",
              "            await google.colab.kernel.invokeFunction('convertToInteractive',\n",
              "                                                     [key], {});\n",
              "          if (!dataTable) return;\n",
              "\n",
              "          const docLinkHtml = 'Like what you see? Visit the ' +\n",
              "            '<a target=\"_blank\" href=https://colab.research.google.com/notebooks/data_table.ipynb>data table notebook</a>'\n",
              "            + ' to learn more about interactive tables.';\n",
              "          element.innerHTML = '';\n",
              "          dataTable['output_type'] = 'display_data';\n",
              "          await google.colab.output.renderOutput(dataTable, element);\n",
              "          const docLink = document.createElement('div');\n",
              "          docLink.innerHTML = docLinkHtml;\n",
              "          element.appendChild(docLink);\n",
              "        }\n",
              "      </script>\n",
              "    </div>\n",
              "  </div>\n",
              "  "
            ]
          },
          "metadata": {},
          "execution_count": 6
        }
      ]
    },
    {
      "cell_type": "code",
      "execution_count": 7,
      "metadata": {
        "colab": {
          "base_uri": "https://localhost:8080/"
        },
        "id": "9IjIu3lUg2qS",
        "outputId": "228ae18f-5557-470e-89e9-84a5a978b2af"
      },
      "outputs": [
        {
          "output_type": "stream",
          "name": "stdout",
          "text": [
            "There are 800207 crimes, from 2016-01-01 01:35:06 to 2019-06-30 23:56:29\n"
          ]
        }
      ],
      "source": [
        "# How many crimes are recorded in this dataset? In which period?\n",
        "print(f\"There are {len(df)} crimes, from {df['fecha_inicio'].min()} to {df['fecha_inicio'].max()}\")"
      ]
    },
    {
      "cell_type": "code",
      "execution_count": 8,
      "metadata": {
        "colab": {
          "base_uri": "https://localhost:8080/"
        },
        "id": "Nh2y4vBng2qS",
        "outputId": "46ebe4da-2f05-4581-a7b4-18c3f10af3f8"
      },
      "outputs": [
        {
          "output_type": "execute_result",
          "data": {
            "text/plain": [
              "273"
            ]
          },
          "metadata": {},
          "execution_count": 8
        }
      ],
      "source": [
        "# How many crimes were recorded by year?\n",
        "len(df['delito'].value_counts())"
      ]
    },
    {
      "cell_type": "code",
      "source": [
        "df['ao_inicio'].value_counts().plot(kind='bar')"
      ],
      "metadata": {
        "colab": {
          "base_uri": "https://localhost:8080/",
          "height": 299
        },
        "id": "EQiVFaHxvz9X",
        "outputId": "348726fa-186c-4b1f-8ed5-f5a867b3d56c"
      },
      "execution_count": 9,
      "outputs": [
        {
          "output_type": "execute_result",
          "data": {
            "text/plain": [
              "<matplotlib.axes._subplots.AxesSubplot at 0x7ff8c4d97410>"
            ]
          },
          "metadata": {},
          "execution_count": 9
        },
        {
          "output_type": "display_data",
          "data": {
            "text/plain": [
              "<Figure size 432x288 with 1 Axes>"
            ],
            "image/png": "[encoded data removed]"
          },
          "metadata": {
            "needs_background": "light"
          }
        }
      ]
    },
    {
      "cell_type": "code",
      "source": [
        "df.set_index('fecha_inicio', inplace= True)"
      ],
      "metadata": {
        "id": "SKqrUFsgxVnG"
      },
      "execution_count": 10,
      "outputs": []
    },
    {
      "cell_type": "code",
      "source": [
        "df_count = df.groupby(df.index.year).size().reset_index(name='obs')"
      ],
      "metadata": {
        "id": "w6gMDDpBzHkZ"
      },
      "execution_count": 11,
      "outputs": []
    },
    {
      "cell_type": "code",
      "source": [
        "df_count.plot.bar(title='Crimes per years', x= 'fecha_inicio', y='obs')"
      ],
      "metadata": {
        "colab": {
          "base_uri": "https://localhost:8080/",
          "height": 330
        },
        "id": "VSAIMLKoztew",
        "outputId": "bbe1d663-071f-45cf-aa16-b7406745085d"
      },
      "execution_count": 14,
      "outputs": [
        {
          "output_type": "execute_result",
          "data": {
            "text/plain": [
              "<matplotlib.axes._subplots.AxesSubplot at 0x7ff8b4083410>"
            ]
          },
          "metadata": {},
          "execution_count": 14
        },
        {
          "output_type": "display_data",
          "data": {
            "text/plain": [
              "<Figure size 432x288 with 1 Axes>"
            ],
            "image/png": "[encoded data removed]"
          },
          "metadata": {
            "needs_background": "light"
          }
        }
      ]
    },
    {
      "cell_type": "code",
      "execution_count": null,
      "metadata": {
        "id": "1MXVoWlug2qT"
      },
      "outputs": [],
      "source": [
        "# Show the top 5 crimes\n"
      ]
    },
    {
      "cell_type": "code",
      "execution_count": null,
      "metadata": {
        "id": "ZhL9LwDdg2qU"
      },
      "outputs": [],
      "source": [
        "# Calculate the accumulated rate of the top 5 crimes"
      ]
    },
    {
      "cell_type": "code",
      "execution_count": null,
      "metadata": {
        "id": "-4bAF86tg2qU"
      },
      "outputs": [],
      "source": [
        "# Which city has the most and the less crimes in the dataset?"
      ]
    },
    {
      "cell_type": "code",
      "execution_count": null,
      "metadata": {
        "id": "f9jsIacNg2qU"
      },
      "outputs": [],
      "source": [
        "# In each city, what are the top 3 subcities (\"Colonias\") with most crimes?"
      ]
    },
    {
      "cell_type": "code",
      "execution_count": null,
      "metadata": {
        "id": "MKcPSlgAg2qU"
      },
      "outputs": [],
      "source": [
        "# Do you see a trend per month or day?"
      ]
    }
  ],
  "metadata": {
    "kernelspec": {
      "display_name": "Python 3.6.13 ('Commons')",
      "language": "python",
      "name": "python3"
    },
    "language_info": {
      "codemirror_mode": {
        "name": "ipython",
        "version": 3
      },
      "file_extension": ".py",
      "mimetype": "text/x-python",
      "name": "python",
      "nbconvert_exporter": "python",
      "pygments_lexer": "ipython3",
      "version": "3.6.13"
    },
    "orig_nbformat": 4,
    "vscode": {
      "interpreter": {
        "hash": "22cb16a68ed3755efd7facba972c712a32791f674b17b75d712aff04843af63e"
      }
    },
    "colab": {
      "name": "Crimes_4GKS.ipynb",
      "provenance": [],
      "include_colab_link": true
    }
  },
  "nbformat": 4,
  "nbformat_minor": 0
}