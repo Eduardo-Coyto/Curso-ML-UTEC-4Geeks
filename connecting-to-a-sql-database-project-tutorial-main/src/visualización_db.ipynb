{
 "cells": [
  {
   "cell_type": "code",
   "execution_count": 12,
   "metadata": {},
   "outputs": [],
   "source": [
    "import psycopg2\n",
    "import pandas as pd\n",
    "from dotenv import load_dotenv"
   ]
  },
  {
   "cell_type": "code",
   "execution_count": 13,
   "metadata": {},
   "outputs": [],
   "source": [
    "load_dotenv()\n",
    "\n",
    "database =  os.getenv(\"DATABASE\")\n",
    "user = os.getenv(\"USER\")\n",
    "password = os.getenv(\"PASSWORD\")\n",
    "host = os.getenv('HOST')\n",
    "port = os.getenv('PORT')"
   ]
  },
  {
   "cell_type": "code",
   "execution_count": 14,
   "metadata": {},
   "outputs": [],
   "source": [
    "conn = psycopg2.connect(\n",
    "                        database= database, \n",
    "                        user= user, \n",
    "                        password= password,  \n",
    "                        host= host, \n",
    "                        port= port\n",
    "                        )\n",
    "conectar = conn.cursor()\n"
   ]
  },
  {
   "cell_type": "code",
   "execution_count": 20,
   "metadata": {},
   "outputs": [],
   "source": [
    "name_Table = \"publishers\"\n",
    "sqlCreateTable = \"create table if not exists \"+name_Table+\" (publisher_id INT NOT NULL, name VARCHAR(255) NOT NULL, PRIMARY KEY(publisher_id));\"\n"
   ]
  },
  {
   "cell_type": "code",
   "execution_count": 21,
   "metadata": {},
   "outputs": [],
   "source": [
    "conectar.execute(sqlCreateTable)\n",
    "\n",
    "conn.commit()"
   ]
  },
  {
   "cell_type": "code",
   "execution_count": 22,
   "metadata": {},
   "outputs": [],
   "source": [
    "sqlGetTableList =   \"\"\"\n",
    "                    INSERT INTO publishers (publisher_id, name) values (1,'O Reilly Media');\n",
    "                    INSERT INTO publishers(publisher_id,name) values (2,'A Book Apart');\n",
    "                    INSERT INTO publishers(publisher_id,name) values (3,'A K PETERS');\n",
    "                    INSERT INTO publishers(publisher_id,name) values (4,'Academic Press');\n",
    "                    INSERT INTO publishers(publisher_id,name) values (5,'Addison Wesley');\n",
    "                    INSERT INTO publishers(publisher_id,name) values (6,'Albert&Sweigart');\n",
    "                    INSERT INTO publishers(publisher_id,name) values (7,'Alfred A. Knopf');\n",
    "                    \"\"\""
   ]
  },
  {
   "cell_type": "code",
   "execution_count": 23,
   "metadata": {},
   "outputs": [
    {
     "ename": "UniqueViolation",
     "evalue": "duplicate key value violates unique constraint \"publishers_pkey\"\nDETAIL:  Key (publisher_id)=(1) already exists.\n",
     "output_type": "error",
     "traceback": [
      "\u001b[0;31m---------------------------------------------------------------------------\u001b[0m",
      "\u001b[0;31mUniqueViolation\u001b[0m                           Traceback (most recent call last)",
      "\u001b[1;32m/workspace/connecting-to-a-sql-database-project-tutorial/prueba_vi_db.ipynb Cell 7'\u001b[0m in \u001b[0;36m<cell line: 1>\u001b[0;34m()\u001b[0m\n\u001b[0;32m----> <a href='vscode-notebook-cell://eduardocoyt-connectingt-6cd931fu1kz.ws-us47.gitpod.io/workspace/connecting-to-a-sql-database-project-tutorial/prueba_vi_db.ipynb#ch0000012vscode-remote?line=0'>1</a>\u001b[0m conectar\u001b[39m.\u001b[39;49mexecute(sqlGetTableList)\n\u001b[1;32m      <a href='vscode-notebook-cell://eduardocoyt-connectingt-6cd931fu1kz.ws-us47.gitpod.io/workspace/connecting-to-a-sql-database-project-tutorial/prueba_vi_db.ipynb#ch0000012vscode-remote?line=2'>3</a>\u001b[0m conn\u001b[39m.\u001b[39mcommit()\n\u001b[1;32m      <a href='vscode-notebook-cell://eduardocoyt-connectingt-6cd931fu1kz.ws-us47.gitpod.io/workspace/connecting-to-a-sql-database-project-tutorial/prueba_vi_db.ipynb#ch0000012vscode-remote?line=3'>4</a>\u001b[0m conn\u001b[39m.\u001b[39mclose()\n",
      "\u001b[0;31mUniqueViolation\u001b[0m: duplicate key value violates unique constraint \"publishers_pkey\"\nDETAIL:  Key (publisher_id)=(1) already exists.\n"
     ]
    }
   ],
   "source": [
    "conectar.execute(sqlGetTableList)\n",
    "\n",
    "conn.commit()\n",
    "conn.close()\n",
    "conectar.close()\n"
   ]
  },
  {
   "cell_type": "code",
   "execution_count": 26,
   "metadata": {},
   "outputs": [],
   "source": [
    "df= pd.read_sql('SELECT * FROM publishers', conn)\n",
    "df\n",
    "conn.close()"
   ]
  },
  {
   "cell_type": "code",
   "execution_count": 27,
   "metadata": {},
   "outputs": [
    {
     "data": {
      "text/html": [
       "<div>\n",
       "<style scoped>\n",
       "    .dataframe tbody tr th:only-of-type {\n",
       "        vertical-align: middle;\n",
       "    }\n",
       "\n",
       "    .dataframe tbody tr th {\n",
       "        vertical-align: top;\n",
       "    }\n",
       "\n",
       "    .dataframe thead th {\n",
       "        text-align: right;\n",
       "    }\n",
       "</style>\n",
       "<table border=\"1\" class=\"dataframe\">\n",
       "  <thead>\n",
       "    <tr style=\"text-align: right;\">\n",
       "      <th></th>\n",
       "      <th>publisher_id</th>\n",
       "      <th>name</th>\n",
       "    </tr>\n",
       "  </thead>\n",
       "  <tbody>\n",
       "    <tr>\n",
       "      <th>0</th>\n",
       "      <td>1</td>\n",
       "      <td>O Reilly Media</td>\n",
       "    </tr>\n",
       "    <tr>\n",
       "      <th>1</th>\n",
       "      <td>2</td>\n",
       "      <td>A Book Apart</td>\n",
       "    </tr>\n",
       "    <tr>\n",
       "      <th>2</th>\n",
       "      <td>3</td>\n",
       "      <td>A K PETERS</td>\n",
       "    </tr>\n",
       "    <tr>\n",
       "      <th>3</th>\n",
       "      <td>4</td>\n",
       "      <td>Academic Press</td>\n",
       "    </tr>\n",
       "    <tr>\n",
       "      <th>4</th>\n",
       "      <td>5</td>\n",
       "      <td>Addison Wesley</td>\n",
       "    </tr>\n",
       "    <tr>\n",
       "      <th>5</th>\n",
       "      <td>6</td>\n",
       "      <td>Albert&amp;Sweigart</td>\n",
       "    </tr>\n",
       "    <tr>\n",
       "      <th>6</th>\n",
       "      <td>7</td>\n",
       "      <td>Alfred A. Knopf</td>\n",
       "    </tr>\n",
       "  </tbody>\n",
       "</table>\n",
       "</div>"
      ],
      "text/plain": [
       "   publisher_id             name\n",
       "0             1   O Reilly Media\n",
       "1             2     A Book Apart\n",
       "2             3       A K PETERS\n",
       "3             4   Academic Press\n",
       "4             5   Addison Wesley\n",
       "5             6  Albert&Sweigart\n",
       "6             7  Alfred A. Knopf"
      ]
     },
     "execution_count": 27,
     "metadata": {},
     "output_type": "execute_result"
    }
   ],
   "source": [
    "df"
   ]
  }
 ],
 "metadata": {
  "kernelspec": {
   "display_name": "Python 3.8.13 64-bit ('3.8.13')",
   "language": "python",
   "name": "python3"
  },
  "language_info": {
   "codemirror_mode": {
    "name": "ipython",
    "version": 3
   },
   "file_extension": ".py",
   "mimetype": "text/x-python",
   "name": "python",
   "nbconvert_exporter": "python",
   "pygments_lexer": "ipython3",
   "version": "3.8.13"
  },
  "orig_nbformat": 4,
  "vscode": {
   "interpreter": {
    "hash": "110cc1dee26208153f2972f08a2ad52b6a56238dc66d48e87fb757ef2996db56"
   }
  }
 },
 "nbformat": 4,
 "nbformat_minor": 2
}
