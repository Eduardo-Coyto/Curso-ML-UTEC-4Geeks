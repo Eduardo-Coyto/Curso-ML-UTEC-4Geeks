{
 "cells": [
  {
   "cell_type": "code",
   "execution_count": 1,
   "metadata": {},
   "outputs": [],
   "source": [
    "import tweepy\n",
    "import requests\n",
    "import pandas as pd\n",
    "import credenciales"
   ]
  },
  {
   "cell_type": "code",
   "execution_count": 3,
   "metadata": {},
   "outputs": [],
   "source": [
    "userkey = credenciales.API_Key\n",
    "keysecret = credenciales.API_Key_Secret\n",
    "bearertoken = credenciales.Bearer_Token\n",
    "\n",
    "client = tweepy.Client(bearer_token= bearertoken,\n",
    "                       consumer_key= userkey,\n",
    "                       consumer_secret= keysecret,\n",
    "                       access_token= credenciales.Access_Token,\n",
    "                       access_token_secret= credenciales.Access_Token_Secret,\n",
    "                       return_type=requests.Response,\n",
    "                       wait_on_rate_limit=True\n",
    "                       )\n",
    "\n",
    "\n",
    "public_tweets = client.get_home_timeline()"
   ]
  },
  {
   "cell_type": "code",
   "execution_count": 4,
   "metadata": {},
   "outputs": [
    {
     "data": {
      "text/plain": [
       "['data', 'meta']"
      ]
     },
     "execution_count": 4,
     "metadata": {},
     "output_type": "execute_result"
    }
   ],
   "source": [
    "public_tweets = public_tweets.json() \n",
    "list(public_tweets)"
   ]
  },
  {
   "cell_type": "code",
   "execution_count": 6,
   "metadata": {},
   "outputs": [
    {
     "data": {
      "text/plain": [
       "100"
      ]
     },
     "execution_count": 6,
     "metadata": {},
     "output_type": "execute_result"
    }
   ],
   "source": [
    "public_tweets_data = public_tweets['data'] \n",
    "len(public_tweets_data)"
   ]
  },
  {
   "cell_type": "code",
   "execution_count": 7,
   "metadata": {},
   "outputs": [
    {
     "data": {
      "text/plain": [
       "['id', 'text']"
      ]
     },
     "execution_count": 7,
     "metadata": {},
     "output_type": "execute_result"
    }
   ],
   "source": [
    "list(public_tweets_data[0])"
   ]
  },
  {
   "cell_type": "code",
   "execution_count": 8,
   "metadata": {},
   "outputs": [
    {
     "data": {
      "text/html": [
       "<div>\n",
       "<style scoped>\n",
       "    .dataframe tbody tr th:only-of-type {\n",
       "        vertical-align: middle;\n",
       "    }\n",
       "\n",
       "    .dataframe tbody tr th {\n",
       "        vertical-align: top;\n",
       "    }\n",
       "\n",
       "    .dataframe thead th {\n",
       "        text-align: right;\n",
       "    }\n",
       "</style>\n",
       "<table border=\"1\" class=\"dataframe\">\n",
       "  <thead>\n",
       "    <tr style=\"text-align: right;\">\n",
       "      <th></th>\n",
       "      <th>id</th>\n",
       "      <th>text</th>\n",
       "    </tr>\n",
       "  </thead>\n",
       "  <tbody>\n",
       "    <tr>\n",
       "      <th>0</th>\n",
       "      <td>1538896105756409856</td>\n",
       "      <td>⚡ #Falla Relevante de internet detectada: #Tel...</td>\n",
       "    </tr>\n",
       "    <tr>\n",
       "      <th>1</th>\n",
       "      <td>1538896094503084036</td>\n",
       "      <td>⚡ Considerável #interrupção de Internet detect...</td>\n",
       "    </tr>\n",
       "    <tr>\n",
       "      <th>2</th>\n",
       "      <td>1538895260704821251</td>\n",
       "      <td>✅ Resolvemos esta ECUACIÓN en 1 MINUTO de form...</td>\n",
       "    </tr>\n",
       "    <tr>\n",
       "      <th>3</th>\n",
       "      <td>1538892886023888896</td>\n",
       "      <td>RT @ampol_moment: President Biden defines Amer...</td>\n",
       "    </tr>\n",
       "    <tr>\n",
       "      <th>4</th>\n",
       "      <td>1538888958410629120</td>\n",
       "      <td>El milagro de la lluvia  https://t.co/6IpSNHrpO3</td>\n",
       "    </tr>\n",
       "    <tr>\n",
       "      <th>...</th>\n",
       "      <td>...</td>\n",
       "      <td>...</td>\n",
       "    </tr>\n",
       "    <tr>\n",
       "      <th>95</th>\n",
       "      <td>1538874798104788992</td>\n",
       "      <td>✅ Moderate Internet #outage ended: #CenturyLin...</td>\n",
       "    </tr>\n",
       "    <tr>\n",
       "      <th>96</th>\n",
       "      <td>1538874786000130048</td>\n",
       "      <td>✅ Moderate Internet #outage ended: #CenturyLin...</td>\n",
       "    </tr>\n",
       "    <tr>\n",
       "      <th>97</th>\n",
       "      <td>1538874776395124737</td>\n",
       "      <td>🆗 Moderate Internet #outage ended: #SpectrumBu...</td>\n",
       "    </tr>\n",
       "    <tr>\n",
       "      <th>98</th>\n",
       "      <td>1538874765179502592</td>\n",
       "      <td>🆙 Moderate Internet #outage ended: #CenturyLin...</td>\n",
       "    </tr>\n",
       "    <tr>\n",
       "      <th>99</th>\n",
       "      <td>1538874754978938880</td>\n",
       "      <td>🆗 Moderate Internet #outage ended: #Spectrum i...</td>\n",
       "    </tr>\n",
       "  </tbody>\n",
       "</table>\n",
       "<p>100 rows × 2 columns</p>\n",
       "</div>"
      ],
      "text/plain": [
       "                     id                                               text\n",
       "0   1538896105756409856  ⚡ #Falla Relevante de internet detectada: #Tel...\n",
       "1   1538896094503084036  ⚡ Considerável #interrupção de Internet detect...\n",
       "2   1538895260704821251  ✅ Resolvemos esta ECUACIÓN en 1 MINUTO de form...\n",
       "3   1538892886023888896  RT @ampol_moment: President Biden defines Amer...\n",
       "4   1538888958410629120   El milagro de la lluvia  https://t.co/6IpSNHrpO3\n",
       "..                  ...                                                ...\n",
       "95  1538874798104788992  ✅ Moderate Internet #outage ended: #CenturyLin...\n",
       "96  1538874786000130048  ✅ Moderate Internet #outage ended: #CenturyLin...\n",
       "97  1538874776395124737  🆗 Moderate Internet #outage ended: #SpectrumBu...\n",
       "98  1538874765179502592  🆙 Moderate Internet #outage ended: #CenturyLin...\n",
       "99  1538874754978938880  🆗 Moderate Internet #outage ended: #Spectrum i...\n",
       "\n",
       "[100 rows x 2 columns]"
      ]
     },
     "execution_count": 8,
     "metadata": {},
     "output_type": "execute_result"
    }
   ],
   "source": [
    "df = pd.json_normalize(public_tweets_data)\n",
    "df"
   ]
  }
 ],
 "metadata": {
  "kernelspec": {
   "display_name": "Python 3.8.13 64-bit ('3.8.13')",
   "language": "python",
   "name": "python3"
  },
  "language_info": {
   "codemirror_mode": {
    "name": "ipython",
    "version": 3
   },
   "file_extension": ".py",
   "mimetype": "text/x-python",
   "name": "python",
   "nbconvert_exporter": "python",
   "pygments_lexer": "ipython3",
   "version": "3.8.13"
  },
  "orig_nbformat": 4,
  "vscode": {
   "interpreter": {
    "hash": "110cc1dee26208153f2972f08a2ad52b6a56238dc66d48e87fb757ef2996db56"
   }
  }
 },
 "nbformat": 4,
 "nbformat_minor": 2
}
