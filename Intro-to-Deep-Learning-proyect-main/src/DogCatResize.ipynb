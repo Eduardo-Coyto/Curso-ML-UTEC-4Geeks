{
 "cells": [
  {
   "cell_type": "code",
   "execution_count": 1,
   "metadata": {},
   "outputs": [
    {
     "name": "stderr",
     "output_type": "stream",
     "text": [
      "\"pip\" no se reconoce como un comando interno o externo,\n",
      "programa o archivo por lotes ejecutable.\n"
     ]
    }
   ],
   "source": [
    "!pip instal -r requirements.txt"
   ]
  },
  {
   "cell_type": "code",
   "execution_count": 8,
   "metadata": {},
   "outputs": [
    {
     "name": "stdout",
     "output_type": "stream",
     "text": [
      "Collecting opencv-python\n",
      "  Downloading opencv_python-4.6.0.66-cp36-abi3-win_amd64.whl (35.6 MB)\n",
      "     --------------------------------------- 35.6/35.6 MB 14.9 MB/s eta 0:00:00\n",
      "Collecting numpy>=1.17.3\n",
      "  Downloading numpy-1.23.1-cp310-cp310-win_amd64.whl (14.6 MB)\n",
      "     --------------------------------------- 14.6/14.6 MB 16.0 MB/s eta 0:00:00\n",
      "Installing collected packages: numpy, opencv-python\n",
      "Successfully installed numpy-1.23.1 opencv-python-4.6.0.66\n",
      "Note: you may need to restart the kernel to use updated packages.\n"
     ]
    },
    {
     "name": "stderr",
     "output_type": "stream",
     "text": [
      "  WARNING: The script f2py.exe is installed in 'c:\\Users\\eduar\\AppData\\Local\\Programs\\Python\\Python310\\Scripts' which is not on PATH.\n",
      "  Consider adding this directory to PATH or, if you prefer to suppress this warning, use --no-warn-script-location.\n",
      "WARNING: You are using pip version 22.0.4; however, version 22.2.2 is available.\n",
      "You should consider upgrading via the 'c:\\Users\\eduar\\AppData\\Local\\Programs\\Python\\Python310\\python.exe -m pip install --upgrade pip' command.\n"
     ]
    }
   ],
   "source": [
    "%pip install opencv-python\n"
   ]
  },
  {
   "cell_type": "code",
   "execution_count": 9,
   "metadata": {},
   "outputs": [],
   "source": [
    "import cv2\n",
    "import glob\n",
    "import os\n",
    "from zipfile import ZipFile\n"
   ]
  },
  {
   "cell_type": "code",
   "execution_count": 1,
   "metadata": {},
   "outputs": [],
   "source": [
    "# This routine comes from:\n",
    "# https://medium.com/@basit.javed.awan/resizing-multiple-images-and-saving-them-using-opencv-518f385c28d3\n",
    "# The strategy is to create a destiny folder, and deposit each resized file into it\n",
    "# You can select files using for img in glob.glob(inputfolder + \"/*.jpg\")\n",
    "# https://docs.python.org/3/library/glob.html\n",
    "# Then to zip our resized files and manually save into Google Drive\n",
    "# https://thecodinginterface.com/blog/python-zip-compression-extraction/\n",
    "# Original dataset: https://www.microsoft.com/en-us/download/details.aspx?id=54765"
   ]
  },
  {
   "cell_type": "code",
   "execution_count": 10,
   "metadata": {},
   "outputs": [
    {
     "name": "stdout",
     "output_type": "stream",
     "text": [
      "Error in image ./Cat/10125.jpg\n",
      "Error in image ./Cat/10404.jpg\n",
      "Error in image ./Cat/10501.jpg\n",
      "Error in image ./Cat/10820.jpg\n",
      "Error in image ./Cat/11210.jpg\n",
      "Error in image ./Cat/11565.jpg\n",
      "Error in image ./Cat/11874.jpg\n",
      "Error in image ./Cat/11935.jpg\n",
      "Error in image ./Cat/140.jpg\n",
      "Error in image ./Cat/2663.jpg\n",
      "Error in image ./Cat/3300.jpg\n",
      "Error in image ./Cat/3491.jpg\n",
      "Error in image ./Cat/4833.jpg\n",
      "Error in image ./Cat/5553.jpg\n",
      "Error in image ./Cat/660.jpg\n",
      "Error in image ./Cat/666.jpg\n",
      "Error in image ./Cat/7968.jpg\n",
      "Error in image ./Cat/7978.jpg\n",
      "Error in image ./Cat/8470.jpg\n",
      "Error in image ./Cat/850.jpg\n",
      "Error in image ./Cat/9171.jpg\n",
      "Error in image ./Cat/936.jpg\n",
      "Error in image ./Cat/9565.jpg\n",
      "Error in image ./Cat/9778.jpg\n",
      "Error in image ./Cat/Thumbs.db\n",
      "Processed images:12476\n"
     ]
    }
   ],
   "source": [
    "os.mkdir('ResizedCat')\n",
    "i = 0\n",
    "images = os.listdir('./Cat')\n",
    "list_images = [f'./Cat/{file_name}' for file_name in images]\n",
    "for img in list_images:\n",
    "    image = cv2.imread(img)\n",
    "    try:\n",
    "        img_resized = cv2.resize(image,(200,200))\n",
    "        cv2.imwrite('ResizedCat/image%04i.jpg' %i, img_resized)\n",
    "        i += 1\n",
    "    except:\n",
    "        print(f'Error in image {img}')\n",
    "print(f'Processed images:{i}')"
   ]
  },
  {
   "cell_type": "code",
   "execution_count": 11,
   "metadata": {},
   "outputs": [
    {
     "name": "stdout",
     "output_type": "stream",
     "text": [
      "Error in image ./Dog/10158.jpg\n",
      "Error in image ./Dog/10401.jpg\n",
      "Error in image ./Dog/10747.jpg\n",
      "Error in image ./Dog/10797.jpg\n",
      "Error in image ./Dog/11410.jpg\n",
      "Error in image ./Dog/11675.jpg\n",
      "Error in image ./Dog/11702.jpg\n",
      "Error in image ./Dog/11849.jpg\n",
      "Error in image ./Dog/11853.jpg\n",
      "Error in image ./Dog/1308.jpg\n",
      "Error in image ./Dog/1866.jpg\n",
      "Error in image ./Dog/2384.jpg\n",
      "Error in image ./Dog/2688.jpg\n",
      "Error in image ./Dog/2877.jpg\n",
      "Error in image ./Dog/3136.jpg\n",
      "Error in image ./Dog/3288.jpg\n",
      "Error in image ./Dog/3588.jpg\n",
      "Error in image ./Dog/4367.jpg\n",
      "Error in image ./Dog/5604.jpg\n",
      "Error in image ./Dog/5736.jpg\n",
      "Error in image ./Dog/6059.jpg\n",
      "Error in image ./Dog/6238.jpg\n",
      "Error in image ./Dog/6718.jpg\n",
      "Error in image ./Dog/7112.jpg\n",
      "Error in image ./Dog/7133.jpg\n",
      "Error in image ./Dog/7369.jpg\n",
      "Error in image ./Dog/7459.jpg\n",
      "Error in image ./Dog/7969.jpg\n",
      "Error in image ./Dog/8730.jpg\n",
      "Error in image ./Dog/9188.jpg\n",
      "Error in image ./Dog/Thumbs.db\n",
      "Processed images:12470\n"
     ]
    }
   ],
   "source": [
    "os.mkdir('ResizedDog')\n",
    "i = 0\n",
    "images = os.listdir('./Dog')\n",
    "list_images = [f'./Dog/{file_name}' for file_name in images]\n",
    "for img in list_images:\n",
    "    image = cv2.imread(img)\n",
    "    try:\n",
    "        img_resized = cv2.resize(image,(200,200))\n",
    "        cv2.imwrite('ResizedDog/image%04i.jpg' %i, img_resized)\n",
    "        i += 1\n",
    "    except:\n",
    "        print(f'Error in image {img}')\n",
    "print(f'Processed images:{i}')"
   ]
  },
  {
   "cell_type": "code",
   "execution_count": 80,
   "metadata": {},
   "outputs": [],
   "source": [
    "cat_files = glob.glob('ResizedCat/*.jpg')\n",
    "dog_files = glob.glob('ResizedDog/*.jpg')"
   ]
  },
  {
   "cell_type": "code",
   "execution_count": 81,
   "metadata": {},
   "outputs": [],
   "source": [
    "with ZipFile('Cat.zip', mode='w') as zf:\n",
    "    for f in cat_files:\n",
    "        zf.write(f)\n",
    "\n",
    "with ZipFile('Dog.zip', mode='w') as zf:\n",
    "    for f in dog_files:\n",
    "        zf.write(f)"
   ]
  },
  {
   "cell_type": "code",
   "execution_count": null,
   "metadata": {},
   "outputs": [],
   "source": [
    "# I have the zip files available in my drive\n",
    "# Dogs: https://drive.google.com/file/d/1sdF4Bq5UiGWolomYwoQkC07VmbhxDUQZ/view?usp=sharing\n",
    "# Cats: https://drive.google.com/file/d/1dTNU2ENwNyEP91QU5w9K5nexfJIK829s/view?usp=sharing\n",
    "\n",
    "# That's all folks"
   ]
  }
 ],
 "metadata": {
  "interpreter": {
   "hash": "52cf93b3245c947d64d0217858e618f9641697b5c808500ce60698e2564fce2d"
  },
  "kernelspec": {
   "display_name": "Python 3.10.4 64-bit",
   "language": "python",
   "name": "python3"
  },
  "language_info": {
   "codemirror_mode": {
    "name": "ipython",
    "version": 3
   },
   "file_extension": ".py",
   "mimetype": "text/x-python",
   "name": "python",
   "nbconvert_exporter": "python",
   "pygments_lexer": "ipython3",
   "version": "3.10.4"
  },
  "orig_nbformat": 4,
  "vscode": {
   "interpreter": {
    "hash": "bc7f7a2d7b5a13e1df9879b693cf35a001b0abe7ad7fabfa2efe5a3b8907473a"
   }
  }
 },
 "nbformat": 4,
 "nbformat_minor": 2
}
